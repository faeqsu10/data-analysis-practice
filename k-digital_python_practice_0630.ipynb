{
  "nbformat": 4,
  "nbformat_minor": 0,
  "metadata": {
    "colab": {
      "provenance": [],
      "authorship_tag": "ABX9TyMykgVXkt85nO9Pv+Z3xcLL",
      "include_colab_link": true
    },
    "kernelspec": {
      "name": "python3",
      "display_name": "Python 3"
    },
    "language_info": {
      "name": "python"
    }
  },
  "cells": [
    {
      "cell_type": "markdown",
      "metadata": {
        "id": "view-in-github",
        "colab_type": "text"
      },
      "source": [
        "<a href=\"https://colab.research.google.com/github/faeqsu10/data-analysis-practice/blob/main/k-digital_python_practice_0630.ipynb\" target=\"_parent\"><img src=\"https://colab.research.google.com/assets/colab-badge.svg\" alt=\"Open In Colab\"/></a>"
      ]
    },
    {
      "cell_type": "code",
      "execution_count": 35,
      "metadata": {
        "colab": {
          "base_uri": "https://localhost:8080/",
          "height": 35
        },
        "id": "pZsriQcOrdoo",
        "outputId": "d7a5aabd-b4af-4caf-a26c-906098dd8311"
      },
      "outputs": [
        {
          "output_type": "execute_result",
          "data": {
            "text/plain": [
              "'i ate apple for 4 days 6'"
            ],
            "application/vnd.google.colaboratory.intrinsic+json": {
              "type": "string"
            }
          },
          "metadata": {},
          "execution_count": 35
        }
      ],
      "source": [
        "# 문자열 포맷팅을 왜 써야하는지를 이해해야함\n",
        "apple = 4\n",
        "days = 6\n",
        "\"i ate {0} apple for {1} days.\".format(apple, days)"
      ]
    },
    {
      "cell_type": "code",
      "source": [
        "f\"i ate {apple} apple for {days} days.\""
      ],
      "metadata": {
        "colab": {
          "base_uri": "https://localhost:8080/",
          "height": 35
        },
        "id": "c0Vc0iPn3mhT",
        "outputId": "36b1db03-1f30-43eb-809e-322bbe0c012a"
      },
      "execution_count": 37,
      "outputs": [
        {
          "output_type": "execute_result",
          "data": {
            "text/plain": [
              "'i ate 4 apple for 6 days.'"
            ],
            "application/vnd.google.colaboratory.intrinsic+json": {
              "type": "string"
            }
          },
          "metadata": {},
          "execution_count": 37
        }
      ]
    },
    {
      "cell_type": "code",
      "source": [
        "float_a = 10.1234\n",
        "float_b = 10.123456\n",
        "\n",
        "print(\"model a = {0:.3}, model b = {1:.5}\".format(float_a, float_b))\n",
        "print(\"model a = {0:.3f}, model b = {1:.5f}\".format(float_a, float_b))\n",
        "print(\"model a = {0:.10f}, model b = {1:.10f}\".format(float_a, float_b))"
      ],
      "metadata": {
        "id": "-2yj-QV63yk3"
      },
      "execution_count": null,
      "outputs": []
    },
    {
      "cell_type": "code",
      "source": [
        "message = \"Hello, World\"\n",
        "message"
      ],
      "metadata": {
        "id": "eQrbnU328Qeb"
      },
      "execution_count": null,
      "outputs": []
    },
    {
      "cell_type": "code",
      "source": [
        "print(\"1.\", message[-3:-1])\n",
        "print(\"2.\", message[0:4])\n",
        "print(\"3.\", message[-3])\n",
        "print(\"4.\", message[-4])"
      ],
      "metadata": {
        "id": "XPz-jZnd9X77"
      },
      "execution_count": null,
      "outputs": []
    },
    {
      "cell_type": "code",
      "source": [
        "# replace() 함수를 적용한 message변수를 message변수에 넣어줘야 한다.\n",
        "if \"He\" in message:\n",
        "  message = message.replace(\"He\", \"Ee\")\n",
        "  print(message)"
      ],
      "metadata": {
        "id": "MNavNqTh9bzo"
      },
      "execution_count": 80,
      "outputs": []
    },
    {
      "cell_type": "code",
      "source": [
        "# 문자열에 추가는 + 를 사용\n",
        "# 리스트에 추가는 .append() 를 사용\n",
        "# 리스트에 값 제거는 odd.pop() 사용 (맨 끝에꺼)\n",
        "# del odd[]\n",
        "# odd.remove()\n",
        "# .sort() #오름차순 기본정렬\n",
        "# .sort(reverse=True) # 역순정렬\n",
        "# odd = odd + [1,2,3] #여러개 추가시  #하나씩 추가식은 .append()"
      ],
      "metadata": {
        "id": "qc-QgyTO-CLB"
      },
      "execution_count": 81,
      "outputs": []
    },
    {
      "cell_type": "code",
      "source": [
        "# call by reference (리스트형)\n",
        "a=[1,2,3,4]\n",
        "\n",
        "b=a\n",
        "b[0]=100\n",
        "\n",
        "print(a)\n",
        "print(b)\n",
        "\n",
        "print(id(a))\n",
        "print(id(b))"
      ],
      "metadata": {
        "id": "zF6qCA_9AkT7"
      },
      "execution_count": null,
      "outputs": []
    },
    {
      "cell_type": "code",
      "source": [
        "a = [1,2,3,4]\n",
        "b = a.copy()\n",
        "b[0] = 100\n",
        "\n",
        "print(a)\n",
        "print(b)\n"
      ],
      "metadata": {
        "id": "qvlrJYIWDFLC"
      },
      "execution_count": null,
      "outputs": []
    },
    {
      "cell_type": "code",
      "source": [
        "#list형이 아닐경우 call by reference 발생하지 않음(call by value)\n",
        "a = 200\n",
        "b = a\n",
        "print(id(a))\n",
        "print(id(b))\n",
        "b = 300\n",
        "print(a)\n",
        "print(b)\n",
        "print(id(a))\n",
        "print(id(b))"
      ],
      "metadata": {
        "id": "-roC8E_TDtN7"
      },
      "execution_count": null,
      "outputs": []
    },
    {
      "cell_type": "code",
      "source": [
        "basket = [\"apple\", \"banana\", \"cherry\", \"pineapple\"]\n",
        "for i in basket:\n",
        "  print(i)"
      ],
      "metadata": {
        "id": "zGyg87htEjBQ"
      },
      "execution_count": null,
      "outputs": []
    },
    {
      "cell_type": "code",
      "source": [
        "for i in range(1,10+1,2):\n",
        "  print(i)"
      ],
      "metadata": {
        "id": "ku7Oi_hTLKrq"
      },
      "execution_count": null,
      "outputs": []
    },
    {
      "cell_type": "code",
      "source": [
        "for i in range(1,10):\n",
        "  if i == 2:\n",
        "    continue\n",
        "  elif i == 5:\n",
        "    continue\n",
        "  elif i == 8:\n",
        "    print(i)\n",
        "    break\n",
        "  print(i)"
      ],
      "metadata": {
        "id": "1SH1pLPDLQXZ"
      },
      "execution_count": null,
      "outputs": []
    },
    {
      "cell_type": "code",
      "source": [
        "# age < 10 / 19 > age >= 10 / age >= 19\n",
        "age = 30"
      ],
      "metadata": {
        "id": "aYWPCj3TLqn5"
      },
      "execution_count": 113,
      "outputs": []
    },
    {
      "cell_type": "code",
      "source": [
        "if age < 10:\n",
        "    print(\"어린학생\")\n",
        "#if ~ elif 는 위에서부터 차례대로 검사하는데,\n",
        "#위에서 참이 나오면 참인 명령만 실행하고 끝남.\n",
        "#elif 도 else와 마찬가지로 앞에 if 가 있어야 사용할 수 있음.\n",
        "#elif 는 else와 다르게 여러개 사용할 수 있음.\n",
        "elif age < 19:\n",
        "    print(\"학생\")\n",
        "else:\n",
        "    print(\"일반인\")"
      ],
      "metadata": {
        "id": "3TMGzpSmNsSK"
      },
      "execution_count": null,
      "outputs": []
    },
    {
      "cell_type": "code",
      "source": [
        "# 리스트 슬라이싱 => [start:end:sep] 형태로 사용\n",
        "a=[1,2,3,4,5,6,7,8,9,10]\n",
        "print(a[3::2])"
      ],
      "metadata": {
        "id": "YIt6OGV1NtEq"
      },
      "execution_count": null,
      "outputs": []
    },
    {
      "cell_type": "code",
      "source": [
        "#함수\n",
        "def multiply(a, b):\n",
        "\n",
        "    c = a * b\n",
        "\n",
        "    return c"
      ],
      "metadata": {
        "id": "Aneh8Gn9OyPS"
      },
      "execution_count": 120,
      "outputs": []
    },
    {
      "cell_type": "code",
      "source": [
        "multiply(2, 3)"
      ],
      "metadata": {
        "colab": {
          "base_uri": "https://localhost:8080/"
        },
        "id": "C4h4EUUOQVfq",
        "outputId": "e9cf2508-e913-4a43-880e-4618847ac065"
      },
      "execution_count": 121,
      "outputs": [
        {
          "output_type": "execute_result",
          "data": {
            "text/plain": [
              "6"
            ]
          },
          "metadata": {},
          "execution_count": 121
        }
      ]
    },
    {
      "cell_type": "code",
      "source": [
        "multiply(3, 4)"
      ],
      "metadata": {
        "colab": {
          "base_uri": "https://localhost:8080/"
        },
        "id": "L3lyNBbdQgrS",
        "outputId": "8f720ded-1eee-40d7-b6b7-b43681294f83"
      },
      "execution_count": 122,
      "outputs": [
        {
          "output_type": "execute_result",
          "data": {
            "text/plain": [
              "12"
            ]
          },
          "metadata": {},
          "execution_count": 122
        }
      ]
    },
    {
      "cell_type": "code",
      "source": [
        "# 파이썬 자료형 종류 리뷰\n",
        "# 1) 숫자형\n",
        "# 1, 2, 3, 0, -1, -5, 3.14\n",
        "\n",
        "# 2) Boolean\n",
        "# True, False\n",
        "\n",
        "# 3) 문자열\n",
        "# \"Hello\", \"메가IT\", '빅데이터'\n",
        "\n",
        "# 4) 리스트 List\n",
        "# [], [1,3,5], [\"홍\", \"길\", \"동\"]\n",
        "\n",
        "# 5) 튜플 Tuple\n",
        "# (), (1,3,5)\n",
        "\n",
        "# 6) 사전 Dictionary\n",
        "# {key1 : value1}, {\"이름\":\"서현경\", \"성별\":\"남자\"}\n",
        "\n",
        "# 7) 집합 Set\n",
        "# {}, set([1,3,5]), set(\"Hello\")"
      ],
      "metadata": {
        "id": "fhzAum6DQmWR"
      },
      "execution_count": 123,
      "outputs": []
    },
    {
      "cell_type": "code",
      "source": [
        "# 연습 1.\n",
        "\n",
        "# 1. 루프를 1부터 10까지 반복합니다. (=i에는 1부터 10까지의 값이 반복해서 들어갑니다)\n",
        "# 2. i를 그대로 출력하지 않고, 두 배로 늘려서 출력합니다. (i * 2)\n",
        "# 3. 반복문 안에서 출력하지 않고, 반복문 안에서 값을 모아뒀다가 반복문이 끝나면 밖에서 출력합니다.\n",
        "#    이를 위해서는 빈 리스트를 만든 뒤(double_list = []), 리스트의 .append 기능을 사용해서 값을 집어넣습니다.\n",
        "# 4. 여기서 i가 5일 경우는 반복을 한 번만 skip하고 다음 반복(i가 6일 경우)을 재시작합니다.\n",
        "# 5. 그리고 i가 8일 경우는 반복문을 강제로 종료시킵니다."
      ],
      "metadata": {
        "id": "du8A9XhSREvE"
      },
      "execution_count": 124,
      "outputs": []
    },
    {
      "cell_type": "code",
      "source": [
        "# 1. 루프를 1부터 10까지 반복합니다. (=i에는 1부터 10까지의 값이 반복해서 들어갑니다)\n",
        "\n",
        "val = [1,2,3,4,5,6,7,8,9,10]\n",
        "for i in val:\n",
        "  print(i, end = \" \")"
      ],
      "metadata": {
        "colab": {
          "base_uri": "https://localhost:8080/"
        },
        "id": "hp_S7HudR78K",
        "outputId": "a9b12436-b1c2-4951-be39-e4bf8fc92a3a"
      },
      "execution_count": 127,
      "outputs": [
        {
          "output_type": "stream",
          "name": "stdout",
          "text": [
            "1 2 3 4 5 6 7 8 9 10 "
          ]
        }
      ]
    },
    {
      "cell_type": "code",
      "source": [
        "# 2. i를 그대로 출력하지 않고, 두 배로 늘려서 출력합니다. (i * 2)\n",
        "\n",
        "val = [1,2,3,4,5,6,7,8,9,10]\n",
        "for i in val:\n",
        "  print(i*2, end = \" \")"
      ],
      "metadata": {
        "colab": {
          "base_uri": "https://localhost:8080/"
        },
        "id": "hG4ARv06SItq",
        "outputId": "55007bb4-e54c-4f23-c8ab-893dcbc7e47f"
      },
      "execution_count": 130,
      "outputs": [
        {
          "output_type": "stream",
          "name": "stdout",
          "text": [
            "2 4 6 8 10 12 14 16 18 20 "
          ]
        }
      ]
    },
    {
      "cell_type": "code",
      "source": [
        "# 3. 반복문 안에서 출력하지 않고, 반복문 안에서 값을 모아뒀다가 반복문이 끝나면 밖에서 출력합니다.\n",
        "#    이를 위해서는 빈 리스트를 만든 뒤(double_list = []), 리스트의 .append 기능을 사용해서 값을 집어넣습니다.\n",
        "\n",
        "val = [1,2,3,4,5,6,7,8,9,10]\n",
        "\n",
        "double_list = []\n",
        "for i in val:\n",
        "  i *= 2\n",
        "  double_list.append(i)\n",
        "print(double_list)"
      ],
      "metadata": {
        "colab": {
          "base_uri": "https://localhost:8080/"
        },
        "id": "krCZYTjISa9x",
        "outputId": "a70507b2-49da-4bca-8018-35b3a2e0e290"
      },
      "execution_count": 133,
      "outputs": [
        {
          "output_type": "stream",
          "name": "stdout",
          "text": [
            "[2, 4, 6, 8, 10, 12, 14, 16, 18, 20]\n"
          ]
        }
      ]
    },
    {
      "cell_type": "code",
      "source": [
        "# 4. 여기서 i가 5일 경우는 반복을 한 번만 skip하고 다음 반복(i가 6일 경우)을 재시작합니다.\n",
        "for i in val:\n",
        "  if i == 5 :\n",
        "    continue\n",
        "  print(i, end=\" \")\n"
      ],
      "metadata": {
        "colab": {
          "base_uri": "https://localhost:8080/"
        },
        "id": "LZOy9b9sTFOM",
        "outputId": "96877bb1-fceb-4ba1-cb26-659f7108de03"
      },
      "execution_count": 136,
      "outputs": [
        {
          "output_type": "stream",
          "name": "stdout",
          "text": [
            "1 2 3 4 6 7 8 9 10 "
          ]
        }
      ]
    },
    {
      "cell_type": "code",
      "source": [
        "# 5. 그리고 i가 8일 경우는 반복문을 강제로 종료시킵니다.\n",
        "for i in val:\n",
        "  if i == 5 :\n",
        "    continue\n",
        "  elif i == 8 :\n",
        "    print(i)\n",
        "    break\n",
        "  print(i, end=\" \")"
      ],
      "metadata": {
        "colab": {
          "base_uri": "https://localhost:8080/"
        },
        "id": "_vGu4ilHTaMi",
        "outputId": "26fd18e8-4444-4cbd-ccb8-6eeef43d9aab"
      },
      "execution_count": 140,
      "outputs": [
        {
          "output_type": "stream",
          "name": "stdout",
          "text": [
            "1 2 3 4 6 7 8\n"
          ]
        }
      ]
    },
    {
      "cell_type": "code",
      "source": [
        "# 연습 2. 점수 채점하기\n",
        "\n",
        "# 총 12명의 레벨테스트 점수가 파이썬의 리스트(List)로 담겨져 있고,\n",
        "# 이를 score라는 이름의 변수에 할당하였습니다.\n",
        "\n",
        "# score = [80, 60, 70, 50, 100, 95, 40, 75, 90, 65, 90, 100]\n",
        "\n",
        "# 이 score 변수에 담겨져 있는 값을 활용하여 아래 문제를 풀어보세요."
      ],
      "metadata": {
        "id": "x39owvUWT5Ls"
      },
      "execution_count": 141,
      "outputs": []
    },
    {
      "cell_type": "code",
      "source": [
        "# 전체 점수의 평균을 구하는 코드를 작성해보세요.\n",
        "score = [80, 60, 70, 50, 100, 95, 40, 75, 90, 65, 90, 100]\n",
        "\n",
        "# 방법1\n",
        "s=0\n",
        "for i in score :\n",
        "  s = s + i\n",
        "avr = s / len(score)\n",
        "print(\"점수합:\", s)\n",
        "print(\"평균점수:\", avr)\n"
      ],
      "metadata": {
        "colab": {
          "base_uri": "https://localhost:8080/"
        },
        "id": "gcqx6VTpW7JT",
        "outputId": "6ed9cc03-a9b3-4e73-d4eb-c7c46c8db532"
      },
      "execution_count": 6,
      "outputs": [
        {
          "output_type": "stream",
          "name": "stdout",
          "text": [
            "점수합: 915\n",
            "평균점수: 76.25\n"
          ]
        }
      ]
    },
    {
      "cell_type": "code",
      "source": [
        "# 방법2\n",
        "score = [80, 60, 70, 50, 100, 95, 40, 75, 90, 65, 90, 100]\n",
        "\n",
        "count = 0\n",
        "total = 0\n",
        "\n",
        "for i in score :\n",
        "  count = count + 1\n",
        "  total = total + i\n",
        "  print(count, i, total)\n",
        "\n",
        "print(\"평균값 : \", total / count)"
      ],
      "metadata": {
        "colab": {
          "base_uri": "https://localhost:8080/"
        },
        "id": "vwPu3Bc09Vcl",
        "outputId": "9227a4e5-be41-4960-afbc-afc9cb875de5"
      },
      "execution_count": 278,
      "outputs": [
        {
          "output_type": "stream",
          "name": "stdout",
          "text": [
            "1 80 80\n",
            "2 60 140\n",
            "3 70 210\n",
            "4 50 260\n",
            "5 100 360\n",
            "6 95 455\n",
            "7 40 495\n",
            "8 75 570\n",
            "9 90 660\n",
            "10 65 725\n",
            "11 90 815\n",
            "12 100 915\n",
            "평균값 :  76.25\n"
          ]
        }
      ]
    },
    {
      "cell_type": "code",
      "source": [
        "# 방법3\n",
        "\n",
        "score = [80, 60, 70, 50, 100, 95, 40, 75, 90, 65, 90, 100]\n",
        "\n",
        "Score_mean = sum(score) / len(score)\n",
        "print(Score_mean)"
      ],
      "metadata": {
        "colab": {
          "base_uri": "https://localhost:8080/"
        },
        "id": "NgtQtLpgBF81",
        "outputId": "28047400-6a66-44bb-fc23-1c3d54e60056"
      },
      "execution_count": 5,
      "outputs": [
        {
          "output_type": "stream",
          "name": "stdout",
          "text": [
            "76.25\n"
          ]
        }
      ]
    },
    {
      "cell_type": "code",
      "source": [
        "# 방법4\n",
        "score = [80, 60, 70, 50, 100, 95, 40, 75, 90, 65, 90, 100]\n",
        "import pandas as pd\n",
        "pd.DataFrame(score).describe()"
      ],
      "metadata": {
        "colab": {
          "base_uri": "https://localhost:8080/",
          "height": 278
        },
        "id": "RYMmsCylBYyk",
        "outputId": "8e944310-b16f-4074-d199-a460ad524b74"
      },
      "execution_count": 261,
      "outputs": [
        {
          "output_type": "execute_result",
          "data": {
            "text/plain": [
              "                0\n",
              "count   12.000000\n",
              "mean    76.250000\n",
              "std     19.785785\n",
              "min     40.000000\n",
              "25%     63.750000\n",
              "50%     77.500000\n",
              "75%     91.250000\n",
              "max    100.000000"
            ],
            "text/html": [
              "\n",
              "  <div id=\"df-d5fbfedd-ed13-4f33-aade-fcd1b595fdfa\">\n",
              "    <div class=\"colab-df-container\">\n",
              "      <div>\n",
              "<style scoped>\n",
              "    .dataframe tbody tr th:only-of-type {\n",
              "        vertical-align: middle;\n",
              "    }\n",
              "\n",
              "    .dataframe tbody tr th {\n",
              "        vertical-align: top;\n",
              "    }\n",
              "\n",
              "    .dataframe thead th {\n",
              "        text-align: right;\n",
              "    }\n",
              "</style>\n",
              "<table border=\"1\" class=\"dataframe\">\n",
              "  <thead>\n",
              "    <tr style=\"text-align: right;\">\n",
              "      <th></th>\n",
              "      <th>0</th>\n",
              "    </tr>\n",
              "  </thead>\n",
              "  <tbody>\n",
              "    <tr>\n",
              "      <th>count</th>\n",
              "      <td>12.000000</td>\n",
              "    </tr>\n",
              "    <tr>\n",
              "      <th>mean</th>\n",
              "      <td>76.250000</td>\n",
              "    </tr>\n",
              "    <tr>\n",
              "      <th>std</th>\n",
              "      <td>19.785785</td>\n",
              "    </tr>\n",
              "    <tr>\n",
              "      <th>min</th>\n",
              "      <td>40.000000</td>\n",
              "    </tr>\n",
              "    <tr>\n",
              "      <th>25%</th>\n",
              "      <td>63.750000</td>\n",
              "    </tr>\n",
              "    <tr>\n",
              "      <th>50%</th>\n",
              "      <td>77.500000</td>\n",
              "    </tr>\n",
              "    <tr>\n",
              "      <th>75%</th>\n",
              "      <td>91.250000</td>\n",
              "    </tr>\n",
              "    <tr>\n",
              "      <th>max</th>\n",
              "      <td>100.000000</td>\n",
              "    </tr>\n",
              "  </tbody>\n",
              "</table>\n",
              "</div>\n",
              "      <button class=\"colab-df-convert\" onclick=\"convertToInteractive('df-d5fbfedd-ed13-4f33-aade-fcd1b595fdfa')\"\n",
              "              title=\"Convert this dataframe to an interactive table.\"\n",
              "              style=\"display:none;\">\n",
              "        \n",
              "  <svg xmlns=\"http://www.w3.org/2000/svg\" height=\"24px\"viewBox=\"0 0 24 24\"\n",
              "       width=\"24px\">\n",
              "    <path d=\"M0 0h24v24H0V0z\" fill=\"none\"/>\n",
              "    <path d=\"M18.56 5.44l.94 2.06.94-2.06 2.06-.94-2.06-.94-.94-2.06-.94 2.06-2.06.94zm-11 1L8.5 8.5l.94-2.06 2.06-.94-2.06-.94L8.5 2.5l-.94 2.06-2.06.94zm10 10l.94 2.06.94-2.06 2.06-.94-2.06-.94-.94-2.06-.94 2.06-2.06.94z\"/><path d=\"M17.41 7.96l-1.37-1.37c-.4-.4-.92-.59-1.43-.59-.52 0-1.04.2-1.43.59L10.3 9.45l-7.72 7.72c-.78.78-.78 2.05 0 2.83L4 21.41c.39.39.9.59 1.41.59.51 0 1.02-.2 1.41-.59l7.78-7.78 2.81-2.81c.8-.78.8-2.07 0-2.86zM5.41 20L4 18.59l7.72-7.72 1.47 1.35L5.41 20z\"/>\n",
              "  </svg>\n",
              "      </button>\n",
              "      \n",
              "  <style>\n",
              "    .colab-df-container {\n",
              "      display:flex;\n",
              "      flex-wrap:wrap;\n",
              "      gap: 12px;\n",
              "    }\n",
              "\n",
              "    .colab-df-convert {\n",
              "      background-color: #E8F0FE;\n",
              "      border: none;\n",
              "      border-radius: 50%;\n",
              "      cursor: pointer;\n",
              "      display: none;\n",
              "      fill: #1967D2;\n",
              "      height: 32px;\n",
              "      padding: 0 0 0 0;\n",
              "      width: 32px;\n",
              "    }\n",
              "\n",
              "    .colab-df-convert:hover {\n",
              "      background-color: #E2EBFA;\n",
              "      box-shadow: 0px 1px 2px rgba(60, 64, 67, 0.3), 0px 1px 3px 1px rgba(60, 64, 67, 0.15);\n",
              "      fill: #174EA6;\n",
              "    }\n",
              "\n",
              "    [theme=dark] .colab-df-convert {\n",
              "      background-color: #3B4455;\n",
              "      fill: #D2E3FC;\n",
              "    }\n",
              "\n",
              "    [theme=dark] .colab-df-convert:hover {\n",
              "      background-color: #434B5C;\n",
              "      box-shadow: 0px 1px 3px 1px rgba(0, 0, 0, 0.15);\n",
              "      filter: drop-shadow(0px 1px 2px rgba(0, 0, 0, 0.3));\n",
              "      fill: #FFFFFF;\n",
              "    }\n",
              "  </style>\n",
              "\n",
              "      <script>\n",
              "        const buttonEl =\n",
              "          document.querySelector('#df-d5fbfedd-ed13-4f33-aade-fcd1b595fdfa button.colab-df-convert');\n",
              "        buttonEl.style.display =\n",
              "          google.colab.kernel.accessAllowed ? 'block' : 'none';\n",
              "\n",
              "        async function convertToInteractive(key) {\n",
              "          const element = document.querySelector('#df-d5fbfedd-ed13-4f33-aade-fcd1b595fdfa');\n",
              "          const dataTable =\n",
              "            await google.colab.kernel.invokeFunction('convertToInteractive',\n",
              "                                                     [key], {});\n",
              "          if (!dataTable) return;\n",
              "\n",
              "          const docLinkHtml = 'Like what you see? Visit the ' +\n",
              "            '<a target=\"_blank\" href=https://colab.research.google.com/notebooks/data_table.ipynb>data table notebook</a>'\n",
              "            + ' to learn more about interactive tables.';\n",
              "          element.innerHTML = '';\n",
              "          dataTable['output_type'] = 'display_data';\n",
              "          await google.colab.output.renderOutput(dataTable, element);\n",
              "          const docLink = document.createElement('div');\n",
              "          docLink.innerHTML = docLinkHtml;\n",
              "          element.appendChild(docLink);\n",
              "        }\n",
              "      </script>\n",
              "    </div>\n",
              "  </div>\n",
              "  "
            ]
          },
          "metadata": {},
          "execution_count": 261
        }
      ]
    },
    {
      "cell_type": "code",
      "source": [
        "# 전체 점수 중 가장 높은 점수를 구하는 코드를 작성해보세요.\n",
        "score = [80, 60, 70, 50, 100, 95, 40, 75, 90, 65, 90, 100]\n",
        "\n",
        "# 방법1\n",
        "a = max(score)\n",
        "print(\"가장 높은 점수\",a)\n",
        "\n",
        "#방법2\n"
      ],
      "metadata": {
        "colab": {
          "base_uri": "https://localhost:8080/"
        },
        "id": "edqUA3FRXLLr",
        "outputId": "5512ae7e-f6cb-4908-eda5-d7f2c913db3e"
      },
      "execution_count": 179,
      "outputs": [
        {
          "output_type": "stream",
          "name": "stdout",
          "text": [
            "가장 높은 점수 100\n"
          ]
        }
      ]
    },
    {
      "cell_type": "code",
      "source": [
        "# 전체 점수 중 가장 낮은 점수를 구하는 코드를 작성해보세요\n",
        "score = [80, 60, 70, 50, 100, 95, 40, 75, 90, 65, 90, 100]\n",
        "# 방법1\n",
        "a = min(score)\n",
        "print(\"가장 낮은 점수\",a)\n",
        "\n",
        "# 방법2"
      ],
      "metadata": {
        "colab": {
          "base_uri": "https://localhost:8080/"
        },
        "id": "3bok9pHxaLyj",
        "outputId": "b8956fa6-63f8-42ad-f51b-3943a43f8e0d"
      },
      "execution_count": 180,
      "outputs": [
        {
          "output_type": "stream",
          "name": "stdout",
          "text": [
            "가장 낮은 점수 40\n"
          ]
        }
      ]
    },
    {
      "cell_type": "code",
      "source": [
        "# 연습3. 함수 - 팩토리얼\n",
        "# 3! = 3 x 2 x 1 = 6\n",
        "# 4! = 4 x 3 x 2 x 1 = 24\n",
        "# 5! = 5 x 4 x 3 x 2 x 1 = 120\n",
        "\n",
        "#방법1.\n",
        "def fac(n):\n",
        "  result = 1\n",
        "  for i in range(1, n+1):\n",
        "    result = result * i\n",
        "    #print(\"n이 {0}일 때, 팩토리얼 결과 값은 {1} 입니다.\".format(i, result))\n",
        "  return result\n",
        "\n",
        "rslt = fac(5)\n",
        "print(rslt)"
      ],
      "metadata": {
        "colab": {
          "base_uri": "https://localhost:8080/"
        },
        "id": "Au9MrwFnb-GM",
        "outputId": "4f692b07-5be5-493c-cdb0-205d7346940e"
      },
      "execution_count": 268,
      "outputs": [
        {
          "output_type": "stream",
          "name": "stdout",
          "text": [
            "120\n"
          ]
        }
      ]
    },
    {
      "cell_type": "code",
      "source": [
        "#방법2.\n",
        "def factorial(n):\n",
        "  if n == 1:\n",
        "    return 1\n",
        "  else:\n",
        "    return n*factorial(n-1)\n",
        "x = factorial(4)\n",
        "print(x)"
      ],
      "metadata": {
        "colab": {
          "base_uri": "https://localhost:8080/"
        },
        "id": "q2eWcKBTC1_9",
        "outputId": "a230213d-4cf2-4139-9fcb-336cd965c1b4"
      },
      "execution_count": 273,
      "outputs": [
        {
          "output_type": "stream",
          "name": "stdout",
          "text": [
            "24\n"
          ]
        }
      ]
    },
    {
      "cell_type": "code",
      "source": [
        "# 2*fac(1)\n",
        "# 3*fac(2) = 3*2*1\n",
        "# 4*fac(3) = 4*3*2*1"
      ],
      "metadata": {
        "id": "TLvVgkJVD1t9"
      },
      "execution_count": 274,
      "outputs": []
    },
    {
      "cell_type": "code",
      "source": [
        "############################################"
      ],
      "metadata": {
        "id": "_hIvYuzzEOnO"
      },
      "execution_count": null,
      "outputs": []
    },
    {
      "cell_type": "code",
      "source": [
        "# 연습 4. 369게임\n",
        "# 1부터 시작해 숫자를 하나씩 센다.\n",
        "# 숫자에 3이나 6이나 9 배수일 경우 박수(clap)를 친다.\n",
        "# 지정한 최대 숫자까지 도달하면 프로그램을 종료한다."
      ],
      "metadata": {
        "id": "4Zq9FVWgc6r7"
      },
      "execution_count": null,
      "outputs": []
    },
    {
      "cell_type": "code",
      "source": [
        "def game369(n):\n",
        "  n = range(1,n+1)\n",
        "  for i in n :\n",
        "    if i % 3 == 0 or i % 6 == 0 or i % 9 == 0 :\n",
        "      print(\"clap\")\n",
        "    else :\n",
        "      print(i, end=' ')\n",
        "game369(100)"
      ],
      "metadata": {
        "colab": {
          "base_uri": "https://localhost:8080/"
        },
        "id": "T0zQru7mfEJj",
        "outputId": "f74f12cd-4013-4c25-cbb1-081623e18559"
      },
      "execution_count": 13,
      "outputs": [
        {
          "output_type": "stream",
          "name": "stdout",
          "text": [
            "1 2 clap\n",
            "4 5 clap\n",
            "7 8 clap\n",
            "10 11 clap\n",
            "13 14 clap\n",
            "16 17 clap\n",
            "19 20 clap\n",
            "22 23 clap\n",
            "25 26 clap\n",
            "28 29 clap\n",
            "31 32 clap\n",
            "34 35 clap\n",
            "37 38 clap\n",
            "40 41 clap\n",
            "43 44 clap\n",
            "46 47 clap\n",
            "49 50 clap\n",
            "52 53 clap\n",
            "55 56 clap\n",
            "58 59 clap\n",
            "61 62 clap\n",
            "64 65 clap\n",
            "67 68 clap\n",
            "70 71 clap\n",
            "73 74 clap\n",
            "76 77 clap\n",
            "79 80 clap\n",
            "82 83 clap\n",
            "85 86 clap\n",
            "88 89 clap\n",
            "91 92 clap\n",
            "94 95 clap\n",
            "97 98 clap\n",
            "100 "
          ]
        }
      ]
    },
    {
      "cell_type": "code",
      "source": [
        "def game369(n):\n",
        "  for i in range(1, n+1):\n",
        "    if i % 3 == 0:\n",
        "      print(\"clap\")\n",
        "    elif i % 6 == 0:\n",
        "      print(\"clap\")\n",
        "    elif i % 9 == 0:\n",
        "      print(\"clap\")\n",
        "    else:\n",
        "      print(i)\n",
        "game369(100)"
      ],
      "metadata": {
        "id": "AJHrLXM3f4eu"
      },
      "execution_count": null,
      "outputs": []
    },
    {
      "cell_type": "code",
      "source": [
        "def game369(finish):\n",
        "    # 1부터 finish까지 반복을 돌며, 매 번 반복하는 값을 n이라는 이름의 변수에 할당합니다.\n",
        "    for n in range(1, finish + 1):\n",
        "        # 여기가 이 프로그램의 핵심입니다. n을 문자열(텍스트)로 변환합니다.\n",
        "        # 가령 3은 \"3\"으로, 33은 \"33\"으로 변환합니다.\n",
        "        n_text = str(n)\n",
        "\n",
        "        # 텍스트로 된 n에 3이나 6이나 9가 있는지 체크합니다.\n",
        "        if \"3\" in n_text or \"6\" in n_text or \"9\" in n_text:\n",
        "            # 3, 6, 9가 있으면 박수를 칩니다.\n",
        "            print(\"clap!\")\n",
        "        else:\n",
        "            # 3, 6, 9가 없으면 숫자를 그대로 출력합니다.\n",
        "            print(n)\n",
        "game369(9)"
      ],
      "metadata": {
        "id": "Gx8pzMJlSG8O"
      },
      "execution_count": null,
      "outputs": []
    },
    {
      "cell_type": "code",
      "source": [
        "# 연습 5. 콜라츠 추측\n",
        "# 3n + 1 문제는 다음과 같습니다.\n",
        "\n",
        "# n이 홀수면 3을 곱한 뒤 1을 더하고,\n",
        "# n이 짝수면 2로 나눕니다.\n",
        "# 마지막으로 n이 1이 되면 프로그램을 종료합니다."
      ],
      "metadata": {
        "id": "7Czb4cn6hS1b"
      },
      "execution_count": 238,
      "outputs": []
    },
    {
      "cell_type": "code",
      "source": [
        "n = int(input(\"숫자를 입력하세요: \"))\n",
        "\n",
        "if n % 2 == 1:\n",
        "  n = n * 3 + 1\n",
        "  print(n)\n",
        "elif n % 2 == 0:\n",
        "  n = n / 2\n",
        "  print(n)\n",
        "elif n == 1:\n",
        "  print(\"프로그램을 종료합니다.\")\n"
      ],
      "metadata": {
        "colab": {
          "base_uri": "https://localhost:8080/"
        },
        "id": "aCauCIw93rbM",
        "outputId": "7dd6f4e9-1086-4084-989a-b5781ce158e1"
      },
      "execution_count": 249,
      "outputs": [
        {
          "output_type": "stream",
          "name": "stdout",
          "text": [
            "숫자를 입력하세요: 1\n",
            "4\n"
          ]
        }
      ]
    },
    {
      "cell_type": "code",
      "source": [
        "# cycle이라는 이름의 함수를 만듭니다. 인자로 n을 받습니다.\n",
        "def cycle(n):\n",
        "  if n == 1:\n",
        "    return [1]\n",
        "\n",
        "  # n이 짝수이면 n이 하나 들어간 리스트와, cycle(n / 2)의 결과값을 더해서 반환합니다.\n",
        "  if n % 2 == 0:\n",
        "    return [n] + cycle(n / 2)\n",
        "\n",
        "  # n이 홀수이면 n이 하나 들어간 리스트와, cycle(3 * n + 2)의 결과값을 더해서 반환합니다.\n",
        "  else:\n",
        "    return [n] + cycle(3*n+1)\n",
        ""
      ],
      "metadata": {
        "id": "amiYNmOB4R60"
      },
      "execution_count": 275,
      "outputs": []
    },
    {
      "cell_type": "code",
      "source": [
        "print(cycle(1))\n",
        "print(cycle(2))\n",
        "print(cycle(3))\n",
        "print(cycle(4))"
      ],
      "metadata": {
        "colab": {
          "base_uri": "https://localhost:8080/"
        },
        "id": "bMfbWebH8hh-",
        "outputId": "6a5b0dff-daf1-4eef-8abb-709b071ae01a"
      },
      "execution_count": 276,
      "outputs": [
        {
          "output_type": "stream",
          "name": "stdout",
          "text": [
            "[1]\n",
            "[2, 1]\n",
            "[3, 10, 5.0, 16.0, 8.0, 4.0, 2.0, 1]\n",
            "[4, 2.0, 1]\n"
          ]
        }
      ]
    },
    {
      "cell_type": "code",
      "source": [],
      "metadata": {
        "id": "8yyf8ZAs8jhE"
      },
      "execution_count": null,
      "outputs": []
    }
  ]
}