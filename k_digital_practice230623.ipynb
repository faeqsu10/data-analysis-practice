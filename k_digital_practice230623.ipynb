{
  "nbformat": 4,
  "nbformat_minor": 0,
  "metadata": {
    "colab": {
      "provenance": [],
      "authorship_tag": "ABX9TyNURk18HfTKoFhO1VSnciLg",
      "include_colab_link": true
    },
    "kernelspec": {
      "name": "python3",
      "display_name": "Python 3"
    },
    "language_info": {
      "name": "python"
    }
  },
  "cells": [
    {
      "cell_type": "markdown",
      "metadata": {
        "id": "view-in-github",
        "colab_type": "text"
      },
      "source": [
        "<a href=\"https://colab.research.google.com/github/faeqsu10/data-analysis-practice/blob/main/k_digital_practice230623.ipynb\" target=\"_parent\"><img src=\"https://colab.research.google.com/assets/colab-badge.svg\" alt=\"Open In Colab\"/></a>"
      ]
    },
    {
      "cell_type": "code",
      "execution_count": null,
      "metadata": {
        "id": "FAHxdGqmqn3v"
      },
      "outputs": [],
      "source": [
        "#‘열 번 찍어 안 넘어가는 나무 없다’라는 속담을 파이썬 프로그램으로 만들기\n",
        "\n",
        "treeHit = 0\n",
        "while treeHit < 10:\n",
        "  treeHit += 1  # treeHit = treeHit + 1\n",
        "  print(\"나무를 %d번 찍었습니다.\" % treeHit)\n",
        "  if treeHit == 10:\n",
        "    print(\"나무 넘어갑니다.\")"
      ]
    },
    {
      "cell_type": "code",
      "source": [
        "prompt = \"\"\"\n",
        "1. Add\n",
        "2. Del\n",
        "3. List\n",
        "4. Quit\n",
        "\n",
        "Enter number : \"\"\"\n",
        "\n",
        "number = 0\n",
        "while number != 4:\n",
        "  print(prompt)\n",
        "  number = int(input())\n",
        ""
      ],
      "metadata": {
        "id": "-UPUMYLPsAlv"
      },
      "execution_count": null,
      "outputs": []
    },
    {
      "cell_type": "code",
      "source": [
        "coffee = 10\n",
        "money = 300\n",
        "while money:\n",
        "  print(\"돈을 받았으니 커피를 줍니다.\")\n",
        "  coffee = coffee - 1\n",
        "  print(\"남은 커피의 양은 %d개 입니다.\" % coffee)\n",
        "  if coffee == 0:\n",
        "    print(\"커피가 다 떨어졌습니다. 판매를 중지합니다.\")\n",
        "    break"
      ],
      "metadata": {
        "id": "ZMnB5TUmtWxu"
      },
      "execution_count": null,
      "outputs": []
    },
    {
      "cell_type": "code",
      "source": [
        "coffee = 10\n",
        "money = 0\n",
        "change = 0\n",
        "\n",
        "while True:\n",
        "  money = int(input(\"돈을 넣어 주세요: \"))\n",
        "\n",
        "  if money == 300:\n",
        "    print(\"커피를 줍니다.\")\n",
        "    coffee = coffee -1\n",
        "    print(\"남은 커피의 양은 %d개 입니다.\" % coffee)\n",
        "\n",
        "  elif money > 300:\n",
        "    change = money - 300\n",
        "    print(\"거스름돈 %d를 주고 커피를 줍니다.\" % change)\n",
        "    coffee = coffee - 1\n",
        "    print(\"남은 커피의 양은 %d개 입니다.\" % coffee)\n",
        "\n",
        "  else:\n",
        "    print(\"돈을 다시 돌려주고 커피를 주지 않습니다.\")\n",
        "    print(\"남은 커피의 양은 %d개 입니다.\" % coffee)\n",
        "\n",
        "  if coffee == 0:\n",
        "    print(\"커피가 다 떨어졌습니다. 판매를 중지 합니다.\")\n",
        "    break\n"
      ],
      "metadata": {
        "id": "TxVaXVtfwjoE"
      },
      "execution_count": null,
      "outputs": []
    },
    {
      "cell_type": "code",
      "source": [
        "a = 0\n",
        "\n",
        "while a< 10:\n",
        "    a = a + 1\n",
        "    if a % 2 == 0:\n",
        "        continue\n",
        "    else:\n",
        "        print(a)"
      ],
      "metadata": {
        "id": "5ZY3Z7RAyUqW"
      },
      "execution_count": null,
      "outputs": []
    },
    {
      "cell_type": "code",
      "source": [
        "my_acc = 1111\n",
        "my_money = 8000\n",
        "\n",
        "your_acc = 2222\n",
        "your_money = 10000\n",
        "\n",
        "while True:\n",
        "\n",
        "  acc = int(input(\"이체할 계좌번호 입력 : \"))\n",
        "  print(acc)\n",
        "\n",
        "  if acc == your_acc:\n",
        "      money = int(input(\"이체금액: \"))\n",
        "\n",
        "      if money <= my_money:\n",
        "          my_money = my_money - money\n",
        "          your_money = your_money + money\n",
        "          print(\"이체 완료\")\n",
        "          print(\"내 계좌: %d\" % my_money)\n",
        "          print(\"너 계좌: %d\" % your_money)\n",
        "          #break\n",
        "\n",
        "      elif my_money == 0 :\n",
        "          print(\"내 계좌에 잔고가 없습니다.\")\n",
        "          break\n",
        "\n",
        "      elif money > my_money:\n",
        "          print(\"이체금액 부족\")\n",
        "\n",
        "  if acc != your_acc:\n",
        "      print(\"계좌번호 확인 요망\")\n",
        "\n",
        "\n",
        "  #print(\"내 계좌: %d\" % my_money)\n",
        "  #print(\"너 계좌: %d\" % your_money)\n"
      ],
      "metadata": {
        "colab": {
          "base_uri": "https://localhost:8080/"
        },
        "id": "zwHXARwO5ixO",
        "outputId": "e0adf5c3-18ef-4862-8f96-a70bfe6357db"
      },
      "execution_count": 19,
      "outputs": [
        {
          "output_type": "stream",
          "name": "stdout",
          "text": [
            "이체할 계좌번호 입력 : 2222\n",
            "2222\n",
            "이체금액: 300\n",
            "이체 완료\n",
            "내 계좌: 7700\n",
            "너 계좌: 10300\n",
            "이체할 계좌번호 입력 : 2222\n",
            "2222\n",
            "이체금액: 7700\n",
            "이체 완료\n",
            "내 계좌: 0\n",
            "너 계좌: 18000\n",
            "이체할 계좌번호 입력 : 2222\n",
            "2222\n",
            "이체금액: 100\n",
            "내 계좌에 잔고가 없습니다.\n"
          ]
        }
      ]
    },
    {
      "cell_type": "code",
      "source": [
        "marks = [90, 25, 67, 45, 80]\n",
        "\n",
        "num = 0\n",
        "\n",
        "for mark in marks :\n",
        "    num = num + 1\n",
        "    if mark >= 60 :\n",
        "        print(\"%d번 학생은 합격입니다.\" % num)\n",
        "    else:\n",
        "        print(\"%d번 학생은 불합격입니다.\"% num)"
      ],
      "metadata": {
        "colab": {
          "base_uri": "https://localhost:8080/"
        },
        "id": "Mfitz8NoBc-1",
        "outputId": "12367dd3-8554-4b06-ffad-ad3f978c10a0"
      },
      "execution_count": 20,
      "outputs": [
        {
          "output_type": "stream",
          "name": "stdout",
          "text": [
            "1번 학생은 합격입니다.\n",
            "2번 학생은 불합격입니다.\n",
            "3번 학생은 합격입니다.\n",
            "4번 학생은 불합격입니다.\n",
            "5번 학생은 합격입니다.\n"
          ]
        }
      ]
    },
    {
      "cell_type": "code",
      "source": [
        "result = 0\n",
        "for n in range(1,30):\n",
        "    if n % 3 == 0 or n % 5 == 0:\n",
        "        print(n)\n",
        "        result = result + n\n",
        "print(result)\n",
        "\n",
        "result = []\n",
        "for n in range(1, 30):\n",
        "    if n % 3 == 0 or n % 5 == 0:\n",
        "        result.append(n)\n",
        "print(\"===\")\n",
        "print(result)\n",
        "print(\"=sum=\")\n",
        "print(sum(result))"
      ],
      "metadata": {
        "id": "A2akVt2yLe1O"
      },
      "execution_count": null,
      "outputs": []
    },
    {
      "cell_type": "code",
      "source": [
        "list3 = []\n",
        "list5 = []\n",
        "for n in range(1, 1000):\n",
        "    if n % 3 == 0:\n",
        "        list3.append(n)\n",
        "    elif n % 5 == 0:\n",
        "        list5.append(n)\n",
        "\n",
        "set3 = set(list3)\n",
        "set5 = set(list5)\n",
        "print(set3)\n",
        "print(set5)\n",
        "union = set3.union(set5)\n",
        "print(sum(union))\n"
      ],
      "metadata": {
        "colab": {
          "base_uri": "https://localhost:8080/"
        },
        "id": "fno2An9GgCED",
        "outputId": "136be7df-1d14-4c1f-b1d8-18311c892dae"
      },
      "execution_count": 3,
      "outputs": [
        {
          "output_type": "stream",
          "name": "stdout",
          "text": [
            "{3, 6, 9, 12, 15, 18, 21, 24, 27, 30, 33, 36, 39, 42, 45, 48, 51, 54, 57, 60, 63, 66, 69, 72, 75, 78, 81, 84, 87, 90, 93, 96, 99, 102, 105, 108, 111, 114, 117, 120, 123, 126, 129, 132, 135, 138, 141, 144, 147, 150, 153, 156, 159, 162, 165, 168, 171, 174, 177, 180, 183, 186, 189, 192, 195, 198, 201, 204, 207, 210, 213, 216, 219, 222, 225, 228, 231, 234, 237, 240, 243, 246, 249, 252, 255, 258, 261, 264, 267, 270, 273, 276, 279, 282, 285, 288, 291, 294, 297, 300, 303, 306, 309, 312, 315, 318, 321, 324, 327, 330, 333, 336, 339, 342, 345, 348, 351, 354, 357, 360, 363, 366, 369, 372, 375, 378, 381, 384, 387, 390, 393, 396, 399, 402, 405, 408, 411, 414, 417, 420, 423, 426, 429, 432, 435, 438, 441, 444, 447, 450, 453, 456, 459, 462, 465, 468, 471, 474, 477, 480, 483, 486, 489, 492, 495, 498, 501, 504, 507, 510, 513, 516, 519, 522, 525, 528, 531, 534, 537, 540, 543, 546, 549, 552, 555, 558, 561, 564, 567, 570, 573, 576, 579, 582, 585, 588, 591, 594, 597, 600, 603, 606, 609, 612, 615, 618, 621, 624, 627, 630, 633, 636, 639, 642, 645, 648, 651, 654, 657, 660, 663, 666, 669, 672, 675, 678, 681, 684, 687, 690, 693, 696, 699, 702, 705, 708, 711, 714, 717, 720, 723, 726, 729, 732, 735, 738, 741, 744, 747, 750, 753, 756, 759, 762, 765, 768, 771, 774, 777, 780, 783, 786, 789, 792, 795, 798, 801, 804, 807, 810, 813, 816, 819, 822, 825, 828, 831, 834, 837, 840, 843, 846, 849, 852, 855, 858, 861, 864, 867, 870, 873, 876, 879, 882, 885, 888, 891, 894, 897, 900, 903, 906, 909, 912, 915, 918, 921, 924, 927, 930, 933, 936, 939, 942, 945, 948, 951, 954, 957, 960, 963, 966, 969, 972, 975, 978, 981, 984, 987, 990, 993, 996, 999}\n",
            "{515, 5, 520, 10, 530, 20, 535, 25, 545, 35, 550, 40, 560, 50, 565, 55, 575, 65, 580, 70, 590, 80, 595, 85, 605, 95, 610, 100, 620, 110, 625, 115, 635, 125, 640, 130, 650, 140, 655, 145, 665, 155, 670, 160, 680, 170, 685, 175, 695, 185, 700, 190, 710, 200, 715, 205, 725, 215, 730, 220, 740, 230, 745, 235, 755, 245, 760, 250, 770, 260, 775, 265, 785, 275, 790, 280, 800, 290, 805, 295, 815, 305, 820, 310, 830, 320, 835, 325, 845, 335, 850, 340, 860, 350, 865, 355, 875, 365, 880, 370, 890, 380, 895, 385, 905, 395, 910, 400, 920, 410, 925, 415, 935, 425, 940, 430, 950, 440, 955, 445, 965, 455, 970, 460, 980, 470, 985, 475, 995, 485, 490, 500, 505}\n",
            "233168\n"
          ]
        }
      ]
    },
    {
      "cell_type": "code",
      "source": [],
      "metadata": {
        "id": "D5cbnERCgRXk"
      },
      "execution_count": null,
      "outputs": []
    }
  ]
}