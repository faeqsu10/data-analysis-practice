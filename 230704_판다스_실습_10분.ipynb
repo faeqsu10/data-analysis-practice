{
 "cells": [
  {
   "cell_type": "markdown",
   "id": "eb7d73d0",
   "metadata": {},
   "source": [
    "우리는 지금 아나콘다를 쓰고있다.\n",
    "아나콘다에 설치되어있는 파이썬을 쓰고있다."
   ]
  },
  {
   "cell_type": "markdown",
   "id": "58bfd6e5",
   "metadata": {},
   "source": [
    "- 판다스\n",
    "1. Object Creation (객체 생성)\n",
    "2. Viewing Data (데이터 확인하기)\n",
    "3. Selection (선택)\n",
    "4. Missing Data (결측치)\n",
    "5. Operation (연산)\n",
    "6. Merge (병합)\n",
    "7. Grouping (그룹화)\n",
    "8. Reshaping (변형)\n",
    "9. Time Series (시계열)\n",
    "10. Categoricals (범주화)\n",
    "11. Plotting (그래프)\n",
    "12. Getting Data In / Out (데이터 입 / 출력)\n",
    "13. Gotchas (잡았다!)"
   ]
  },
  {
   "cell_type": "code",
   "execution_count": 1,
   "id": "7c38252a",
   "metadata": {},
   "outputs": [],
   "source": [
    "import pandas as pd\n",
    "import numpy as np\n",
    "import matplotlib.pyplot as plt"
   ]
  },
  {
   "cell_type": "markdown",
   "id": "69294131",
   "metadata": {},
   "source": [
    "## 1. Object Creation (객체 생성)"
   ]
  },
  {
   "cell_type": "code",
   "execution_count": 2,
   "id": "c7b1729a",
   "metadata": {},
   "outputs": [],
   "source": [
    "s = pd.Series([1,3,5,np.nan,6,8])"
   ]
  },
  {
   "cell_type": "code",
   "execution_count": 3,
   "id": "83706325",
   "metadata": {
    "scrolled": true
   },
   "outputs": [
    {
     "data": {
      "text/plain": [
       "0    1.0\n",
       "1    3.0\n",
       "2    5.0\n",
       "3    NaN\n",
       "4    6.0\n",
       "5    8.0\n",
       "dtype: float64"
      ]
     },
     "execution_count": 3,
     "metadata": {},
     "output_type": "execute_result"
    }
   ],
   "source": [
    "s"
   ]
  },
  {
   "cell_type": "markdown",
   "id": "a09785c3",
   "metadata": {},
   "source": [
    "Pandas는 값을 가지고 있는 리스트를 통해 Series를 만들고, 정수로 만들어진 인덱스를 기본값으로 불러올 것입니다.\n",
    "\n",
    "Series 란?\n",
    "Pandas는 데이터를 다루기 위한 파이썬 라이브러리입니다. Pandas Series는 Pandas에서 제공하는 데이터 구조 중 하나로, 1차원 배열 형태의 데이터를 다룰 때 사용됩니다. Series는 인덱스와 값으로 이루어져 있으며, 인덱스는 기본값으로 정수형 인덱스가 사용됩니다"
   ]
  },
  {
   "cell_type": "code",
   "execution_count": 4,
   "id": "41eb0c6b",
   "metadata": {},
   "outputs": [
    {
     "name": "stdout",
     "output_type": "stream",
     "text": [
      "0    1\n",
      "1    2\n",
      "2    3\n",
      "dtype: int64\n"
     ]
    }
   ],
   "source": [
    "my_list = [1, 2, 3] # 리스트\n",
    "my_series = pd.Series(my_list) #리스트를 pd.Series로 변환\n",
    "print(my_series)"
   ]
  },
  {
   "cell_type": "code",
   "execution_count": 5,
   "id": "0c295ba4",
   "metadata": {},
   "outputs": [],
   "source": [
    "dates = pd.date_range('20130101', periods = 6)"
   ]
  },
  {
   "cell_type": "code",
   "execution_count": 6,
   "id": "5b2b3532",
   "metadata": {},
   "outputs": [
    {
     "data": {
      "text/plain": [
       "DatetimeIndex(['2013-01-01', '2013-01-02', '2013-01-03', '2013-01-04',\n",
       "               '2013-01-05', '2013-01-06'],\n",
       "              dtype='datetime64[ns]', freq='D')"
      ]
     },
     "execution_count": 6,
     "metadata": {},
     "output_type": "execute_result"
    }
   ],
   "source": [
    "dates"
   ]
  },
  {
   "cell_type": "code",
   "execution_count": 7,
   "id": "1d91e0cb",
   "metadata": {},
   "outputs": [
    {
     "data": {
      "text/plain": [
       "['A', 'B', 'C', 'D']"
      ]
     },
     "execution_count": 7,
     "metadata": {},
     "output_type": "execute_result"
    }
   ],
   "source": [
    "list('ABCD')"
   ]
  },
  {
   "cell_type": "code",
   "execution_count": 8,
   "id": "fc58881f",
   "metadata": {},
   "outputs": [],
   "source": [
    "df = pd.DataFrame(np.random.randn(6,4), index=dates, columns=list('ABCD'))"
   ]
  },
  {
   "cell_type": "code",
   "execution_count": 9,
   "id": "be4be07e",
   "metadata": {
    "scrolled": false
   },
   "outputs": [
    {
     "data": {
      "text/html": [
       "<div>\n",
       "<style scoped>\n",
       "    .dataframe tbody tr th:only-of-type {\n",
       "        vertical-align: middle;\n",
       "    }\n",
       "\n",
       "    .dataframe tbody tr th {\n",
       "        vertical-align: top;\n",
       "    }\n",
       "\n",
       "    .dataframe thead th {\n",
       "        text-align: right;\n",
       "    }\n",
       "</style>\n",
       "<table border=\"1\" class=\"dataframe\">\n",
       "  <thead>\n",
       "    <tr style=\"text-align: right;\">\n",
       "      <th></th>\n",
       "      <th>A</th>\n",
       "      <th>B</th>\n",
       "      <th>C</th>\n",
       "      <th>D</th>\n",
       "    </tr>\n",
       "  </thead>\n",
       "  <tbody>\n",
       "    <tr>\n",
       "      <th>2013-01-01</th>\n",
       "      <td>1.513528</td>\n",
       "      <td>-2.572416</td>\n",
       "      <td>-1.431976</td>\n",
       "      <td>-0.721173</td>\n",
       "    </tr>\n",
       "    <tr>\n",
       "      <th>2013-01-02</th>\n",
       "      <td>-1.179086</td>\n",
       "      <td>0.213224</td>\n",
       "      <td>-0.537584</td>\n",
       "      <td>-0.168968</td>\n",
       "    </tr>\n",
       "    <tr>\n",
       "      <th>2013-01-03</th>\n",
       "      <td>0.406152</td>\n",
       "      <td>-1.750393</td>\n",
       "      <td>0.452700</td>\n",
       "      <td>2.498560</td>\n",
       "    </tr>\n",
       "    <tr>\n",
       "      <th>2013-01-04</th>\n",
       "      <td>1.576835</td>\n",
       "      <td>-0.557684</td>\n",
       "      <td>0.857095</td>\n",
       "      <td>-0.171133</td>\n",
       "    </tr>\n",
       "    <tr>\n",
       "      <th>2013-01-05</th>\n",
       "      <td>-0.162644</td>\n",
       "      <td>0.892175</td>\n",
       "      <td>0.955318</td>\n",
       "      <td>-0.347630</td>\n",
       "    </tr>\n",
       "    <tr>\n",
       "      <th>2013-01-06</th>\n",
       "      <td>-0.288975</td>\n",
       "      <td>1.436350</td>\n",
       "      <td>0.339855</td>\n",
       "      <td>-0.102612</td>\n",
       "    </tr>\n",
       "  </tbody>\n",
       "</table>\n",
       "</div>"
      ],
      "text/plain": [
       "                   A         B         C         D\n",
       "2013-01-01  1.513528 -2.572416 -1.431976 -0.721173\n",
       "2013-01-02 -1.179086  0.213224 -0.537584 -0.168968\n",
       "2013-01-03  0.406152 -1.750393  0.452700  2.498560\n",
       "2013-01-04  1.576835 -0.557684  0.857095 -0.171133\n",
       "2013-01-05 -0.162644  0.892175  0.955318 -0.347630\n",
       "2013-01-06 -0.288975  1.436350  0.339855 -0.102612"
      ]
     },
     "execution_count": 9,
     "metadata": {},
     "output_type": "execute_result"
    }
   ],
   "source": [
    "df"
   ]
  },
  {
   "cell_type": "code",
   "execution_count": 10,
   "id": "a5e81a73",
   "metadata": {},
   "outputs": [
    {
     "data": {
      "text/plain": [
       "Timestamp('2013-01-02 00:00:00')"
      ]
     },
     "execution_count": 10,
     "metadata": {},
     "output_type": "execute_result"
    }
   ],
   "source": [
    "pd.Timestamp('20130102')"
   ]
  },
  {
   "cell_type": "code",
   "execution_count": 11,
   "id": "9fe48a5a",
   "metadata": {
    "scrolled": true
   },
   "outputs": [
    {
     "data": {
      "text/plain": [
       "0    1.0\n",
       "1    1.0\n",
       "2    1.0\n",
       "3    1.0\n",
       "dtype: float32"
      ]
     },
     "execution_count": 11,
     "metadata": {},
     "output_type": "execute_result"
    }
   ],
   "source": [
    "pd.Series(1,index=list(range(4)),dtype='float32')"
   ]
  },
  {
   "cell_type": "code",
   "execution_count": 12,
   "id": "030699c5",
   "metadata": {},
   "outputs": [
    {
     "name": "stdout",
     "output_type": "stream",
     "text": [
      "[0, 1, 2, 3]\n"
     ]
    }
   ],
   "source": [
    "index=list(range(4))\n",
    "print(index)"
   ]
  },
  {
   "cell_type": "code",
   "execution_count": 13,
   "id": "b7cab6a5",
   "metadata": {},
   "outputs": [
    {
     "data": {
      "text/plain": [
       "array([3, 3, 3, 3])"
      ]
     },
     "execution_count": 13,
     "metadata": {},
     "output_type": "execute_result"
    }
   ],
   "source": [
    "np.array([3] * 4,dtype='int32')"
   ]
  },
  {
   "cell_type": "code",
   "execution_count": 14,
   "id": "25e9ef38",
   "metadata": {},
   "outputs": [
    {
     "data": {
      "text/plain": [
       "['test', 'train', 'test', 'train']\n",
       "Categories (2, object): ['test', 'train']"
      ]
     },
     "execution_count": 14,
     "metadata": {},
     "output_type": "execute_result"
    }
   ],
   "source": [
    "pd.Categorical([\"test\",\"train\",\"test\",\"train\"])"
   ]
  },
  {
   "cell_type": "code",
   "execution_count": 15,
   "id": "ac509c88",
   "metadata": {},
   "outputs": [],
   "source": [
    "df2 = pd.DataFrame({'A' : 1.,\n",
    "                    'B' : pd.Timestamp('20130102'),\n",
    "                    'C' : pd.Series(1,index=list(range(4)),dtype='float32'),\n",
    "                    'D' : np.array([3] * 4,dtype='int32'),\n",
    "                    'E' : pd.Categorical([\"test\",\"train\",\"test\",\"train\"]),\n",
    "                    'F' : 'foo' })"
   ]
  },
  {
   "cell_type": "code",
   "execution_count": 16,
   "id": "e8484bd3",
   "metadata": {},
   "outputs": [
    {
     "data": {
      "text/html": [
       "<div>\n",
       "<style scoped>\n",
       "    .dataframe tbody tr th:only-of-type {\n",
       "        vertical-align: middle;\n",
       "    }\n",
       "\n",
       "    .dataframe tbody tr th {\n",
       "        vertical-align: top;\n",
       "    }\n",
       "\n",
       "    .dataframe thead th {\n",
       "        text-align: right;\n",
       "    }\n",
       "</style>\n",
       "<table border=\"1\" class=\"dataframe\">\n",
       "  <thead>\n",
       "    <tr style=\"text-align: right;\">\n",
       "      <th></th>\n",
       "      <th>A</th>\n",
       "      <th>B</th>\n",
       "      <th>C</th>\n",
       "      <th>D</th>\n",
       "      <th>E</th>\n",
       "      <th>F</th>\n",
       "    </tr>\n",
       "  </thead>\n",
       "  <tbody>\n",
       "    <tr>\n",
       "      <th>0</th>\n",
       "      <td>1.0</td>\n",
       "      <td>2013-01-02</td>\n",
       "      <td>1.0</td>\n",
       "      <td>3</td>\n",
       "      <td>test</td>\n",
       "      <td>foo</td>\n",
       "    </tr>\n",
       "    <tr>\n",
       "      <th>1</th>\n",
       "      <td>1.0</td>\n",
       "      <td>2013-01-02</td>\n",
       "      <td>1.0</td>\n",
       "      <td>3</td>\n",
       "      <td>train</td>\n",
       "      <td>foo</td>\n",
       "    </tr>\n",
       "    <tr>\n",
       "      <th>2</th>\n",
       "      <td>1.0</td>\n",
       "      <td>2013-01-02</td>\n",
       "      <td>1.0</td>\n",
       "      <td>3</td>\n",
       "      <td>test</td>\n",
       "      <td>foo</td>\n",
       "    </tr>\n",
       "    <tr>\n",
       "      <th>3</th>\n",
       "      <td>1.0</td>\n",
       "      <td>2013-01-02</td>\n",
       "      <td>1.0</td>\n",
       "      <td>3</td>\n",
       "      <td>train</td>\n",
       "      <td>foo</td>\n",
       "    </tr>\n",
       "  </tbody>\n",
       "</table>\n",
       "</div>"
      ],
      "text/plain": [
       "     A          B    C  D      E    F\n",
       "0  1.0 2013-01-02  1.0  3   test  foo\n",
       "1  1.0 2013-01-02  1.0  3  train  foo\n",
       "2  1.0 2013-01-02  1.0  3   test  foo\n",
       "3  1.0 2013-01-02  1.0  3  train  foo"
      ]
     },
     "execution_count": 16,
     "metadata": {},
     "output_type": "execute_result"
    }
   ],
   "source": [
    "df2"
   ]
  },
  {
   "cell_type": "code",
   "execution_count": 17,
   "id": "24a26751",
   "metadata": {},
   "outputs": [
    {
     "data": {
      "text/plain": [
       "A           float64\n",
       "B    datetime64[ns]\n",
       "C           float32\n",
       "D             int32\n",
       "E          category\n",
       "F            object\n",
       "dtype: object"
      ]
     },
     "execution_count": 17,
     "metadata": {},
     "output_type": "execute_result"
    }
   ],
   "source": [
    "df2.dtypes"
   ]
  },
  {
   "cell_type": "code",
   "execution_count": 105,
   "id": "f31e8762",
   "metadata": {},
   "outputs": [
    {
     "data": {
      "text/plain": [
       "pandas.core.frame.DataFrame"
      ]
     },
     "execution_count": 105,
     "metadata": {},
     "output_type": "execute_result"
    }
   ],
   "source": [
    "type(df2)"
   ]
  },
  {
   "cell_type": "markdown",
   "id": "67a224bb",
   "metadata": {},
   "source": [
    "DataFrame 틀\n",
    "변수.\n",
    "객체를 만들어서 쓴다."
   ]
  },
  {
   "cell_type": "markdown",
   "id": "e939c98b",
   "metadata": {},
   "source": [
    "## 2. Viewing Data (데이터 확인하기)"
   ]
  },
  {
   "cell_type": "code",
   "execution_count": 19,
   "id": "9c91ce17",
   "metadata": {},
   "outputs": [
    {
     "data": {
      "text/html": [
       "<div>\n",
       "<style scoped>\n",
       "    .dataframe tbody tr th:only-of-type {\n",
       "        vertical-align: middle;\n",
       "    }\n",
       "\n",
       "    .dataframe tbody tr th {\n",
       "        vertical-align: top;\n",
       "    }\n",
       "\n",
       "    .dataframe thead th {\n",
       "        text-align: right;\n",
       "    }\n",
       "</style>\n",
       "<table border=\"1\" class=\"dataframe\">\n",
       "  <thead>\n",
       "    <tr style=\"text-align: right;\">\n",
       "      <th></th>\n",
       "      <th>A</th>\n",
       "      <th>B</th>\n",
       "      <th>C</th>\n",
       "      <th>D</th>\n",
       "    </tr>\n",
       "  </thead>\n",
       "  <tbody>\n",
       "    <tr>\n",
       "      <th>2013-01-01</th>\n",
       "      <td>1.513528</td>\n",
       "      <td>-2.572416</td>\n",
       "      <td>-1.431976</td>\n",
       "      <td>-0.721173</td>\n",
       "    </tr>\n",
       "    <tr>\n",
       "      <th>2013-01-02</th>\n",
       "      <td>-1.179086</td>\n",
       "      <td>0.213224</td>\n",
       "      <td>-0.537584</td>\n",
       "      <td>-0.168968</td>\n",
       "    </tr>\n",
       "    <tr>\n",
       "      <th>2013-01-03</th>\n",
       "      <td>0.406152</td>\n",
       "      <td>-1.750393</td>\n",
       "      <td>0.452700</td>\n",
       "      <td>2.498560</td>\n",
       "    </tr>\n",
       "    <tr>\n",
       "      <th>2013-01-04</th>\n",
       "      <td>1.576835</td>\n",
       "      <td>-0.557684</td>\n",
       "      <td>0.857095</td>\n",
       "      <td>-0.171133</td>\n",
       "    </tr>\n",
       "    <tr>\n",
       "      <th>2013-01-05</th>\n",
       "      <td>-0.162644</td>\n",
       "      <td>0.892175</td>\n",
       "      <td>0.955318</td>\n",
       "      <td>-0.347630</td>\n",
       "    </tr>\n",
       "    <tr>\n",
       "      <th>2013-01-06</th>\n",
       "      <td>-0.288975</td>\n",
       "      <td>1.436350</td>\n",
       "      <td>0.339855</td>\n",
       "      <td>-0.102612</td>\n",
       "    </tr>\n",
       "  </tbody>\n",
       "</table>\n",
       "</div>"
      ],
      "text/plain": [
       "                   A         B         C         D\n",
       "2013-01-01  1.513528 -2.572416 -1.431976 -0.721173\n",
       "2013-01-02 -1.179086  0.213224 -0.537584 -0.168968\n",
       "2013-01-03  0.406152 -1.750393  0.452700  2.498560\n",
       "2013-01-04  1.576835 -0.557684  0.857095 -0.171133\n",
       "2013-01-05 -0.162644  0.892175  0.955318 -0.347630\n",
       "2013-01-06 -0.288975  1.436350  0.339855 -0.102612"
      ]
     },
     "execution_count": 19,
     "metadata": {},
     "output_type": "execute_result"
    }
   ],
   "source": [
    "df"
   ]
  },
  {
   "cell_type": "code",
   "execution_count": 20,
   "id": "a8a3edf7",
   "metadata": {},
   "outputs": [
    {
     "data": {
      "text/html": [
       "<div>\n",
       "<style scoped>\n",
       "    .dataframe tbody tr th:only-of-type {\n",
       "        vertical-align: middle;\n",
       "    }\n",
       "\n",
       "    .dataframe tbody tr th {\n",
       "        vertical-align: top;\n",
       "    }\n",
       "\n",
       "    .dataframe thead th {\n",
       "        text-align: right;\n",
       "    }\n",
       "</style>\n",
       "<table border=\"1\" class=\"dataframe\">\n",
       "  <thead>\n",
       "    <tr style=\"text-align: right;\">\n",
       "      <th></th>\n",
       "      <th>A</th>\n",
       "      <th>B</th>\n",
       "      <th>C</th>\n",
       "      <th>D</th>\n",
       "    </tr>\n",
       "  </thead>\n",
       "  <tbody>\n",
       "    <tr>\n",
       "      <th>2013-01-01</th>\n",
       "      <td>1.513528</td>\n",
       "      <td>-2.572416</td>\n",
       "      <td>-1.431976</td>\n",
       "      <td>-0.721173</td>\n",
       "    </tr>\n",
       "    <tr>\n",
       "      <th>2013-01-02</th>\n",
       "      <td>-1.179086</td>\n",
       "      <td>0.213224</td>\n",
       "      <td>-0.537584</td>\n",
       "      <td>-0.168968</td>\n",
       "    </tr>\n",
       "    <tr>\n",
       "      <th>2013-01-03</th>\n",
       "      <td>0.406152</td>\n",
       "      <td>-1.750393</td>\n",
       "      <td>0.452700</td>\n",
       "      <td>2.498560</td>\n",
       "    </tr>\n",
       "    <tr>\n",
       "      <th>2013-01-04</th>\n",
       "      <td>1.576835</td>\n",
       "      <td>-0.557684</td>\n",
       "      <td>0.857095</td>\n",
       "      <td>-0.171133</td>\n",
       "    </tr>\n",
       "    <tr>\n",
       "      <th>2013-01-05</th>\n",
       "      <td>-0.162644</td>\n",
       "      <td>0.892175</td>\n",
       "      <td>0.955318</td>\n",
       "      <td>-0.347630</td>\n",
       "    </tr>\n",
       "  </tbody>\n",
       "</table>\n",
       "</div>"
      ],
      "text/plain": [
       "                   A         B         C         D\n",
       "2013-01-01  1.513528 -2.572416 -1.431976 -0.721173\n",
       "2013-01-02 -1.179086  0.213224 -0.537584 -0.168968\n",
       "2013-01-03  0.406152 -1.750393  0.452700  2.498560\n",
       "2013-01-04  1.576835 -0.557684  0.857095 -0.171133\n",
       "2013-01-05 -0.162644  0.892175  0.955318 -0.347630"
      ]
     },
     "execution_count": 20,
     "metadata": {},
     "output_type": "execute_result"
    }
   ],
   "source": [
    "df.head()"
   ]
  },
  {
   "cell_type": "code",
   "execution_count": 21,
   "id": "d890897e",
   "metadata": {},
   "outputs": [
    {
     "data": {
      "text/html": [
       "<div>\n",
       "<style scoped>\n",
       "    .dataframe tbody tr th:only-of-type {\n",
       "        vertical-align: middle;\n",
       "    }\n",
       "\n",
       "    .dataframe tbody tr th {\n",
       "        vertical-align: top;\n",
       "    }\n",
       "\n",
       "    .dataframe thead th {\n",
       "        text-align: right;\n",
       "    }\n",
       "</style>\n",
       "<table border=\"1\" class=\"dataframe\">\n",
       "  <thead>\n",
       "    <tr style=\"text-align: right;\">\n",
       "      <th></th>\n",
       "      <th>A</th>\n",
       "      <th>B</th>\n",
       "      <th>C</th>\n",
       "      <th>D</th>\n",
       "    </tr>\n",
       "  </thead>\n",
       "  <tbody>\n",
       "    <tr>\n",
       "      <th>2013-01-02</th>\n",
       "      <td>-1.179086</td>\n",
       "      <td>0.213224</td>\n",
       "      <td>-0.537584</td>\n",
       "      <td>-0.168968</td>\n",
       "    </tr>\n",
       "    <tr>\n",
       "      <th>2013-01-03</th>\n",
       "      <td>0.406152</td>\n",
       "      <td>-1.750393</td>\n",
       "      <td>0.452700</td>\n",
       "      <td>2.498560</td>\n",
       "    </tr>\n",
       "    <tr>\n",
       "      <th>2013-01-04</th>\n",
       "      <td>1.576835</td>\n",
       "      <td>-0.557684</td>\n",
       "      <td>0.857095</td>\n",
       "      <td>-0.171133</td>\n",
       "    </tr>\n",
       "    <tr>\n",
       "      <th>2013-01-05</th>\n",
       "      <td>-0.162644</td>\n",
       "      <td>0.892175</td>\n",
       "      <td>0.955318</td>\n",
       "      <td>-0.347630</td>\n",
       "    </tr>\n",
       "    <tr>\n",
       "      <th>2013-01-06</th>\n",
       "      <td>-0.288975</td>\n",
       "      <td>1.436350</td>\n",
       "      <td>0.339855</td>\n",
       "      <td>-0.102612</td>\n",
       "    </tr>\n",
       "  </tbody>\n",
       "</table>\n",
       "</div>"
      ],
      "text/plain": [
       "                   A         B         C         D\n",
       "2013-01-02 -1.179086  0.213224 -0.537584 -0.168968\n",
       "2013-01-03  0.406152 -1.750393  0.452700  2.498560\n",
       "2013-01-04  1.576835 -0.557684  0.857095 -0.171133\n",
       "2013-01-05 -0.162644  0.892175  0.955318 -0.347630\n",
       "2013-01-06 -0.288975  1.436350  0.339855 -0.102612"
      ]
     },
     "execution_count": 21,
     "metadata": {},
     "output_type": "execute_result"
    }
   ],
   "source": [
    "df.tail()"
   ]
  },
  {
   "cell_type": "code",
   "execution_count": 22,
   "id": "d3d4ccf1",
   "metadata": {},
   "outputs": [
    {
     "data": {
      "text/html": [
       "<div>\n",
       "<style scoped>\n",
       "    .dataframe tbody tr th:only-of-type {\n",
       "        vertical-align: middle;\n",
       "    }\n",
       "\n",
       "    .dataframe tbody tr th {\n",
       "        vertical-align: top;\n",
       "    }\n",
       "\n",
       "    .dataframe thead th {\n",
       "        text-align: right;\n",
       "    }\n",
       "</style>\n",
       "<table border=\"1\" class=\"dataframe\">\n",
       "  <thead>\n",
       "    <tr style=\"text-align: right;\">\n",
       "      <th></th>\n",
       "      <th>A</th>\n",
       "      <th>B</th>\n",
       "      <th>C</th>\n",
       "      <th>D</th>\n",
       "    </tr>\n",
       "  </thead>\n",
       "  <tbody>\n",
       "    <tr>\n",
       "      <th>2013-01-04</th>\n",
       "      <td>1.576835</td>\n",
       "      <td>-0.557684</td>\n",
       "      <td>0.857095</td>\n",
       "      <td>-0.171133</td>\n",
       "    </tr>\n",
       "    <tr>\n",
       "      <th>2013-01-05</th>\n",
       "      <td>-0.162644</td>\n",
       "      <td>0.892175</td>\n",
       "      <td>0.955318</td>\n",
       "      <td>-0.347630</td>\n",
       "    </tr>\n",
       "    <tr>\n",
       "      <th>2013-01-06</th>\n",
       "      <td>-0.288975</td>\n",
       "      <td>1.436350</td>\n",
       "      <td>0.339855</td>\n",
       "      <td>-0.102612</td>\n",
       "    </tr>\n",
       "  </tbody>\n",
       "</table>\n",
       "</div>"
      ],
      "text/plain": [
       "                   A         B         C         D\n",
       "2013-01-04  1.576835 -0.557684  0.857095 -0.171133\n",
       "2013-01-05 -0.162644  0.892175  0.955318 -0.347630\n",
       "2013-01-06 -0.288975  1.436350  0.339855 -0.102612"
      ]
     },
     "execution_count": 22,
     "metadata": {},
     "output_type": "execute_result"
    }
   ],
   "source": [
    "df.tail(3)"
   ]
  },
  {
   "cell_type": "code",
   "execution_count": 23,
   "id": "3e67ff34",
   "metadata": {
    "scrolled": true
   },
   "outputs": [
    {
     "data": {
      "text/plain": [
       "DatetimeIndex(['2013-01-01', '2013-01-02', '2013-01-03', '2013-01-04',\n",
       "               '2013-01-05', '2013-01-06'],\n",
       "              dtype='datetime64[ns]', freq='D')"
      ]
     },
     "execution_count": 23,
     "metadata": {},
     "output_type": "execute_result"
    }
   ],
   "source": [
    "df.index"
   ]
  },
  {
   "cell_type": "code",
   "execution_count": 24,
   "id": "fd8b900e",
   "metadata": {},
   "outputs": [
    {
     "data": {
      "text/plain": [
       "Index(['A', 'B', 'C', 'D'], dtype='object')"
      ]
     },
     "execution_count": 24,
     "metadata": {},
     "output_type": "execute_result"
    }
   ],
   "source": [
    "df.columns"
   ]
  },
  {
   "cell_type": "code",
   "execution_count": 25,
   "id": "85b25651",
   "metadata": {},
   "outputs": [
    {
     "data": {
      "text/plain": [
       "array([[ 1.51352762, -2.57241555, -1.43197615, -0.72117278],\n",
       "       [-1.17908611,  0.21322426, -0.53758443, -0.16896774],\n",
       "       [ 0.40615172, -1.75039348,  0.45269984,  2.49855964],\n",
       "       [ 1.57683462, -0.55768376,  0.85709532, -0.17113258],\n",
       "       [-0.16264413,  0.89217532,  0.95531834, -0.34763047],\n",
       "       [-0.28897545,  1.43635046,  0.33985537, -0.10261247]])"
      ]
     },
     "execution_count": 25,
     "metadata": {},
     "output_type": "execute_result"
    }
   ],
   "source": [
    "df.values"
   ]
  },
  {
   "cell_type": "code",
   "execution_count": 26,
   "id": "507e8e9a",
   "metadata": {},
   "outputs": [],
   "source": [
    "#리스트를 여러개 묶은 것을 array라고 함"
   ]
  },
  {
   "cell_type": "code",
   "execution_count": 27,
   "id": "065919dd",
   "metadata": {},
   "outputs": [
    {
     "data": {
      "text/html": [
       "<div>\n",
       "<style scoped>\n",
       "    .dataframe tbody tr th:only-of-type {\n",
       "        vertical-align: middle;\n",
       "    }\n",
       "\n",
       "    .dataframe tbody tr th {\n",
       "        vertical-align: top;\n",
       "    }\n",
       "\n",
       "    .dataframe thead th {\n",
       "        text-align: right;\n",
       "    }\n",
       "</style>\n",
       "<table border=\"1\" class=\"dataframe\">\n",
       "  <thead>\n",
       "    <tr style=\"text-align: right;\">\n",
       "      <th></th>\n",
       "      <th>A</th>\n",
       "      <th>B</th>\n",
       "      <th>C</th>\n",
       "      <th>D</th>\n",
       "    </tr>\n",
       "  </thead>\n",
       "  <tbody>\n",
       "    <tr>\n",
       "      <th>count</th>\n",
       "      <td>6.000000</td>\n",
       "      <td>6.000000</td>\n",
       "      <td>6.000000</td>\n",
       "      <td>6.000000</td>\n",
       "    </tr>\n",
       "    <tr>\n",
       "      <th>mean</th>\n",
       "      <td>0.310968</td>\n",
       "      <td>-0.389790</td>\n",
       "      <td>0.105901</td>\n",
       "      <td>0.164507</td>\n",
       "    </tr>\n",
       "    <tr>\n",
       "      <th>std</th>\n",
       "      <td>1.082786</td>\n",
       "      <td>1.548233</td>\n",
       "      <td>0.920863</td>\n",
       "      <td>1.165309</td>\n",
       "    </tr>\n",
       "    <tr>\n",
       "      <th>min</th>\n",
       "      <td>-1.179086</td>\n",
       "      <td>-2.572416</td>\n",
       "      <td>-1.431976</td>\n",
       "      <td>-0.721173</td>\n",
       "    </tr>\n",
       "    <tr>\n",
       "      <th>25%</th>\n",
       "      <td>-0.257393</td>\n",
       "      <td>-1.452216</td>\n",
       "      <td>-0.318224</td>\n",
       "      <td>-0.303506</td>\n",
       "    </tr>\n",
       "    <tr>\n",
       "      <th>50%</th>\n",
       "      <td>0.121754</td>\n",
       "      <td>-0.172230</td>\n",
       "      <td>0.396278</td>\n",
       "      <td>-0.170050</td>\n",
       "    </tr>\n",
       "    <tr>\n",
       "      <th>75%</th>\n",
       "      <td>1.236684</td>\n",
       "      <td>0.722438</td>\n",
       "      <td>0.755996</td>\n",
       "      <td>-0.119201</td>\n",
       "    </tr>\n",
       "    <tr>\n",
       "      <th>max</th>\n",
       "      <td>1.576835</td>\n",
       "      <td>1.436350</td>\n",
       "      <td>0.955318</td>\n",
       "      <td>2.498560</td>\n",
       "    </tr>\n",
       "  </tbody>\n",
       "</table>\n",
       "</div>"
      ],
      "text/plain": [
       "              A         B         C         D\n",
       "count  6.000000  6.000000  6.000000  6.000000\n",
       "mean   0.310968 -0.389790  0.105901  0.164507\n",
       "std    1.082786  1.548233  0.920863  1.165309\n",
       "min   -1.179086 -2.572416 -1.431976 -0.721173\n",
       "25%   -0.257393 -1.452216 -0.318224 -0.303506\n",
       "50%    0.121754 -0.172230  0.396278 -0.170050\n",
       "75%    1.236684  0.722438  0.755996 -0.119201\n",
       "max    1.576835  1.436350  0.955318  2.498560"
      ]
     },
     "execution_count": 27,
     "metadata": {},
     "output_type": "execute_result"
    }
   ],
   "source": [
    "df.describe()\n",
    "#기술통계량 정보를 보여준다"
   ]
  },
  {
   "cell_type": "code",
   "execution_count": 28,
   "id": "49c5acc1",
   "metadata": {},
   "outputs": [
    {
     "data": {
      "text/html": [
       "<div>\n",
       "<style scoped>\n",
       "    .dataframe tbody tr th:only-of-type {\n",
       "        vertical-align: middle;\n",
       "    }\n",
       "\n",
       "    .dataframe tbody tr th {\n",
       "        vertical-align: top;\n",
       "    }\n",
       "\n",
       "    .dataframe thead th {\n",
       "        text-align: right;\n",
       "    }\n",
       "</style>\n",
       "<table border=\"1\" class=\"dataframe\">\n",
       "  <thead>\n",
       "    <tr style=\"text-align: right;\">\n",
       "      <th></th>\n",
       "      <th>A</th>\n",
       "      <th>C</th>\n",
       "      <th>D</th>\n",
       "    </tr>\n",
       "  </thead>\n",
       "  <tbody>\n",
       "    <tr>\n",
       "      <th>count</th>\n",
       "      <td>4.0</td>\n",
       "      <td>4.0</td>\n",
       "      <td>4.0</td>\n",
       "    </tr>\n",
       "    <tr>\n",
       "      <th>mean</th>\n",
       "      <td>1.0</td>\n",
       "      <td>1.0</td>\n",
       "      <td>3.0</td>\n",
       "    </tr>\n",
       "    <tr>\n",
       "      <th>std</th>\n",
       "      <td>0.0</td>\n",
       "      <td>0.0</td>\n",
       "      <td>0.0</td>\n",
       "    </tr>\n",
       "    <tr>\n",
       "      <th>min</th>\n",
       "      <td>1.0</td>\n",
       "      <td>1.0</td>\n",
       "      <td>3.0</td>\n",
       "    </tr>\n",
       "    <tr>\n",
       "      <th>25%</th>\n",
       "      <td>1.0</td>\n",
       "      <td>1.0</td>\n",
       "      <td>3.0</td>\n",
       "    </tr>\n",
       "    <tr>\n",
       "      <th>50%</th>\n",
       "      <td>1.0</td>\n",
       "      <td>1.0</td>\n",
       "      <td>3.0</td>\n",
       "    </tr>\n",
       "    <tr>\n",
       "      <th>75%</th>\n",
       "      <td>1.0</td>\n",
       "      <td>1.0</td>\n",
       "      <td>3.0</td>\n",
       "    </tr>\n",
       "    <tr>\n",
       "      <th>max</th>\n",
       "      <td>1.0</td>\n",
       "      <td>1.0</td>\n",
       "      <td>3.0</td>\n",
       "    </tr>\n",
       "  </tbody>\n",
       "</table>\n",
       "</div>"
      ],
      "text/plain": [
       "         A    C    D\n",
       "count  4.0  4.0  4.0\n",
       "mean   1.0  1.0  3.0\n",
       "std    0.0  0.0  0.0\n",
       "min    1.0  1.0  3.0\n",
       "25%    1.0  1.0  3.0\n",
       "50%    1.0  1.0  3.0\n",
       "75%    1.0  1.0  3.0\n",
       "max    1.0  1.0  3.0"
      ]
     },
     "execution_count": 28,
     "metadata": {},
     "output_type": "execute_result"
    }
   ],
   "source": [
    "df2.describe()"
   ]
  },
  {
   "cell_type": "code",
   "execution_count": 29,
   "id": "a51115cc",
   "metadata": {},
   "outputs": [
    {
     "data": {
      "text/html": [
       "<div>\n",
       "<style scoped>\n",
       "    .dataframe tbody tr th:only-of-type {\n",
       "        vertical-align: middle;\n",
       "    }\n",
       "\n",
       "    .dataframe tbody tr th {\n",
       "        vertical-align: top;\n",
       "    }\n",
       "\n",
       "    .dataframe thead th {\n",
       "        text-align: right;\n",
       "    }\n",
       "</style>\n",
       "<table border=\"1\" class=\"dataframe\">\n",
       "  <thead>\n",
       "    <tr style=\"text-align: right;\">\n",
       "      <th></th>\n",
       "      <th>A</th>\n",
       "      <th>B</th>\n",
       "      <th>C</th>\n",
       "      <th>D</th>\n",
       "      <th>E</th>\n",
       "      <th>F</th>\n",
       "    </tr>\n",
       "  </thead>\n",
       "  <tbody>\n",
       "    <tr>\n",
       "      <th>0</th>\n",
       "      <td>1.0</td>\n",
       "      <td>2013-01-02</td>\n",
       "      <td>1.0</td>\n",
       "      <td>3</td>\n",
       "      <td>test</td>\n",
       "      <td>foo</td>\n",
       "    </tr>\n",
       "    <tr>\n",
       "      <th>1</th>\n",
       "      <td>1.0</td>\n",
       "      <td>2013-01-02</td>\n",
       "      <td>1.0</td>\n",
       "      <td>3</td>\n",
       "      <td>train</td>\n",
       "      <td>foo</td>\n",
       "    </tr>\n",
       "    <tr>\n",
       "      <th>2</th>\n",
       "      <td>1.0</td>\n",
       "      <td>2013-01-02</td>\n",
       "      <td>1.0</td>\n",
       "      <td>3</td>\n",
       "      <td>test</td>\n",
       "      <td>foo</td>\n",
       "    </tr>\n",
       "    <tr>\n",
       "      <th>3</th>\n",
       "      <td>1.0</td>\n",
       "      <td>2013-01-02</td>\n",
       "      <td>1.0</td>\n",
       "      <td>3</td>\n",
       "      <td>train</td>\n",
       "      <td>foo</td>\n",
       "    </tr>\n",
       "  </tbody>\n",
       "</table>\n",
       "</div>"
      ],
      "text/plain": [
       "     A          B    C  D      E    F\n",
       "0  1.0 2013-01-02  1.0  3   test  foo\n",
       "1  1.0 2013-01-02  1.0  3  train  foo\n",
       "2  1.0 2013-01-02  1.0  3   test  foo\n",
       "3  1.0 2013-01-02  1.0  3  train  foo"
      ]
     },
     "execution_count": 29,
     "metadata": {},
     "output_type": "execute_result"
    }
   ],
   "source": [
    "df2"
   ]
  },
  {
   "cell_type": "code",
   "execution_count": 30,
   "id": "f76b9547",
   "metadata": {},
   "outputs": [],
   "source": [
    "# .describe()는 숫자형 데이터에 기본적으로 적용된다.\n",
    "# 기술통계량의 정보를 보여준다"
   ]
  },
  {
   "cell_type": "code",
   "execution_count": 31,
   "id": "85472604",
   "metadata": {},
   "outputs": [
    {
     "data": {
      "text/html": [
       "<div>\n",
       "<style scoped>\n",
       "    .dataframe tbody tr th:only-of-type {\n",
       "        vertical-align: middle;\n",
       "    }\n",
       "\n",
       "    .dataframe tbody tr th {\n",
       "        vertical-align: top;\n",
       "    }\n",
       "\n",
       "    .dataframe thead th {\n",
       "        text-align: right;\n",
       "    }\n",
       "</style>\n",
       "<table border=\"1\" class=\"dataframe\">\n",
       "  <thead>\n",
       "    <tr style=\"text-align: right;\">\n",
       "      <th></th>\n",
       "      <th>2013-01-01</th>\n",
       "      <th>2013-01-02</th>\n",
       "      <th>2013-01-03</th>\n",
       "      <th>2013-01-04</th>\n",
       "      <th>2013-01-05</th>\n",
       "      <th>2013-01-06</th>\n",
       "    </tr>\n",
       "  </thead>\n",
       "  <tbody>\n",
       "    <tr>\n",
       "      <th>A</th>\n",
       "      <td>1.513528</td>\n",
       "      <td>-1.179086</td>\n",
       "      <td>0.406152</td>\n",
       "      <td>1.576835</td>\n",
       "      <td>-0.162644</td>\n",
       "      <td>-0.288975</td>\n",
       "    </tr>\n",
       "    <tr>\n",
       "      <th>B</th>\n",
       "      <td>-2.572416</td>\n",
       "      <td>0.213224</td>\n",
       "      <td>-1.750393</td>\n",
       "      <td>-0.557684</td>\n",
       "      <td>0.892175</td>\n",
       "      <td>1.436350</td>\n",
       "    </tr>\n",
       "    <tr>\n",
       "      <th>C</th>\n",
       "      <td>-1.431976</td>\n",
       "      <td>-0.537584</td>\n",
       "      <td>0.452700</td>\n",
       "      <td>0.857095</td>\n",
       "      <td>0.955318</td>\n",
       "      <td>0.339855</td>\n",
       "    </tr>\n",
       "    <tr>\n",
       "      <th>D</th>\n",
       "      <td>-0.721173</td>\n",
       "      <td>-0.168968</td>\n",
       "      <td>2.498560</td>\n",
       "      <td>-0.171133</td>\n",
       "      <td>-0.347630</td>\n",
       "      <td>-0.102612</td>\n",
       "    </tr>\n",
       "  </tbody>\n",
       "</table>\n",
       "</div>"
      ],
      "text/plain": [
       "   2013-01-01  2013-01-02  2013-01-03  2013-01-04  2013-01-05  2013-01-06\n",
       "A    1.513528   -1.179086    0.406152    1.576835   -0.162644   -0.288975\n",
       "B   -2.572416    0.213224   -1.750393   -0.557684    0.892175    1.436350\n",
       "C   -1.431976   -0.537584    0.452700    0.857095    0.955318    0.339855\n",
       "D   -0.721173   -0.168968    2.498560   -0.171133   -0.347630   -0.102612"
      ]
     },
     "execution_count": 31,
     "metadata": {},
     "output_type": "execute_result"
    }
   ],
   "source": [
    "df.T"
   ]
  },
  {
   "cell_type": "code",
   "execution_count": 32,
   "id": "c44237be",
   "metadata": {},
   "outputs": [
    {
     "data": {
      "text/html": [
       "<div>\n",
       "<style scoped>\n",
       "    .dataframe tbody tr th:only-of-type {\n",
       "        vertical-align: middle;\n",
       "    }\n",
       "\n",
       "    .dataframe tbody tr th {\n",
       "        vertical-align: top;\n",
       "    }\n",
       "\n",
       "    .dataframe thead th {\n",
       "        text-align: right;\n",
       "    }\n",
       "</style>\n",
       "<table border=\"1\" class=\"dataframe\">\n",
       "  <thead>\n",
       "    <tr style=\"text-align: right;\">\n",
       "      <th></th>\n",
       "      <th>A</th>\n",
       "      <th>B</th>\n",
       "      <th>C</th>\n",
       "      <th>D</th>\n",
       "    </tr>\n",
       "  </thead>\n",
       "  <tbody>\n",
       "    <tr>\n",
       "      <th>2013-01-01</th>\n",
       "      <td>1.513528</td>\n",
       "      <td>-2.572416</td>\n",
       "      <td>-1.431976</td>\n",
       "      <td>-0.721173</td>\n",
       "    </tr>\n",
       "    <tr>\n",
       "      <th>2013-01-02</th>\n",
       "      <td>-1.179086</td>\n",
       "      <td>0.213224</td>\n",
       "      <td>-0.537584</td>\n",
       "      <td>-0.168968</td>\n",
       "    </tr>\n",
       "    <tr>\n",
       "      <th>2013-01-03</th>\n",
       "      <td>0.406152</td>\n",
       "      <td>-1.750393</td>\n",
       "      <td>0.452700</td>\n",
       "      <td>2.498560</td>\n",
       "    </tr>\n",
       "    <tr>\n",
       "      <th>2013-01-04</th>\n",
       "      <td>1.576835</td>\n",
       "      <td>-0.557684</td>\n",
       "      <td>0.857095</td>\n",
       "      <td>-0.171133</td>\n",
       "    </tr>\n",
       "    <tr>\n",
       "      <th>2013-01-05</th>\n",
       "      <td>-0.162644</td>\n",
       "      <td>0.892175</td>\n",
       "      <td>0.955318</td>\n",
       "      <td>-0.347630</td>\n",
       "    </tr>\n",
       "    <tr>\n",
       "      <th>2013-01-06</th>\n",
       "      <td>-0.288975</td>\n",
       "      <td>1.436350</td>\n",
       "      <td>0.339855</td>\n",
       "      <td>-0.102612</td>\n",
       "    </tr>\n",
       "  </tbody>\n",
       "</table>\n",
       "</div>"
      ],
      "text/plain": [
       "                   A         B         C         D\n",
       "2013-01-01  1.513528 -2.572416 -1.431976 -0.721173\n",
       "2013-01-02 -1.179086  0.213224 -0.537584 -0.168968\n",
       "2013-01-03  0.406152 -1.750393  0.452700  2.498560\n",
       "2013-01-04  1.576835 -0.557684  0.857095 -0.171133\n",
       "2013-01-05 -0.162644  0.892175  0.955318 -0.347630\n",
       "2013-01-06 -0.288975  1.436350  0.339855 -0.102612"
      ]
     },
     "execution_count": 32,
     "metadata": {},
     "output_type": "execute_result"
    }
   ],
   "source": [
    "df"
   ]
  },
  {
   "cell_type": "code",
   "execution_count": 33,
   "id": "051d509f",
   "metadata": {},
   "outputs": [
    {
     "data": {
      "text/html": [
       "<div>\n",
       "<style scoped>\n",
       "    .dataframe tbody tr th:only-of-type {\n",
       "        vertical-align: middle;\n",
       "    }\n",
       "\n",
       "    .dataframe tbody tr th {\n",
       "        vertical-align: top;\n",
       "    }\n",
       "\n",
       "    .dataframe thead th {\n",
       "        text-align: right;\n",
       "    }\n",
       "</style>\n",
       "<table border=\"1\" class=\"dataframe\">\n",
       "  <thead>\n",
       "    <tr style=\"text-align: right;\">\n",
       "      <th></th>\n",
       "      <th>A</th>\n",
       "      <th>B</th>\n",
       "      <th>C</th>\n",
       "      <th>D</th>\n",
       "    </tr>\n",
       "  </thead>\n",
       "  <tbody>\n",
       "    <tr>\n",
       "      <th>2013-01-01</th>\n",
       "      <td>1.513528</td>\n",
       "      <td>-2.572416</td>\n",
       "      <td>-1.431976</td>\n",
       "      <td>-0.721173</td>\n",
       "    </tr>\n",
       "    <tr>\n",
       "      <th>2013-01-02</th>\n",
       "      <td>-1.179086</td>\n",
       "      <td>0.213224</td>\n",
       "      <td>-0.537584</td>\n",
       "      <td>-0.168968</td>\n",
       "    </tr>\n",
       "    <tr>\n",
       "      <th>2013-01-03</th>\n",
       "      <td>0.406152</td>\n",
       "      <td>-1.750393</td>\n",
       "      <td>0.452700</td>\n",
       "      <td>2.498560</td>\n",
       "    </tr>\n",
       "    <tr>\n",
       "      <th>2013-01-04</th>\n",
       "      <td>1.576835</td>\n",
       "      <td>-0.557684</td>\n",
       "      <td>0.857095</td>\n",
       "      <td>-0.171133</td>\n",
       "    </tr>\n",
       "    <tr>\n",
       "      <th>2013-01-05</th>\n",
       "      <td>-0.162644</td>\n",
       "      <td>0.892175</td>\n",
       "      <td>0.955318</td>\n",
       "      <td>-0.347630</td>\n",
       "    </tr>\n",
       "    <tr>\n",
       "      <th>2013-01-06</th>\n",
       "      <td>-0.288975</td>\n",
       "      <td>1.436350</td>\n",
       "      <td>0.339855</td>\n",
       "      <td>-0.102612</td>\n",
       "    </tr>\n",
       "  </tbody>\n",
       "</table>\n",
       "</div>"
      ],
      "text/plain": [
       "                   A         B         C         D\n",
       "2013-01-01  1.513528 -2.572416 -1.431976 -0.721173\n",
       "2013-01-02 -1.179086  0.213224 -0.537584 -0.168968\n",
       "2013-01-03  0.406152 -1.750393  0.452700  2.498560\n",
       "2013-01-04  1.576835 -0.557684  0.857095 -0.171133\n",
       "2013-01-05 -0.162644  0.892175  0.955318 -0.347630\n",
       "2013-01-06 -0.288975  1.436350  0.339855 -0.102612"
      ]
     },
     "execution_count": 33,
     "metadata": {},
     "output_type": "execute_result"
    }
   ],
   "source": [
    "df.sort_index(axis=0, ascending=True)\n",
    "#인덱스를 정렬해준다\n",
    "#axis = 0 이면 행을 정렬해준다\n",
    "#axis = 1 이면 열을 정렬해준다\n",
    "#accending = True -> 오름차순으로 정렬해준다\n",
    "#accending = False -> 내림차순으로 정렬해준다"
   ]
  },
  {
   "cell_type": "code",
   "execution_count": 34,
   "id": "841004f5",
   "metadata": {
    "scrolled": false
   },
   "outputs": [
    {
     "data": {
      "text/html": [
       "<div>\n",
       "<style scoped>\n",
       "    .dataframe tbody tr th:only-of-type {\n",
       "        vertical-align: middle;\n",
       "    }\n",
       "\n",
       "    .dataframe tbody tr th {\n",
       "        vertical-align: top;\n",
       "    }\n",
       "\n",
       "    .dataframe thead th {\n",
       "        text-align: right;\n",
       "    }\n",
       "</style>\n",
       "<table border=\"1\" class=\"dataframe\">\n",
       "  <thead>\n",
       "    <tr style=\"text-align: right;\">\n",
       "      <th></th>\n",
       "      <th>A</th>\n",
       "      <th>B</th>\n",
       "      <th>C</th>\n",
       "      <th>D</th>\n",
       "    </tr>\n",
       "  </thead>\n",
       "  <tbody>\n",
       "    <tr>\n",
       "      <th>2013-01-01</th>\n",
       "      <td>1.513528</td>\n",
       "      <td>-2.572416</td>\n",
       "      <td>-1.431976</td>\n",
       "      <td>-0.721173</td>\n",
       "    </tr>\n",
       "    <tr>\n",
       "      <th>2013-01-02</th>\n",
       "      <td>-1.179086</td>\n",
       "      <td>0.213224</td>\n",
       "      <td>-0.537584</td>\n",
       "      <td>-0.168968</td>\n",
       "    </tr>\n",
       "    <tr>\n",
       "      <th>2013-01-06</th>\n",
       "      <td>-0.288975</td>\n",
       "      <td>1.436350</td>\n",
       "      <td>0.339855</td>\n",
       "      <td>-0.102612</td>\n",
       "    </tr>\n",
       "    <tr>\n",
       "      <th>2013-01-03</th>\n",
       "      <td>0.406152</td>\n",
       "      <td>-1.750393</td>\n",
       "      <td>0.452700</td>\n",
       "      <td>2.498560</td>\n",
       "    </tr>\n",
       "    <tr>\n",
       "      <th>2013-01-04</th>\n",
       "      <td>1.576835</td>\n",
       "      <td>-0.557684</td>\n",
       "      <td>0.857095</td>\n",
       "      <td>-0.171133</td>\n",
       "    </tr>\n",
       "    <tr>\n",
       "      <th>2013-01-05</th>\n",
       "      <td>-0.162644</td>\n",
       "      <td>0.892175</td>\n",
       "      <td>0.955318</td>\n",
       "      <td>-0.347630</td>\n",
       "    </tr>\n",
       "  </tbody>\n",
       "</table>\n",
       "</div>"
      ],
      "text/plain": [
       "                   A         B         C         D\n",
       "2013-01-01  1.513528 -2.572416 -1.431976 -0.721173\n",
       "2013-01-02 -1.179086  0.213224 -0.537584 -0.168968\n",
       "2013-01-06 -0.288975  1.436350  0.339855 -0.102612\n",
       "2013-01-03  0.406152 -1.750393  0.452700  2.498560\n",
       "2013-01-04  1.576835 -0.557684  0.857095 -0.171133\n",
       "2013-01-05 -0.162644  0.892175  0.955318 -0.347630"
      ]
     },
     "execution_count": 34,
     "metadata": {},
     "output_type": "execute_result"
    }
   ],
   "source": [
    "df.sort_values(by='C')"
   ]
  },
  {
   "cell_type": "markdown",
   "id": "84ae7448",
   "metadata": {},
   "source": [
    "- by: 정렬할 열(column)의 이름이나 이름의 리스트입니다.\n",
    "- axis: 정렬할 축(axis)입니다. 0이면 행(row), 1이면 열(column)을 기준으로 정렬합니다.\n",
    "- ascending: 오름차순으로 정렬할지 여부입니다. True이면 오름차순으로 정렬하고, False이면 내림차순으로 정렬합니다.\n",
    "-inplace: 정렬한 결과를 원본 데이터프레임을 변경할지 여부입니다. True이면 원본 데이터프레임을 변경하고, False이면 새로운 데이터프레임을 반환합니다.\n",
    "- kind: 정렬 알고리즘의 종류입니다. 기본값은 'quicksort’입니다.\n",
    "na_position: 결측값(NaN)이 있는 경우 어디에 위치시킬지를 나타냅니다. 'last’이면 마지막에 위치시키고, 'first’이면 처음에 위치시킵니다.\n",
    "- ignore_index: 인덱스를 재설정할지 여부입니다. True이면 인덱스를 재설정하고, False이면 원래 인덱스를 유지합니다.\n",
    "- key: 정렬 기준을 지정하는 함수(function)입니다."
   ]
  },
  {
   "cell_type": "code",
   "execution_count": 35,
   "id": "d3b15fbe",
   "metadata": {
    "scrolled": true
   },
   "outputs": [
    {
     "data": {
      "text/html": [
       "<div>\n",
       "<style scoped>\n",
       "    .dataframe tbody tr th:only-of-type {\n",
       "        vertical-align: middle;\n",
       "    }\n",
       "\n",
       "    .dataframe tbody tr th {\n",
       "        vertical-align: top;\n",
       "    }\n",
       "\n",
       "    .dataframe thead th {\n",
       "        text-align: right;\n",
       "    }\n",
       "</style>\n",
       "<table border=\"1\" class=\"dataframe\">\n",
       "  <thead>\n",
       "    <tr style=\"text-align: right;\">\n",
       "      <th></th>\n",
       "      <th>A</th>\n",
       "      <th>B</th>\n",
       "      <th>C</th>\n",
       "      <th>D</th>\n",
       "    </tr>\n",
       "  </thead>\n",
       "  <tbody>\n",
       "    <tr>\n",
       "      <th>2013-01-06</th>\n",
       "      <td>-0.288975</td>\n",
       "      <td>1.436350</td>\n",
       "      <td>0.339855</td>\n",
       "      <td>-0.102612</td>\n",
       "    </tr>\n",
       "    <tr>\n",
       "      <th>2013-01-05</th>\n",
       "      <td>-0.162644</td>\n",
       "      <td>0.892175</td>\n",
       "      <td>0.955318</td>\n",
       "      <td>-0.347630</td>\n",
       "    </tr>\n",
       "    <tr>\n",
       "      <th>2013-01-02</th>\n",
       "      <td>-1.179086</td>\n",
       "      <td>0.213224</td>\n",
       "      <td>-0.537584</td>\n",
       "      <td>-0.168968</td>\n",
       "    </tr>\n",
       "    <tr>\n",
       "      <th>2013-01-04</th>\n",
       "      <td>1.576835</td>\n",
       "      <td>-0.557684</td>\n",
       "      <td>0.857095</td>\n",
       "      <td>-0.171133</td>\n",
       "    </tr>\n",
       "    <tr>\n",
       "      <th>2013-01-03</th>\n",
       "      <td>0.406152</td>\n",
       "      <td>-1.750393</td>\n",
       "      <td>0.452700</td>\n",
       "      <td>2.498560</td>\n",
       "    </tr>\n",
       "    <tr>\n",
       "      <th>2013-01-01</th>\n",
       "      <td>1.513528</td>\n",
       "      <td>-2.572416</td>\n",
       "      <td>-1.431976</td>\n",
       "      <td>-0.721173</td>\n",
       "    </tr>\n",
       "  </tbody>\n",
       "</table>\n",
       "</div>"
      ],
      "text/plain": [
       "                   A         B         C         D\n",
       "2013-01-06 -0.288975  1.436350  0.339855 -0.102612\n",
       "2013-01-05 -0.162644  0.892175  0.955318 -0.347630\n",
       "2013-01-02 -1.179086  0.213224 -0.537584 -0.168968\n",
       "2013-01-04  1.576835 -0.557684  0.857095 -0.171133\n",
       "2013-01-03  0.406152 -1.750393  0.452700  2.498560\n",
       "2013-01-01  1.513528 -2.572416 -1.431976 -0.721173"
      ]
     },
     "execution_count": 35,
     "metadata": {},
     "output_type": "execute_result"
    }
   ],
   "source": [
    "# 데이터프레임을 B 열을 기준으로 내림차순 정렬하되, 결측값을 마지막에 위치시키고, \n",
    "# 정렬한 결과를 원래 데이터프레임에 적용하는 경우 다음과 같이 정렬됩니다.\n",
    "df.sort_values('B', ascending=False, na_position='last', inplace=True)\n",
    "df"
   ]
  },
  {
   "cell_type": "code",
   "execution_count": 36,
   "id": "6a0b5da2",
   "metadata": {},
   "outputs": [
    {
     "data": {
      "text/html": [
       "<div>\n",
       "<style scoped>\n",
       "    .dataframe tbody tr th:only-of-type {\n",
       "        vertical-align: middle;\n",
       "    }\n",
       "\n",
       "    .dataframe tbody tr th {\n",
       "        vertical-align: top;\n",
       "    }\n",
       "\n",
       "    .dataframe thead th {\n",
       "        text-align: right;\n",
       "    }\n",
       "</style>\n",
       "<table border=\"1\" class=\"dataframe\">\n",
       "  <thead>\n",
       "    <tr style=\"text-align: right;\">\n",
       "      <th></th>\n",
       "      <th>A</th>\n",
       "      <th>B</th>\n",
       "      <th>C</th>\n",
       "      <th>D</th>\n",
       "    </tr>\n",
       "  </thead>\n",
       "  <tbody>\n",
       "    <tr>\n",
       "      <th>2013-01-05</th>\n",
       "      <td>-0.162644</td>\n",
       "      <td>0.892175</td>\n",
       "      <td>0.955318</td>\n",
       "      <td>-0.347630</td>\n",
       "    </tr>\n",
       "    <tr>\n",
       "      <th>2013-01-02</th>\n",
       "      <td>-1.179086</td>\n",
       "      <td>0.213224</td>\n",
       "      <td>-0.537584</td>\n",
       "      <td>-0.168968</td>\n",
       "    </tr>\n",
       "    <tr>\n",
       "      <th>2013-01-04</th>\n",
       "      <td>1.576835</td>\n",
       "      <td>-0.557684</td>\n",
       "      <td>0.857095</td>\n",
       "      <td>-0.171133</td>\n",
       "    </tr>\n",
       "    <tr>\n",
       "      <th>2013-01-03</th>\n",
       "      <td>0.406152</td>\n",
       "      <td>-1.750393</td>\n",
       "      <td>0.452700</td>\n",
       "      <td>2.498560</td>\n",
       "    </tr>\n",
       "    <tr>\n",
       "      <th>2013-01-01</th>\n",
       "      <td>1.513528</td>\n",
       "      <td>-2.572416</td>\n",
       "      <td>-1.431976</td>\n",
       "      <td>-0.721173</td>\n",
       "    </tr>\n",
       "  </tbody>\n",
       "</table>\n",
       "</div>"
      ],
      "text/plain": [
       "                   A         B         C         D\n",
       "2013-01-05 -0.162644  0.892175  0.955318 -0.347630\n",
       "2013-01-02 -1.179086  0.213224 -0.537584 -0.168968\n",
       "2013-01-04  1.576835 -0.557684  0.857095 -0.171133\n",
       "2013-01-03  0.406152 -1.750393  0.452700  2.498560\n",
       "2013-01-01  1.513528 -2.572416 -1.431976 -0.721173"
      ]
     },
     "execution_count": 36,
     "metadata": {},
     "output_type": "execute_result"
    }
   ],
   "source": [
    "df.tail()"
   ]
  },
  {
   "cell_type": "markdown",
   "id": "3e8a9724",
   "metadata": {},
   "source": [
    "df.head()  \n",
    "df.tail()  \n",
    "df.index  \n",
    "df.columns  \n",
    "df.values  \n",
    "df.describe()  \n",
    "df.T  \n",
    "df.sort_index(axis=1, ascending=False)  \n",
    "df.sort_values(by='B')  "
   ]
  },
  {
   "cell_type": "markdown",
   "id": "a1a08ed1",
   "metadata": {},
   "source": [
    "## 3. Selection (선택)\n",
    "선택과 설정을 위한 Python / Numpy의 표준화된 표현들이 직관적이며, 코드 작성을 위한 양방향 작업에 유용하지만, 우리는 Pandas에 최적화된 데이터 접근 방법인 loc 및 .iloc 을 추천합니다."
   ]
  },
  {
   "cell_type": "code",
   "execution_count": 37,
   "id": "cb71f1cd",
   "metadata": {
    "scrolled": true
   },
   "outputs": [
    {
     "data": {
      "text/html": [
       "<div>\n",
       "<style scoped>\n",
       "    .dataframe tbody tr th:only-of-type {\n",
       "        vertical-align: middle;\n",
       "    }\n",
       "\n",
       "    .dataframe tbody tr th {\n",
       "        vertical-align: top;\n",
       "    }\n",
       "\n",
       "    .dataframe thead th {\n",
       "        text-align: right;\n",
       "    }\n",
       "</style>\n",
       "<table border=\"1\" class=\"dataframe\">\n",
       "  <thead>\n",
       "    <tr style=\"text-align: right;\">\n",
       "      <th></th>\n",
       "      <th>A</th>\n",
       "      <th>B</th>\n",
       "      <th>C</th>\n",
       "      <th>D</th>\n",
       "    </tr>\n",
       "  </thead>\n",
       "  <tbody>\n",
       "    <tr>\n",
       "      <th>2013-01-06</th>\n",
       "      <td>-0.288975</td>\n",
       "      <td>1.436350</td>\n",
       "      <td>0.339855</td>\n",
       "      <td>-0.102612</td>\n",
       "    </tr>\n",
       "    <tr>\n",
       "      <th>2013-01-05</th>\n",
       "      <td>-0.162644</td>\n",
       "      <td>0.892175</td>\n",
       "      <td>0.955318</td>\n",
       "      <td>-0.347630</td>\n",
       "    </tr>\n",
       "    <tr>\n",
       "      <th>2013-01-02</th>\n",
       "      <td>-1.179086</td>\n",
       "      <td>0.213224</td>\n",
       "      <td>-0.537584</td>\n",
       "      <td>-0.168968</td>\n",
       "    </tr>\n",
       "    <tr>\n",
       "      <th>2013-01-04</th>\n",
       "      <td>1.576835</td>\n",
       "      <td>-0.557684</td>\n",
       "      <td>0.857095</td>\n",
       "      <td>-0.171133</td>\n",
       "    </tr>\n",
       "    <tr>\n",
       "      <th>2013-01-03</th>\n",
       "      <td>0.406152</td>\n",
       "      <td>-1.750393</td>\n",
       "      <td>0.452700</td>\n",
       "      <td>2.498560</td>\n",
       "    </tr>\n",
       "    <tr>\n",
       "      <th>2013-01-01</th>\n",
       "      <td>1.513528</td>\n",
       "      <td>-2.572416</td>\n",
       "      <td>-1.431976</td>\n",
       "      <td>-0.721173</td>\n",
       "    </tr>\n",
       "  </tbody>\n",
       "</table>\n",
       "</div>"
      ],
      "text/plain": [
       "                   A         B         C         D\n",
       "2013-01-06 -0.288975  1.436350  0.339855 -0.102612\n",
       "2013-01-05 -0.162644  0.892175  0.955318 -0.347630\n",
       "2013-01-02 -1.179086  0.213224 -0.537584 -0.168968\n",
       "2013-01-04  1.576835 -0.557684  0.857095 -0.171133\n",
       "2013-01-03  0.406152 -1.750393  0.452700  2.498560\n",
       "2013-01-01  1.513528 -2.572416 -1.431976 -0.721173"
      ]
     },
     "execution_count": 37,
     "metadata": {},
     "output_type": "execute_result"
    }
   ],
   "source": [
    "df"
   ]
  },
  {
   "cell_type": "markdown",
   "id": "809dda50",
   "metadata": {},
   "source": [
    "### Getting (데이터 얻기)"
   ]
  },
  {
   "cell_type": "code",
   "execution_count": 38,
   "id": "88e55878",
   "metadata": {
    "scrolled": false
   },
   "outputs": [
    {
     "data": {
      "text/plain": [
       "2013-01-06   -0.288975\n",
       "2013-01-05   -0.162644\n",
       "2013-01-02   -1.179086\n",
       "2013-01-04    1.576835\n",
       "2013-01-03    0.406152\n",
       "2013-01-01    1.513528\n",
       "Name: A, dtype: float64"
      ]
     },
     "execution_count": 38,
     "metadata": {},
     "output_type": "execute_result"
    }
   ],
   "source": [
    "# df.A 와 동일한 Series를 생성하는 단일 열을 선택합니다.\n",
    "df['A']"
   ]
  },
  {
   "cell_type": "code",
   "execution_count": 39,
   "id": "461eb1be",
   "metadata": {},
   "outputs": [
    {
     "data": {
      "text/html": [
       "<div>\n",
       "<style scoped>\n",
       "    .dataframe tbody tr th:only-of-type {\n",
       "        vertical-align: middle;\n",
       "    }\n",
       "\n",
       "    .dataframe tbody tr th {\n",
       "        vertical-align: top;\n",
       "    }\n",
       "\n",
       "    .dataframe thead th {\n",
       "        text-align: right;\n",
       "    }\n",
       "</style>\n",
       "<table border=\"1\" class=\"dataframe\">\n",
       "  <thead>\n",
       "    <tr style=\"text-align: right;\">\n",
       "      <th></th>\n",
       "      <th>A</th>\n",
       "      <th>B</th>\n",
       "      <th>C</th>\n",
       "      <th>D</th>\n",
       "    </tr>\n",
       "  </thead>\n",
       "  <tbody>\n",
       "    <tr>\n",
       "      <th>2013-01-06</th>\n",
       "      <td>-0.288975</td>\n",
       "      <td>1.436350</td>\n",
       "      <td>0.339855</td>\n",
       "      <td>-0.102612</td>\n",
       "    </tr>\n",
       "    <tr>\n",
       "      <th>2013-01-05</th>\n",
       "      <td>-0.162644</td>\n",
       "      <td>0.892175</td>\n",
       "      <td>0.955318</td>\n",
       "      <td>-0.347630</td>\n",
       "    </tr>\n",
       "    <tr>\n",
       "      <th>2013-01-02</th>\n",
       "      <td>-1.179086</td>\n",
       "      <td>0.213224</td>\n",
       "      <td>-0.537584</td>\n",
       "      <td>-0.168968</td>\n",
       "    </tr>\n",
       "  </tbody>\n",
       "</table>\n",
       "</div>"
      ],
      "text/plain": [
       "                   A         B         C         D\n",
       "2013-01-06 -0.288975  1.436350  0.339855 -0.102612\n",
       "2013-01-05 -0.162644  0.892175  0.955318 -0.347630\n",
       "2013-01-02 -1.179086  0.213224 -0.537584 -0.168968"
      ]
     },
     "execution_count": 39,
     "metadata": {},
     "output_type": "execute_result"
    }
   ],
   "source": [
    "# 행을 분할하는 [ ]를 통해 선택합니다.\n",
    "df[0:3]"
   ]
  },
  {
   "cell_type": "code",
   "execution_count": 40,
   "id": "c22f31b5",
   "metadata": {},
   "outputs": [
    {
     "data": {
      "text/html": [
       "<div>\n",
       "<style scoped>\n",
       "    .dataframe tbody tr th:only-of-type {\n",
       "        vertical-align: middle;\n",
       "    }\n",
       "\n",
       "    .dataframe tbody tr th {\n",
       "        vertical-align: top;\n",
       "    }\n",
       "\n",
       "    .dataframe thead th {\n",
       "        text-align: right;\n",
       "    }\n",
       "</style>\n",
       "<table border=\"1\" class=\"dataframe\">\n",
       "  <thead>\n",
       "    <tr style=\"text-align: right;\">\n",
       "      <th></th>\n",
       "      <th>A</th>\n",
       "      <th>B</th>\n",
       "      <th>C</th>\n",
       "      <th>D</th>\n",
       "    </tr>\n",
       "  </thead>\n",
       "  <tbody>\n",
       "    <tr>\n",
       "      <th>2013-01-02</th>\n",
       "      <td>-1.179086</td>\n",
       "      <td>0.213224</td>\n",
       "      <td>-0.537584</td>\n",
       "      <td>-0.168968</td>\n",
       "    </tr>\n",
       "    <tr>\n",
       "      <th>2013-01-04</th>\n",
       "      <td>1.576835</td>\n",
       "      <td>-0.557684</td>\n",
       "      <td>0.857095</td>\n",
       "      <td>-0.171133</td>\n",
       "    </tr>\n",
       "    <tr>\n",
       "      <th>2013-01-03</th>\n",
       "      <td>0.406152</td>\n",
       "      <td>-1.750393</td>\n",
       "      <td>0.452700</td>\n",
       "      <td>2.498560</td>\n",
       "    </tr>\n",
       "  </tbody>\n",
       "</table>\n",
       "</div>"
      ],
      "text/plain": [
       "                   A         B         C         D\n",
       "2013-01-02 -1.179086  0.213224 -0.537584 -0.168968\n",
       "2013-01-04  1.576835 -0.557684  0.857095 -0.171133\n",
       "2013-01-03  0.406152 -1.750393  0.452700  2.498560"
      ]
     },
     "execution_count": 40,
     "metadata": {},
     "output_type": "execute_result"
    }
   ],
   "source": [
    "df['20130102':'20130104']"
   ]
  },
  {
   "cell_type": "markdown",
   "id": "03753bb3",
   "metadata": {},
   "source": [
    "### Selection by Label (Label을 통한 선택)"
   ]
  },
  {
   "cell_type": "code",
   "execution_count": 41,
   "id": "d11d683a",
   "metadata": {},
   "outputs": [
    {
     "data": {
      "text/plain": [
       "A    1.513528\n",
       "B   -2.572416\n",
       "C   -1.431976\n",
       "D   -0.721173\n",
       "Name: 2013-01-01 00:00:00, dtype: float64"
      ]
     },
     "execution_count": 41,
     "metadata": {},
     "output_type": "execute_result"
    }
   ],
   "source": [
    "# 라벨을 사용하여 횡단면을 얻습니다.\n",
    "df.loc[dates[0]]"
   ]
  },
  {
   "cell_type": "code",
   "execution_count": 42,
   "id": "e86c448d",
   "metadata": {},
   "outputs": [
    {
     "data": {
      "text/html": [
       "<div>\n",
       "<style scoped>\n",
       "    .dataframe tbody tr th:only-of-type {\n",
       "        vertical-align: middle;\n",
       "    }\n",
       "\n",
       "    .dataframe tbody tr th {\n",
       "        vertical-align: top;\n",
       "    }\n",
       "\n",
       "    .dataframe thead th {\n",
       "        text-align: right;\n",
       "    }\n",
       "</style>\n",
       "<table border=\"1\" class=\"dataframe\">\n",
       "  <thead>\n",
       "    <tr style=\"text-align: right;\">\n",
       "      <th></th>\n",
       "      <th>A</th>\n",
       "      <th>B</th>\n",
       "    </tr>\n",
       "  </thead>\n",
       "  <tbody>\n",
       "    <tr>\n",
       "      <th>2013-01-06</th>\n",
       "      <td>-0.288975</td>\n",
       "      <td>1.436350</td>\n",
       "    </tr>\n",
       "    <tr>\n",
       "      <th>2013-01-05</th>\n",
       "      <td>-0.162644</td>\n",
       "      <td>0.892175</td>\n",
       "    </tr>\n",
       "    <tr>\n",
       "      <th>2013-01-02</th>\n",
       "      <td>-1.179086</td>\n",
       "      <td>0.213224</td>\n",
       "    </tr>\n",
       "    <tr>\n",
       "      <th>2013-01-04</th>\n",
       "      <td>1.576835</td>\n",
       "      <td>-0.557684</td>\n",
       "    </tr>\n",
       "    <tr>\n",
       "      <th>2013-01-03</th>\n",
       "      <td>0.406152</td>\n",
       "      <td>-1.750393</td>\n",
       "    </tr>\n",
       "    <tr>\n",
       "      <th>2013-01-01</th>\n",
       "      <td>1.513528</td>\n",
       "      <td>-2.572416</td>\n",
       "    </tr>\n",
       "  </tbody>\n",
       "</table>\n",
       "</div>"
      ],
      "text/plain": [
       "                   A         B\n",
       "2013-01-06 -0.288975  1.436350\n",
       "2013-01-05 -0.162644  0.892175\n",
       "2013-01-02 -1.179086  0.213224\n",
       "2013-01-04  1.576835 -0.557684\n",
       "2013-01-03  0.406152 -1.750393\n",
       "2013-01-01  1.513528 -2.572416"
      ]
     },
     "execution_count": 42,
     "metadata": {},
     "output_type": "execute_result"
    }
   ],
   "source": [
    "# 라벨을 사용하여 여러 축 (의 데이터)을 얻습니다.\n",
    "df.loc[:,['A','B']]"
   ]
  },
  {
   "cell_type": "code",
   "execution_count": 43,
   "id": "6583216e",
   "metadata": {},
   "outputs": [
    {
     "data": {
      "text/plain": [
       "A    1.513528\n",
       "B   -2.572416\n",
       "Name: 2013-01-01 00:00:00, dtype: float64"
      ]
     },
     "execution_count": 43,
     "metadata": {},
     "output_type": "execute_result"
    }
   ],
   "source": [
    "df.loc[dates[0],['A','B']]"
   ]
  },
  {
   "cell_type": "code",
   "execution_count": 44,
   "id": "5b068d4b",
   "metadata": {},
   "outputs": [
    {
     "data": {
      "text/html": [
       "<div>\n",
       "<style scoped>\n",
       "    .dataframe tbody tr th:only-of-type {\n",
       "        vertical-align: middle;\n",
       "    }\n",
       "\n",
       "    .dataframe tbody tr th {\n",
       "        vertical-align: top;\n",
       "    }\n",
       "\n",
       "    .dataframe thead th {\n",
       "        text-align: right;\n",
       "    }\n",
       "</style>\n",
       "<table border=\"1\" class=\"dataframe\">\n",
       "  <thead>\n",
       "    <tr style=\"text-align: right;\">\n",
       "      <th></th>\n",
       "      <th>A</th>\n",
       "      <th>B</th>\n",
       "    </tr>\n",
       "  </thead>\n",
       "  <tbody>\n",
       "    <tr>\n",
       "      <th>2013-01-02</th>\n",
       "      <td>-1.179086</td>\n",
       "      <td>0.213224</td>\n",
       "    </tr>\n",
       "    <tr>\n",
       "      <th>2013-01-04</th>\n",
       "      <td>1.576835</td>\n",
       "      <td>-0.557684</td>\n",
       "    </tr>\n",
       "    <tr>\n",
       "      <th>2013-01-03</th>\n",
       "      <td>0.406152</td>\n",
       "      <td>-1.750393</td>\n",
       "    </tr>\n",
       "  </tbody>\n",
       "</table>\n",
       "</div>"
      ],
      "text/plain": [
       "                   A         B\n",
       "2013-01-02 -1.179086  0.213224\n",
       "2013-01-04  1.576835 -0.557684\n",
       "2013-01-03  0.406152 -1.750393"
      ]
     },
     "execution_count": 44,
     "metadata": {},
     "output_type": "execute_result"
    }
   ],
   "source": [
    "df.loc['20130102':'20130104', ['A','B']]"
   ]
  },
  {
   "cell_type": "code",
   "execution_count": 45,
   "id": "9dd09a34",
   "metadata": {},
   "outputs": [
    {
     "data": {
      "text/html": [
       "<div>\n",
       "<style scoped>\n",
       "    .dataframe tbody tr th:only-of-type {\n",
       "        vertical-align: middle;\n",
       "    }\n",
       "\n",
       "    .dataframe tbody tr th {\n",
       "        vertical-align: top;\n",
       "    }\n",
       "\n",
       "    .dataframe thead th {\n",
       "        text-align: right;\n",
       "    }\n",
       "</style>\n",
       "<table border=\"1\" class=\"dataframe\">\n",
       "  <thead>\n",
       "    <tr style=\"text-align: right;\">\n",
       "      <th></th>\n",
       "      <th>A</th>\n",
       "      <th>B</th>\n",
       "    </tr>\n",
       "  </thead>\n",
       "  <tbody>\n",
       "    <tr>\n",
       "      <th>2013-01-02</th>\n",
       "      <td>-1.179086</td>\n",
       "      <td>0.213224</td>\n",
       "    </tr>\n",
       "  </tbody>\n",
       "</table>\n",
       "</div>"
      ],
      "text/plain": [
       "                   A         B\n",
       "2013-01-02 -1.179086  0.213224"
      ]
     },
     "execution_count": 45,
     "metadata": {},
     "output_type": "execute_result"
    }
   ],
   "source": [
    "df.loc['20130102',['A','B']]"
   ]
  },
  {
   "cell_type": "code",
   "execution_count": 46,
   "id": "b5983810",
   "metadata": {},
   "outputs": [
    {
     "data": {
      "text/plain": [
       "1.5135276238740607"
      ]
     },
     "execution_count": 46,
     "metadata": {},
     "output_type": "execute_result"
    }
   ],
   "source": [
    "# 스칼라 값을 얻습니다.\n",
    "# 스칼라 : 값 하나\n",
    "df.loc[dates[0],'A']"
   ]
  },
  {
   "cell_type": "markdown",
   "id": "d89f47ed",
   "metadata": {},
   "source": [
    "### Selection by Position (위치로 선택하기)"
   ]
  },
  {
   "cell_type": "code",
   "execution_count": 47,
   "id": "fd835419",
   "metadata": {},
   "outputs": [
    {
     "data": {
      "text/html": [
       "<div>\n",
       "<style scoped>\n",
       "    .dataframe tbody tr th:only-of-type {\n",
       "        vertical-align: middle;\n",
       "    }\n",
       "\n",
       "    .dataframe tbody tr th {\n",
       "        vertical-align: top;\n",
       "    }\n",
       "\n",
       "    .dataframe thead th {\n",
       "        text-align: right;\n",
       "    }\n",
       "</style>\n",
       "<table border=\"1\" class=\"dataframe\">\n",
       "  <thead>\n",
       "    <tr style=\"text-align: right;\">\n",
       "      <th></th>\n",
       "      <th>A</th>\n",
       "      <th>B</th>\n",
       "      <th>C</th>\n",
       "      <th>D</th>\n",
       "    </tr>\n",
       "  </thead>\n",
       "  <tbody>\n",
       "    <tr>\n",
       "      <th>2013-01-06</th>\n",
       "      <td>-0.288975</td>\n",
       "      <td>1.436350</td>\n",
       "      <td>0.339855</td>\n",
       "      <td>-0.102612</td>\n",
       "    </tr>\n",
       "    <tr>\n",
       "      <th>2013-01-05</th>\n",
       "      <td>-0.162644</td>\n",
       "      <td>0.892175</td>\n",
       "      <td>0.955318</td>\n",
       "      <td>-0.347630</td>\n",
       "    </tr>\n",
       "    <tr>\n",
       "      <th>2013-01-02</th>\n",
       "      <td>-1.179086</td>\n",
       "      <td>0.213224</td>\n",
       "      <td>-0.537584</td>\n",
       "      <td>-0.168968</td>\n",
       "    </tr>\n",
       "    <tr>\n",
       "      <th>2013-01-04</th>\n",
       "      <td>1.576835</td>\n",
       "      <td>-0.557684</td>\n",
       "      <td>0.857095</td>\n",
       "      <td>-0.171133</td>\n",
       "    </tr>\n",
       "    <tr>\n",
       "      <th>2013-01-03</th>\n",
       "      <td>0.406152</td>\n",
       "      <td>-1.750393</td>\n",
       "      <td>0.452700</td>\n",
       "      <td>2.498560</td>\n",
       "    </tr>\n",
       "    <tr>\n",
       "      <th>2013-01-01</th>\n",
       "      <td>1.513528</td>\n",
       "      <td>-2.572416</td>\n",
       "      <td>-1.431976</td>\n",
       "      <td>-0.721173</td>\n",
       "    </tr>\n",
       "  </tbody>\n",
       "</table>\n",
       "</div>"
      ],
      "text/plain": [
       "                   A         B         C         D\n",
       "2013-01-06 -0.288975  1.436350  0.339855 -0.102612\n",
       "2013-01-05 -0.162644  0.892175  0.955318 -0.347630\n",
       "2013-01-02 -1.179086  0.213224 -0.537584 -0.168968\n",
       "2013-01-04  1.576835 -0.557684  0.857095 -0.171133\n",
       "2013-01-03  0.406152 -1.750393  0.452700  2.498560\n",
       "2013-01-01  1.513528 -2.572416 -1.431976 -0.721173"
      ]
     },
     "execution_count": 47,
     "metadata": {},
     "output_type": "execute_result"
    }
   ],
   "source": [
    "df"
   ]
  },
  {
   "cell_type": "code",
   "execution_count": 48,
   "id": "9a8df0c7",
   "metadata": {},
   "outputs": [
    {
     "data": {
      "text/plain": [
       "A    1.576835\n",
       "B   -0.557684\n",
       "C    0.857095\n",
       "D   -0.171133\n",
       "Name: 2013-01-04 00:00:00, dtype: float64"
      ]
     },
     "execution_count": 48,
     "metadata": {},
     "output_type": "execute_result"
    }
   ],
   "source": [
    "# iloc 의 i 는 index의 약자이다.\n",
    "df.iloc[3]"
   ]
  },
  {
   "cell_type": "code",
   "execution_count": 49,
   "id": "2faddaaf",
   "metadata": {},
   "outputs": [
    {
     "data": {
      "text/html": [
       "<div>\n",
       "<style scoped>\n",
       "    .dataframe tbody tr th:only-of-type {\n",
       "        vertical-align: middle;\n",
       "    }\n",
       "\n",
       "    .dataframe tbody tr th {\n",
       "        vertical-align: top;\n",
       "    }\n",
       "\n",
       "    .dataframe thead th {\n",
       "        text-align: right;\n",
       "    }\n",
       "</style>\n",
       "<table border=\"1\" class=\"dataframe\">\n",
       "  <thead>\n",
       "    <tr style=\"text-align: right;\">\n",
       "      <th></th>\n",
       "      <th>A</th>\n",
       "      <th>B</th>\n",
       "    </tr>\n",
       "  </thead>\n",
       "  <tbody>\n",
       "    <tr>\n",
       "      <th>2013-01-04</th>\n",
       "      <td>1.576835</td>\n",
       "      <td>-0.557684</td>\n",
       "    </tr>\n",
       "    <tr>\n",
       "      <th>2013-01-03</th>\n",
       "      <td>0.406152</td>\n",
       "      <td>-1.750393</td>\n",
       "    </tr>\n",
       "  </tbody>\n",
       "</table>\n",
       "</div>"
      ],
      "text/plain": [
       "                   A         B\n",
       "2013-01-04  1.576835 -0.557684\n",
       "2013-01-03  0.406152 -1.750393"
      ]
     },
     "execution_count": 49,
     "metadata": {},
     "output_type": "execute_result"
    }
   ],
   "source": [
    "df.iloc[3:5,0:2]"
   ]
  },
  {
   "cell_type": "code",
   "execution_count": 50,
   "id": "9367c848",
   "metadata": {},
   "outputs": [
    {
     "data": {
      "text/html": [
       "<div>\n",
       "<style scoped>\n",
       "    .dataframe tbody tr th:only-of-type {\n",
       "        vertical-align: middle;\n",
       "    }\n",
       "\n",
       "    .dataframe tbody tr th {\n",
       "        vertical-align: top;\n",
       "    }\n",
       "\n",
       "    .dataframe thead th {\n",
       "        text-align: right;\n",
       "    }\n",
       "</style>\n",
       "<table border=\"1\" class=\"dataframe\">\n",
       "  <thead>\n",
       "    <tr style=\"text-align: right;\">\n",
       "      <th></th>\n",
       "      <th>A</th>\n",
       "      <th>B</th>\n",
       "      <th>C</th>\n",
       "      <th>D</th>\n",
       "    </tr>\n",
       "  </thead>\n",
       "  <tbody>\n",
       "    <tr>\n",
       "      <th>2013-01-05</th>\n",
       "      <td>-0.162644</td>\n",
       "      <td>0.892175</td>\n",
       "      <td>0.955318</td>\n",
       "      <td>-0.347630</td>\n",
       "    </tr>\n",
       "    <tr>\n",
       "      <th>2013-01-02</th>\n",
       "      <td>-1.179086</td>\n",
       "      <td>0.213224</td>\n",
       "      <td>-0.537584</td>\n",
       "      <td>-0.168968</td>\n",
       "    </tr>\n",
       "  </tbody>\n",
       "</table>\n",
       "</div>"
      ],
      "text/plain": [
       "                   A         B         C         D\n",
       "2013-01-05 -0.162644  0.892175  0.955318 -0.347630\n",
       "2013-01-02 -1.179086  0.213224 -0.537584 -0.168968"
      ]
     },
     "execution_count": 50,
     "metadata": {},
     "output_type": "execute_result"
    }
   ],
   "source": [
    "df.iloc[1:3,:]"
   ]
  },
  {
   "cell_type": "code",
   "execution_count": 51,
   "id": "08842f6d",
   "metadata": {},
   "outputs": [
    {
     "data": {
      "text/html": [
       "<div>\n",
       "<style scoped>\n",
       "    .dataframe tbody tr th:only-of-type {\n",
       "        vertical-align: middle;\n",
       "    }\n",
       "\n",
       "    .dataframe tbody tr th {\n",
       "        vertical-align: top;\n",
       "    }\n",
       "\n",
       "    .dataframe thead th {\n",
       "        text-align: right;\n",
       "    }\n",
       "</style>\n",
       "<table border=\"1\" class=\"dataframe\">\n",
       "  <thead>\n",
       "    <tr style=\"text-align: right;\">\n",
       "      <th></th>\n",
       "      <th>B</th>\n",
       "      <th>C</th>\n",
       "    </tr>\n",
       "  </thead>\n",
       "  <tbody>\n",
       "    <tr>\n",
       "      <th>2013-01-06</th>\n",
       "      <td>1.436350</td>\n",
       "      <td>0.339855</td>\n",
       "    </tr>\n",
       "    <tr>\n",
       "      <th>2013-01-05</th>\n",
       "      <td>0.892175</td>\n",
       "      <td>0.955318</td>\n",
       "    </tr>\n",
       "    <tr>\n",
       "      <th>2013-01-02</th>\n",
       "      <td>0.213224</td>\n",
       "      <td>-0.537584</td>\n",
       "    </tr>\n",
       "    <tr>\n",
       "      <th>2013-01-04</th>\n",
       "      <td>-0.557684</td>\n",
       "      <td>0.857095</td>\n",
       "    </tr>\n",
       "    <tr>\n",
       "      <th>2013-01-03</th>\n",
       "      <td>-1.750393</td>\n",
       "      <td>0.452700</td>\n",
       "    </tr>\n",
       "    <tr>\n",
       "      <th>2013-01-01</th>\n",
       "      <td>-2.572416</td>\n",
       "      <td>-1.431976</td>\n",
       "    </tr>\n",
       "  </tbody>\n",
       "</table>\n",
       "</div>"
      ],
      "text/plain": [
       "                   B         C\n",
       "2013-01-06  1.436350  0.339855\n",
       "2013-01-05  0.892175  0.955318\n",
       "2013-01-02  0.213224 -0.537584\n",
       "2013-01-04 -0.557684  0.857095\n",
       "2013-01-03 -1.750393  0.452700\n",
       "2013-01-01 -2.572416 -1.431976"
      ]
     },
     "execution_count": 51,
     "metadata": {},
     "output_type": "execute_result"
    }
   ],
   "source": [
    "df.iloc[:,1:3]"
   ]
  },
  {
   "cell_type": "code",
   "execution_count": 52,
   "id": "b45f9370",
   "metadata": {},
   "outputs": [
    {
     "data": {
      "text/plain": [
       "0.8921753174896488"
      ]
     },
     "execution_count": 52,
     "metadata": {},
     "output_type": "execute_result"
    }
   ],
   "source": [
    "df.iloc[1,1]"
   ]
  },
  {
   "cell_type": "markdown",
   "id": "49460167",
   "metadata": {},
   "source": [
    "### Boolean Indexing\n",
    "조건에 맞는 값을 필터하겠다."
   ]
  },
  {
   "cell_type": "code",
   "execution_count": 53,
   "id": "870ec386",
   "metadata": {},
   "outputs": [
    {
     "data": {
      "text/html": [
       "<div>\n",
       "<style scoped>\n",
       "    .dataframe tbody tr th:only-of-type {\n",
       "        vertical-align: middle;\n",
       "    }\n",
       "\n",
       "    .dataframe tbody tr th {\n",
       "        vertical-align: top;\n",
       "    }\n",
       "\n",
       "    .dataframe thead th {\n",
       "        text-align: right;\n",
       "    }\n",
       "</style>\n",
       "<table border=\"1\" class=\"dataframe\">\n",
       "  <thead>\n",
       "    <tr style=\"text-align: right;\">\n",
       "      <th></th>\n",
       "      <th>A</th>\n",
       "      <th>B</th>\n",
       "      <th>C</th>\n",
       "      <th>D</th>\n",
       "    </tr>\n",
       "  </thead>\n",
       "  <tbody>\n",
       "    <tr>\n",
       "      <th>2013-01-06</th>\n",
       "      <td>-0.288975</td>\n",
       "      <td>1.436350</td>\n",
       "      <td>0.339855</td>\n",
       "      <td>-0.102612</td>\n",
       "    </tr>\n",
       "    <tr>\n",
       "      <th>2013-01-05</th>\n",
       "      <td>-0.162644</td>\n",
       "      <td>0.892175</td>\n",
       "      <td>0.955318</td>\n",
       "      <td>-0.347630</td>\n",
       "    </tr>\n",
       "    <tr>\n",
       "      <th>2013-01-02</th>\n",
       "      <td>-1.179086</td>\n",
       "      <td>0.213224</td>\n",
       "      <td>-0.537584</td>\n",
       "      <td>-0.168968</td>\n",
       "    </tr>\n",
       "    <tr>\n",
       "      <th>2013-01-04</th>\n",
       "      <td>1.576835</td>\n",
       "      <td>-0.557684</td>\n",
       "      <td>0.857095</td>\n",
       "      <td>-0.171133</td>\n",
       "    </tr>\n",
       "    <tr>\n",
       "      <th>2013-01-03</th>\n",
       "      <td>0.406152</td>\n",
       "      <td>-1.750393</td>\n",
       "      <td>0.452700</td>\n",
       "      <td>2.498560</td>\n",
       "    </tr>\n",
       "    <tr>\n",
       "      <th>2013-01-01</th>\n",
       "      <td>1.513528</td>\n",
       "      <td>-2.572416</td>\n",
       "      <td>-1.431976</td>\n",
       "      <td>-0.721173</td>\n",
       "    </tr>\n",
       "  </tbody>\n",
       "</table>\n",
       "</div>"
      ],
      "text/plain": [
       "                   A         B         C         D\n",
       "2013-01-06 -0.288975  1.436350  0.339855 -0.102612\n",
       "2013-01-05 -0.162644  0.892175  0.955318 -0.347630\n",
       "2013-01-02 -1.179086  0.213224 -0.537584 -0.168968\n",
       "2013-01-04  1.576835 -0.557684  0.857095 -0.171133\n",
       "2013-01-03  0.406152 -1.750393  0.452700  2.498560\n",
       "2013-01-01  1.513528 -2.572416 -1.431976 -0.721173"
      ]
     },
     "execution_count": 53,
     "metadata": {},
     "output_type": "execute_result"
    }
   ],
   "source": [
    "df"
   ]
  },
  {
   "cell_type": "code",
   "execution_count": 54,
   "id": "04ed1631",
   "metadata": {
    "scrolled": true
   },
   "outputs": [
    {
     "data": {
      "text/html": [
       "<div>\n",
       "<style scoped>\n",
       "    .dataframe tbody tr th:only-of-type {\n",
       "        vertical-align: middle;\n",
       "    }\n",
       "\n",
       "    .dataframe tbody tr th {\n",
       "        vertical-align: top;\n",
       "    }\n",
       "\n",
       "    .dataframe thead th {\n",
       "        text-align: right;\n",
       "    }\n",
       "</style>\n",
       "<table border=\"1\" class=\"dataframe\">\n",
       "  <thead>\n",
       "    <tr style=\"text-align: right;\">\n",
       "      <th></th>\n",
       "      <th>A</th>\n",
       "      <th>B</th>\n",
       "      <th>C</th>\n",
       "      <th>D</th>\n",
       "    </tr>\n",
       "  </thead>\n",
       "  <tbody>\n",
       "    <tr>\n",
       "      <th>2013-01-04</th>\n",
       "      <td>1.576835</td>\n",
       "      <td>-0.557684</td>\n",
       "      <td>0.857095</td>\n",
       "      <td>-0.171133</td>\n",
       "    </tr>\n",
       "    <tr>\n",
       "      <th>2013-01-03</th>\n",
       "      <td>0.406152</td>\n",
       "      <td>-1.750393</td>\n",
       "      <td>0.452700</td>\n",
       "      <td>2.498560</td>\n",
       "    </tr>\n",
       "    <tr>\n",
       "      <th>2013-01-01</th>\n",
       "      <td>1.513528</td>\n",
       "      <td>-2.572416</td>\n",
       "      <td>-1.431976</td>\n",
       "      <td>-0.721173</td>\n",
       "    </tr>\n",
       "  </tbody>\n",
       "</table>\n",
       "</div>"
      ],
      "text/plain": [
       "                   A         B         C         D\n",
       "2013-01-04  1.576835 -0.557684  0.857095 -0.171133\n",
       "2013-01-03  0.406152 -1.750393  0.452700  2.498560\n",
       "2013-01-01  1.513528 -2.572416 -1.431976 -0.721173"
      ]
     },
     "execution_count": 54,
     "metadata": {},
     "output_type": "execute_result"
    }
   ],
   "source": [
    "# 컬럼명 쓸 때 가급적 이렇게 쓰지말자\n",
    "df[df.A > 0]"
   ]
  },
  {
   "cell_type": "code",
   "execution_count": 55,
   "id": "9b04397f",
   "metadata": {},
   "outputs": [
    {
     "data": {
      "text/html": [
       "<div>\n",
       "<style scoped>\n",
       "    .dataframe tbody tr th:only-of-type {\n",
       "        vertical-align: middle;\n",
       "    }\n",
       "\n",
       "    .dataframe tbody tr th {\n",
       "        vertical-align: top;\n",
       "    }\n",
       "\n",
       "    .dataframe thead th {\n",
       "        text-align: right;\n",
       "    }\n",
       "</style>\n",
       "<table border=\"1\" class=\"dataframe\">\n",
       "  <thead>\n",
       "    <tr style=\"text-align: right;\">\n",
       "      <th></th>\n",
       "      <th>A</th>\n",
       "      <th>B</th>\n",
       "      <th>C</th>\n",
       "      <th>D</th>\n",
       "    </tr>\n",
       "  </thead>\n",
       "  <tbody>\n",
       "    <tr>\n",
       "      <th>2013-01-04</th>\n",
       "      <td>1.576835</td>\n",
       "      <td>-0.557684</td>\n",
       "      <td>0.857095</td>\n",
       "      <td>-0.171133</td>\n",
       "    </tr>\n",
       "    <tr>\n",
       "      <th>2013-01-03</th>\n",
       "      <td>0.406152</td>\n",
       "      <td>-1.750393</td>\n",
       "      <td>0.452700</td>\n",
       "      <td>2.498560</td>\n",
       "    </tr>\n",
       "    <tr>\n",
       "      <th>2013-01-01</th>\n",
       "      <td>1.513528</td>\n",
       "      <td>-2.572416</td>\n",
       "      <td>-1.431976</td>\n",
       "      <td>-0.721173</td>\n",
       "    </tr>\n",
       "  </tbody>\n",
       "</table>\n",
       "</div>"
      ],
      "text/plain": [
       "                   A         B         C         D\n",
       "2013-01-04  1.576835 -0.557684  0.857095 -0.171133\n",
       "2013-01-03  0.406152 -1.750393  0.452700  2.498560\n",
       "2013-01-01  1.513528 -2.572416 -1.431976 -0.721173"
      ]
     },
     "execution_count": 55,
     "metadata": {},
     "output_type": "execute_result"
    }
   ],
   "source": [
    "# 컬럼명 쓸 때 가급적 이렇게 쓰자.\n",
    "df[df['A'] > 0]"
   ]
  },
  {
   "cell_type": "code",
   "execution_count": 56,
   "id": "433a55c3",
   "metadata": {},
   "outputs": [
    {
     "data": {
      "text/html": [
       "<div>\n",
       "<style scoped>\n",
       "    .dataframe tbody tr th:only-of-type {\n",
       "        vertical-align: middle;\n",
       "    }\n",
       "\n",
       "    .dataframe tbody tr th {\n",
       "        vertical-align: top;\n",
       "    }\n",
       "\n",
       "    .dataframe thead th {\n",
       "        text-align: right;\n",
       "    }\n",
       "</style>\n",
       "<table border=\"1\" class=\"dataframe\">\n",
       "  <thead>\n",
       "    <tr style=\"text-align: right;\">\n",
       "      <th></th>\n",
       "      <th>A</th>\n",
       "      <th>B</th>\n",
       "      <th>C</th>\n",
       "      <th>D</th>\n",
       "    </tr>\n",
       "  </thead>\n",
       "  <tbody>\n",
       "    <tr>\n",
       "      <th>2013-01-06</th>\n",
       "      <td>NaN</td>\n",
       "      <td>1.436350</td>\n",
       "      <td>0.339855</td>\n",
       "      <td>NaN</td>\n",
       "    </tr>\n",
       "    <tr>\n",
       "      <th>2013-01-05</th>\n",
       "      <td>NaN</td>\n",
       "      <td>0.892175</td>\n",
       "      <td>0.955318</td>\n",
       "      <td>NaN</td>\n",
       "    </tr>\n",
       "    <tr>\n",
       "      <th>2013-01-02</th>\n",
       "      <td>NaN</td>\n",
       "      <td>0.213224</td>\n",
       "      <td>NaN</td>\n",
       "      <td>NaN</td>\n",
       "    </tr>\n",
       "    <tr>\n",
       "      <th>2013-01-04</th>\n",
       "      <td>1.576835</td>\n",
       "      <td>NaN</td>\n",
       "      <td>0.857095</td>\n",
       "      <td>NaN</td>\n",
       "    </tr>\n",
       "    <tr>\n",
       "      <th>2013-01-03</th>\n",
       "      <td>0.406152</td>\n",
       "      <td>NaN</td>\n",
       "      <td>0.452700</td>\n",
       "      <td>2.49856</td>\n",
       "    </tr>\n",
       "    <tr>\n",
       "      <th>2013-01-01</th>\n",
       "      <td>1.513528</td>\n",
       "      <td>NaN</td>\n",
       "      <td>NaN</td>\n",
       "      <td>NaN</td>\n",
       "    </tr>\n",
       "  </tbody>\n",
       "</table>\n",
       "</div>"
      ],
      "text/plain": [
       "                   A         B         C        D\n",
       "2013-01-06       NaN  1.436350  0.339855      NaN\n",
       "2013-01-05       NaN  0.892175  0.955318      NaN\n",
       "2013-01-02       NaN  0.213224       NaN      NaN\n",
       "2013-01-04  1.576835       NaN  0.857095      NaN\n",
       "2013-01-03  0.406152       NaN  0.452700  2.49856\n",
       "2013-01-01  1.513528       NaN       NaN      NaN"
      ]
     },
     "execution_count": 56,
     "metadata": {},
     "output_type": "execute_result"
    }
   ],
   "source": [
    "df[df > 0]"
   ]
  },
  {
   "cell_type": "code",
   "execution_count": 57,
   "id": "6eb01462",
   "metadata": {},
   "outputs": [],
   "source": [
    "df1 = df"
   ]
  },
  {
   "cell_type": "code",
   "execution_count": 58,
   "id": "0423f486",
   "metadata": {},
   "outputs": [
    {
     "data": {
      "text/html": [
       "<div>\n",
       "<style scoped>\n",
       "    .dataframe tbody tr th:only-of-type {\n",
       "        vertical-align: middle;\n",
       "    }\n",
       "\n",
       "    .dataframe tbody tr th {\n",
       "        vertical-align: top;\n",
       "    }\n",
       "\n",
       "    .dataframe thead th {\n",
       "        text-align: right;\n",
       "    }\n",
       "</style>\n",
       "<table border=\"1\" class=\"dataframe\">\n",
       "  <thead>\n",
       "    <tr style=\"text-align: right;\">\n",
       "      <th></th>\n",
       "      <th>A</th>\n",
       "      <th>B</th>\n",
       "      <th>C</th>\n",
       "      <th>D</th>\n",
       "    </tr>\n",
       "  </thead>\n",
       "  <tbody>\n",
       "    <tr>\n",
       "      <th>2013-01-06</th>\n",
       "      <td>-0.288975</td>\n",
       "      <td>1.436350</td>\n",
       "      <td>0.339855</td>\n",
       "      <td>-0.102612</td>\n",
       "    </tr>\n",
       "    <tr>\n",
       "      <th>2013-01-05</th>\n",
       "      <td>-0.162644</td>\n",
       "      <td>0.892175</td>\n",
       "      <td>0.955318</td>\n",
       "      <td>-0.347630</td>\n",
       "    </tr>\n",
       "    <tr>\n",
       "      <th>2013-01-02</th>\n",
       "      <td>-1.179086</td>\n",
       "      <td>0.213224</td>\n",
       "      <td>-0.537584</td>\n",
       "      <td>-0.168968</td>\n",
       "    </tr>\n",
       "    <tr>\n",
       "      <th>2013-01-04</th>\n",
       "      <td>1.576835</td>\n",
       "      <td>-0.557684</td>\n",
       "      <td>0.857095</td>\n",
       "      <td>-0.171133</td>\n",
       "    </tr>\n",
       "    <tr>\n",
       "      <th>2013-01-03</th>\n",
       "      <td>0.406152</td>\n",
       "      <td>-1.750393</td>\n",
       "      <td>0.452700</td>\n",
       "      <td>2.498560</td>\n",
       "    </tr>\n",
       "    <tr>\n",
       "      <th>2013-01-01</th>\n",
       "      <td>1.513528</td>\n",
       "      <td>-2.572416</td>\n",
       "      <td>-1.431976</td>\n",
       "      <td>-0.721173</td>\n",
       "    </tr>\n",
       "  </tbody>\n",
       "</table>\n",
       "</div>"
      ],
      "text/plain": [
       "                   A         B         C         D\n",
       "2013-01-06 -0.288975  1.436350  0.339855 -0.102612\n",
       "2013-01-05 -0.162644  0.892175  0.955318 -0.347630\n",
       "2013-01-02 -1.179086  0.213224 -0.537584 -0.168968\n",
       "2013-01-04  1.576835 -0.557684  0.857095 -0.171133\n",
       "2013-01-03  0.406152 -1.750393  0.452700  2.498560\n",
       "2013-01-01  1.513528 -2.572416 -1.431976 -0.721173"
      ]
     },
     "execution_count": 58,
     "metadata": {},
     "output_type": "execute_result"
    }
   ],
   "source": [
    "df1"
   ]
  },
  {
   "cell_type": "code",
   "execution_count": 59,
   "id": "4d2907ba",
   "metadata": {},
   "outputs": [],
   "source": [
    "df1['E'] = ['one', 'one', 'two', 'three', 'four', 'three']"
   ]
  },
  {
   "cell_type": "code",
   "execution_count": 60,
   "id": "85ba8ea7",
   "metadata": {},
   "outputs": [
    {
     "data": {
      "text/html": [
       "<div>\n",
       "<style scoped>\n",
       "    .dataframe tbody tr th:only-of-type {\n",
       "        vertical-align: middle;\n",
       "    }\n",
       "\n",
       "    .dataframe tbody tr th {\n",
       "        vertical-align: top;\n",
       "    }\n",
       "\n",
       "    .dataframe thead th {\n",
       "        text-align: right;\n",
       "    }\n",
       "</style>\n",
       "<table border=\"1\" class=\"dataframe\">\n",
       "  <thead>\n",
       "    <tr style=\"text-align: right;\">\n",
       "      <th></th>\n",
       "      <th>A</th>\n",
       "      <th>B</th>\n",
       "      <th>C</th>\n",
       "      <th>D</th>\n",
       "      <th>E</th>\n",
       "    </tr>\n",
       "  </thead>\n",
       "  <tbody>\n",
       "    <tr>\n",
       "      <th>2013-01-06</th>\n",
       "      <td>-0.288975</td>\n",
       "      <td>1.436350</td>\n",
       "      <td>0.339855</td>\n",
       "      <td>-0.102612</td>\n",
       "      <td>one</td>\n",
       "    </tr>\n",
       "    <tr>\n",
       "      <th>2013-01-05</th>\n",
       "      <td>-0.162644</td>\n",
       "      <td>0.892175</td>\n",
       "      <td>0.955318</td>\n",
       "      <td>-0.347630</td>\n",
       "      <td>one</td>\n",
       "    </tr>\n",
       "    <tr>\n",
       "      <th>2013-01-02</th>\n",
       "      <td>-1.179086</td>\n",
       "      <td>0.213224</td>\n",
       "      <td>-0.537584</td>\n",
       "      <td>-0.168968</td>\n",
       "      <td>two</td>\n",
       "    </tr>\n",
       "    <tr>\n",
       "      <th>2013-01-04</th>\n",
       "      <td>1.576835</td>\n",
       "      <td>-0.557684</td>\n",
       "      <td>0.857095</td>\n",
       "      <td>-0.171133</td>\n",
       "      <td>three</td>\n",
       "    </tr>\n",
       "    <tr>\n",
       "      <th>2013-01-03</th>\n",
       "      <td>0.406152</td>\n",
       "      <td>-1.750393</td>\n",
       "      <td>0.452700</td>\n",
       "      <td>2.498560</td>\n",
       "      <td>four</td>\n",
       "    </tr>\n",
       "    <tr>\n",
       "      <th>2013-01-01</th>\n",
       "      <td>1.513528</td>\n",
       "      <td>-2.572416</td>\n",
       "      <td>-1.431976</td>\n",
       "      <td>-0.721173</td>\n",
       "      <td>three</td>\n",
       "    </tr>\n",
       "  </tbody>\n",
       "</table>\n",
       "</div>"
      ],
      "text/plain": [
       "                   A         B         C         D      E\n",
       "2013-01-06 -0.288975  1.436350  0.339855 -0.102612    one\n",
       "2013-01-05 -0.162644  0.892175  0.955318 -0.347630    one\n",
       "2013-01-02 -1.179086  0.213224 -0.537584 -0.168968    two\n",
       "2013-01-04  1.576835 -0.557684  0.857095 -0.171133  three\n",
       "2013-01-03  0.406152 -1.750393  0.452700  2.498560   four\n",
       "2013-01-01  1.513528 -2.572416 -1.431976 -0.721173  three"
      ]
     },
     "execution_count": 60,
     "metadata": {},
     "output_type": "execute_result"
    }
   ],
   "source": [
    "df1"
   ]
  },
  {
   "cell_type": "code",
   "execution_count": 61,
   "id": "b177f311",
   "metadata": {
    "scrolled": true
   },
   "outputs": [
    {
     "data": {
      "text/html": [
       "<div>\n",
       "<style scoped>\n",
       "    .dataframe tbody tr th:only-of-type {\n",
       "        vertical-align: middle;\n",
       "    }\n",
       "\n",
       "    .dataframe tbody tr th {\n",
       "        vertical-align: top;\n",
       "    }\n",
       "\n",
       "    .dataframe thead th {\n",
       "        text-align: right;\n",
       "    }\n",
       "</style>\n",
       "<table border=\"1\" class=\"dataframe\">\n",
       "  <thead>\n",
       "    <tr style=\"text-align: right;\">\n",
       "      <th></th>\n",
       "      <th>A</th>\n",
       "      <th>B</th>\n",
       "      <th>C</th>\n",
       "      <th>D</th>\n",
       "      <th>E</th>\n",
       "    </tr>\n",
       "  </thead>\n",
       "  <tbody>\n",
       "    <tr>\n",
       "      <th>2013-01-02</th>\n",
       "      <td>-1.179086</td>\n",
       "      <td>0.213224</td>\n",
       "      <td>-0.537584</td>\n",
       "      <td>-0.168968</td>\n",
       "      <td>two</td>\n",
       "    </tr>\n",
       "    <tr>\n",
       "      <th>2013-01-03</th>\n",
       "      <td>0.406152</td>\n",
       "      <td>-1.750393</td>\n",
       "      <td>0.452700</td>\n",
       "      <td>2.498560</td>\n",
       "      <td>four</td>\n",
       "    </tr>\n",
       "  </tbody>\n",
       "</table>\n",
       "</div>"
      ],
      "text/plain": [
       "                   A         B         C         D     E\n",
       "2013-01-02 -1.179086  0.213224 -0.537584 -0.168968   two\n",
       "2013-01-03  0.406152 -1.750393  0.452700  2.498560  four"
      ]
     },
     "execution_count": 61,
     "metadata": {},
     "output_type": "execute_result"
    }
   ],
   "source": [
    "# 필터링을 위한 메소드 isin()을 사용합니다.\n",
    "df1[df1['E'].isin(['two','four'])]"
   ]
  },
  {
   "cell_type": "markdown",
   "id": "56b67c82",
   "metadata": {},
   "source": [
    "### Setting (설정)\n",
    "새 열을 설정하면 데이터가 인덱스 별로 자동 정렬됩니다."
   ]
  },
  {
   "cell_type": "code",
   "execution_count": 62,
   "id": "bbec77e9",
   "metadata": {},
   "outputs": [
    {
     "data": {
      "text/html": [
       "<div>\n",
       "<style scoped>\n",
       "    .dataframe tbody tr th:only-of-type {\n",
       "        vertical-align: middle;\n",
       "    }\n",
       "\n",
       "    .dataframe tbody tr th {\n",
       "        vertical-align: top;\n",
       "    }\n",
       "\n",
       "    .dataframe thead th {\n",
       "        text-align: right;\n",
       "    }\n",
       "</style>\n",
       "<table border=\"1\" class=\"dataframe\">\n",
       "  <thead>\n",
       "    <tr style=\"text-align: right;\">\n",
       "      <th></th>\n",
       "      <th>A</th>\n",
       "      <th>B</th>\n",
       "      <th>C</th>\n",
       "      <th>D</th>\n",
       "      <th>E</th>\n",
       "    </tr>\n",
       "  </thead>\n",
       "  <tbody>\n",
       "    <tr>\n",
       "      <th>2013-01-06</th>\n",
       "      <td>-0.288975</td>\n",
       "      <td>1.436350</td>\n",
       "      <td>0.339855</td>\n",
       "      <td>-0.102612</td>\n",
       "      <td>one</td>\n",
       "    </tr>\n",
       "    <tr>\n",
       "      <th>2013-01-05</th>\n",
       "      <td>-0.162644</td>\n",
       "      <td>0.892175</td>\n",
       "      <td>0.955318</td>\n",
       "      <td>-0.347630</td>\n",
       "      <td>one</td>\n",
       "    </tr>\n",
       "    <tr>\n",
       "      <th>2013-01-02</th>\n",
       "      <td>-1.179086</td>\n",
       "      <td>0.213224</td>\n",
       "      <td>-0.537584</td>\n",
       "      <td>-0.168968</td>\n",
       "      <td>two</td>\n",
       "    </tr>\n",
       "    <tr>\n",
       "      <th>2013-01-04</th>\n",
       "      <td>1.576835</td>\n",
       "      <td>-0.557684</td>\n",
       "      <td>0.857095</td>\n",
       "      <td>-0.171133</td>\n",
       "      <td>three</td>\n",
       "    </tr>\n",
       "    <tr>\n",
       "      <th>2013-01-03</th>\n",
       "      <td>0.406152</td>\n",
       "      <td>-1.750393</td>\n",
       "      <td>0.452700</td>\n",
       "      <td>2.498560</td>\n",
       "      <td>four</td>\n",
       "    </tr>\n",
       "    <tr>\n",
       "      <th>2013-01-01</th>\n",
       "      <td>1.513528</td>\n",
       "      <td>-2.572416</td>\n",
       "      <td>-1.431976</td>\n",
       "      <td>-0.721173</td>\n",
       "      <td>three</td>\n",
       "    </tr>\n",
       "  </tbody>\n",
       "</table>\n",
       "</div>"
      ],
      "text/plain": [
       "                   A         B         C         D      E\n",
       "2013-01-06 -0.288975  1.436350  0.339855 -0.102612    one\n",
       "2013-01-05 -0.162644  0.892175  0.955318 -0.347630    one\n",
       "2013-01-02 -1.179086  0.213224 -0.537584 -0.168968    two\n",
       "2013-01-04  1.576835 -0.557684  0.857095 -0.171133  three\n",
       "2013-01-03  0.406152 -1.750393  0.452700  2.498560   four\n",
       "2013-01-01  1.513528 -2.572416 -1.431976 -0.721173  three"
      ]
     },
     "execution_count": 62,
     "metadata": {},
     "output_type": "execute_result"
    }
   ],
   "source": [
    "df"
   ]
  },
  {
   "cell_type": "code",
   "execution_count": 63,
   "id": "617f94dd",
   "metadata": {},
   "outputs": [],
   "source": [
    "s1 = pd.Series([1,2,3,4,5,6], index = pd.date_range('20130102', periods=6))"
   ]
  },
  {
   "cell_type": "code",
   "execution_count": 64,
   "id": "04767e82",
   "metadata": {},
   "outputs": [],
   "source": [
    "df['F'] = s1"
   ]
  },
  {
   "cell_type": "code",
   "execution_count": 65,
   "id": "54413e78",
   "metadata": {},
   "outputs": [
    {
     "data": {
      "text/html": [
       "<div>\n",
       "<style scoped>\n",
       "    .dataframe tbody tr th:only-of-type {\n",
       "        vertical-align: middle;\n",
       "    }\n",
       "\n",
       "    .dataframe tbody tr th {\n",
       "        vertical-align: top;\n",
       "    }\n",
       "\n",
       "    .dataframe thead th {\n",
       "        text-align: right;\n",
       "    }\n",
       "</style>\n",
       "<table border=\"1\" class=\"dataframe\">\n",
       "  <thead>\n",
       "    <tr style=\"text-align: right;\">\n",
       "      <th></th>\n",
       "      <th>A</th>\n",
       "      <th>B</th>\n",
       "      <th>C</th>\n",
       "      <th>D</th>\n",
       "      <th>E</th>\n",
       "      <th>F</th>\n",
       "    </tr>\n",
       "  </thead>\n",
       "  <tbody>\n",
       "    <tr>\n",
       "      <th>2013-01-06</th>\n",
       "      <td>-0.288975</td>\n",
       "      <td>1.436350</td>\n",
       "      <td>0.339855</td>\n",
       "      <td>-0.102612</td>\n",
       "      <td>one</td>\n",
       "      <td>5.0</td>\n",
       "    </tr>\n",
       "    <tr>\n",
       "      <th>2013-01-05</th>\n",
       "      <td>-0.162644</td>\n",
       "      <td>0.892175</td>\n",
       "      <td>0.955318</td>\n",
       "      <td>-0.347630</td>\n",
       "      <td>one</td>\n",
       "      <td>4.0</td>\n",
       "    </tr>\n",
       "    <tr>\n",
       "      <th>2013-01-02</th>\n",
       "      <td>-1.179086</td>\n",
       "      <td>0.213224</td>\n",
       "      <td>-0.537584</td>\n",
       "      <td>-0.168968</td>\n",
       "      <td>two</td>\n",
       "      <td>1.0</td>\n",
       "    </tr>\n",
       "    <tr>\n",
       "      <th>2013-01-04</th>\n",
       "      <td>1.576835</td>\n",
       "      <td>-0.557684</td>\n",
       "      <td>0.857095</td>\n",
       "      <td>-0.171133</td>\n",
       "      <td>three</td>\n",
       "      <td>3.0</td>\n",
       "    </tr>\n",
       "    <tr>\n",
       "      <th>2013-01-03</th>\n",
       "      <td>0.406152</td>\n",
       "      <td>-1.750393</td>\n",
       "      <td>0.452700</td>\n",
       "      <td>2.498560</td>\n",
       "      <td>four</td>\n",
       "      <td>2.0</td>\n",
       "    </tr>\n",
       "    <tr>\n",
       "      <th>2013-01-01</th>\n",
       "      <td>1.513528</td>\n",
       "      <td>-2.572416</td>\n",
       "      <td>-1.431976</td>\n",
       "      <td>-0.721173</td>\n",
       "      <td>three</td>\n",
       "      <td>NaN</td>\n",
       "    </tr>\n",
       "  </tbody>\n",
       "</table>\n",
       "</div>"
      ],
      "text/plain": [
       "                   A         B         C         D      E    F\n",
       "2013-01-06 -0.288975  1.436350  0.339855 -0.102612    one  5.0\n",
       "2013-01-05 -0.162644  0.892175  0.955318 -0.347630    one  4.0\n",
       "2013-01-02 -1.179086  0.213224 -0.537584 -0.168968    two  1.0\n",
       "2013-01-04  1.576835 -0.557684  0.857095 -0.171133  three  3.0\n",
       "2013-01-03  0.406152 -1.750393  0.452700  2.498560   four  2.0\n",
       "2013-01-01  1.513528 -2.572416 -1.431976 -0.721173  three  NaN"
      ]
     },
     "execution_count": 65,
     "metadata": {},
     "output_type": "execute_result"
    }
   ],
   "source": [
    "df"
   ]
  },
  {
   "cell_type": "code",
   "execution_count": 66,
   "id": "1048ade3",
   "metadata": {},
   "outputs": [
    {
     "data": {
      "text/plain": [
       "DatetimeIndex(['2013-01-02', '2013-01-03', '2013-01-04', '2013-01-05',\n",
       "               '2013-01-06', '2013-01-07'],\n",
       "              dtype='datetime64[ns]', freq='D')"
      ]
     },
     "execution_count": 66,
     "metadata": {},
     "output_type": "execute_result"
    }
   ],
   "source": [
    "index = pd.date_range('20130102', periods=6)\n",
    "index"
   ]
  },
  {
   "cell_type": "markdown",
   "id": "ba348a3d",
   "metadata": {},
   "source": [
    "pd.date_range('20130102', periods=6)은 Pandas에서 제공하는 날짜 범위 생성 함수입니다. 이 함수는 시작일과 종료일, 또는 시작일과 기간을 지정하여 해당 기간 동안의 날짜 범위를 생성합니다."
   ]
  },
  {
   "cell_type": "code",
   "execution_count": 67,
   "id": "2b7c4543",
   "metadata": {},
   "outputs": [
    {
     "data": {
      "text/plain": [
       "6"
      ]
     },
     "execution_count": 67,
     "metadata": {},
     "output_type": "execute_result"
    }
   ],
   "source": [
    "len(df)"
   ]
  },
  {
   "cell_type": "code",
   "execution_count": 68,
   "id": "dab87eaf",
   "metadata": {},
   "outputs": [
    {
     "data": {
      "text/plain": [
       "[5, 5, 5, 5, 5, 5]"
      ]
     },
     "execution_count": 68,
     "metadata": {},
     "output_type": "execute_result"
    }
   ],
   "source": [
    "[5]*len(df)"
   ]
  },
  {
   "cell_type": "code",
   "execution_count": 69,
   "id": "ae79f255",
   "metadata": {
    "scrolled": true
   },
   "outputs": [
    {
     "data": {
      "text/plain": [
       "array([5, 5, 5, 5, 5, 5])"
      ]
     },
     "execution_count": 69,
     "metadata": {},
     "output_type": "execute_result"
    }
   ],
   "source": [
    "np.array([5] * len(df))"
   ]
  },
  {
   "cell_type": "code",
   "execution_count": 70,
   "id": "3a9e54ba",
   "metadata": {
    "scrolled": false
   },
   "outputs": [
    {
     "data": {
      "text/html": [
       "<div>\n",
       "<style scoped>\n",
       "    .dataframe tbody tr th:only-of-type {\n",
       "        vertical-align: middle;\n",
       "    }\n",
       "\n",
       "    .dataframe tbody tr th {\n",
       "        vertical-align: top;\n",
       "    }\n",
       "\n",
       "    .dataframe thead th {\n",
       "        text-align: right;\n",
       "    }\n",
       "</style>\n",
       "<table border=\"1\" class=\"dataframe\">\n",
       "  <thead>\n",
       "    <tr style=\"text-align: right;\">\n",
       "      <th></th>\n",
       "      <th>A</th>\n",
       "      <th>B</th>\n",
       "      <th>C</th>\n",
       "      <th>D</th>\n",
       "      <th>E</th>\n",
       "      <th>F</th>\n",
       "    </tr>\n",
       "  </thead>\n",
       "  <tbody>\n",
       "    <tr>\n",
       "      <th>2013-01-06</th>\n",
       "      <td>-0.288975</td>\n",
       "      <td>1.436350</td>\n",
       "      <td>0.339855</td>\n",
       "      <td>5</td>\n",
       "      <td>one</td>\n",
       "      <td>5.0</td>\n",
       "    </tr>\n",
       "    <tr>\n",
       "      <th>2013-01-05</th>\n",
       "      <td>-0.162644</td>\n",
       "      <td>0.892175</td>\n",
       "      <td>0.955318</td>\n",
       "      <td>5</td>\n",
       "      <td>one</td>\n",
       "      <td>4.0</td>\n",
       "    </tr>\n",
       "    <tr>\n",
       "      <th>2013-01-02</th>\n",
       "      <td>-1.179086</td>\n",
       "      <td>0.213224</td>\n",
       "      <td>-0.537584</td>\n",
       "      <td>5</td>\n",
       "      <td>two</td>\n",
       "      <td>1.0</td>\n",
       "    </tr>\n",
       "    <tr>\n",
       "      <th>2013-01-04</th>\n",
       "      <td>1.576835</td>\n",
       "      <td>-0.557684</td>\n",
       "      <td>0.857095</td>\n",
       "      <td>5</td>\n",
       "      <td>three</td>\n",
       "      <td>3.0</td>\n",
       "    </tr>\n",
       "    <tr>\n",
       "      <th>2013-01-03</th>\n",
       "      <td>0.406152</td>\n",
       "      <td>-1.750393</td>\n",
       "      <td>0.452700</td>\n",
       "      <td>5</td>\n",
       "      <td>four</td>\n",
       "      <td>2.0</td>\n",
       "    </tr>\n",
       "    <tr>\n",
       "      <th>2013-01-01</th>\n",
       "      <td>1.513528</td>\n",
       "      <td>-2.572416</td>\n",
       "      <td>-1.431976</td>\n",
       "      <td>5</td>\n",
       "      <td>three</td>\n",
       "      <td>NaN</td>\n",
       "    </tr>\n",
       "  </tbody>\n",
       "</table>\n",
       "</div>"
      ],
      "text/plain": [
       "                   A         B         C  D      E    F\n",
       "2013-01-06 -0.288975  1.436350  0.339855  5    one  5.0\n",
       "2013-01-05 -0.162644  0.892175  0.955318  5    one  4.0\n",
       "2013-01-02 -1.179086  0.213224 -0.537584  5    two  1.0\n",
       "2013-01-04  1.576835 -0.557684  0.857095  5  three  3.0\n",
       "2013-01-03  0.406152 -1.750393  0.452700  5   four  2.0\n",
       "2013-01-01  1.513528 -2.572416 -1.431976  5  three  NaN"
      ]
     },
     "execution_count": 70,
     "metadata": {},
     "output_type": "execute_result"
    }
   ],
   "source": [
    "df.loc[:,'D'] = np.array([5] * len(df))\n",
    "df"
   ]
  },
  {
   "cell_type": "markdown",
   "id": "e0a1fb42",
   "metadata": {},
   "source": [
    "NumPy의 ndarray 객체는 다차원 배열을 다루기 위한 클래스입니다. ndarray는 N-dimensional array의 약자로, 1차원 배열인 vector부터 다차원 배열인 tensor까지 다양한 형태의 배열을 다룰 수 있습니다.\n",
    "\n",
    "1차원 배열을 생성\n",
    "arr = np.array([1, 2, 3, 4, 5])\n",
    "\n",
    "2차원 배열을 생성\n",
    "arr = np.array([[1, 2], [3, 4], [5, 6]])\n"
   ]
  },
  {
   "cell_type": "code",
   "execution_count": 71,
   "id": "b966e077",
   "metadata": {},
   "outputs": [
    {
     "data": {
      "text/html": [
       "<div>\n",
       "<style scoped>\n",
       "    .dataframe tbody tr th:only-of-type {\n",
       "        vertical-align: middle;\n",
       "    }\n",
       "\n",
       "    .dataframe tbody tr th {\n",
       "        vertical-align: top;\n",
       "    }\n",
       "\n",
       "    .dataframe thead th {\n",
       "        text-align: right;\n",
       "    }\n",
       "</style>\n",
       "<table border=\"1\" class=\"dataframe\">\n",
       "  <thead>\n",
       "    <tr style=\"text-align: right;\">\n",
       "      <th></th>\n",
       "      <th>A</th>\n",
       "      <th>B</th>\n",
       "      <th>C</th>\n",
       "      <th>D</th>\n",
       "      <th>E</th>\n",
       "      <th>F</th>\n",
       "    </tr>\n",
       "  </thead>\n",
       "  <tbody>\n",
       "    <tr>\n",
       "      <th>2013-01-06</th>\n",
       "      <td>-0.288975</td>\n",
       "      <td>1.436350</td>\n",
       "      <td>0.339855</td>\n",
       "      <td>5</td>\n",
       "      <td>one</td>\n",
       "      <td>5.0</td>\n",
       "    </tr>\n",
       "    <tr>\n",
       "      <th>2013-01-05</th>\n",
       "      <td>-0.162644</td>\n",
       "      <td>0.892175</td>\n",
       "      <td>0.955318</td>\n",
       "      <td>5</td>\n",
       "      <td>one</td>\n",
       "      <td>4.0</td>\n",
       "    </tr>\n",
       "    <tr>\n",
       "      <th>2013-01-02</th>\n",
       "      <td>-1.179086</td>\n",
       "      <td>0.213224</td>\n",
       "      <td>-0.537584</td>\n",
       "      <td>5</td>\n",
       "      <td>two</td>\n",
       "      <td>1.0</td>\n",
       "    </tr>\n",
       "    <tr>\n",
       "      <th>2013-01-04</th>\n",
       "      <td>1.576835</td>\n",
       "      <td>-0.557684</td>\n",
       "      <td>0.857095</td>\n",
       "      <td>5</td>\n",
       "      <td>three</td>\n",
       "      <td>3.0</td>\n",
       "    </tr>\n",
       "    <tr>\n",
       "      <th>2013-01-03</th>\n",
       "      <td>0.406152</td>\n",
       "      <td>-1.750393</td>\n",
       "      <td>0.452700</td>\n",
       "      <td>5</td>\n",
       "      <td>four</td>\n",
       "      <td>2.0</td>\n",
       "    </tr>\n",
       "    <tr>\n",
       "      <th>2013-01-01</th>\n",
       "      <td>1.513528</td>\n",
       "      <td>-2.572416</td>\n",
       "      <td>-1.431976</td>\n",
       "      <td>5</td>\n",
       "      <td>three</td>\n",
       "      <td>NaN</td>\n",
       "    </tr>\n",
       "  </tbody>\n",
       "</table>\n",
       "</div>"
      ],
      "text/plain": [
       "                   A         B         C  D      E    F\n",
       "2013-01-06 -0.288975  1.436350  0.339855  5    one  5.0\n",
       "2013-01-05 -0.162644  0.892175  0.955318  5    one  4.0\n",
       "2013-01-02 -1.179086  0.213224 -0.537584  5    two  1.0\n",
       "2013-01-04  1.576835 -0.557684  0.857095  5  three  3.0\n",
       "2013-01-03  0.406152 -1.750393  0.452700  5   four  2.0\n",
       "2013-01-01  1.513528 -2.572416 -1.431976  5  three  NaN"
      ]
     },
     "execution_count": 71,
     "metadata": {},
     "output_type": "execute_result"
    }
   ],
   "source": [
    "df.loc[:,'D'] = [5] * len(df)\n",
    "df"
   ]
  },
  {
   "cell_type": "code",
   "execution_count": 72,
   "id": "f7b52db6",
   "metadata": {
    "scrolled": true
   },
   "outputs": [
    {
     "data": {
      "text/html": [
       "<div>\n",
       "<style scoped>\n",
       "    .dataframe tbody tr th:only-of-type {\n",
       "        vertical-align: middle;\n",
       "    }\n",
       "\n",
       "    .dataframe tbody tr th {\n",
       "        vertical-align: top;\n",
       "    }\n",
       "\n",
       "    .dataframe thead th {\n",
       "        text-align: right;\n",
       "    }\n",
       "</style>\n",
       "<table border=\"1\" class=\"dataframe\">\n",
       "  <thead>\n",
       "    <tr style=\"text-align: right;\">\n",
       "      <th></th>\n",
       "      <th>A</th>\n",
       "      <th>B</th>\n",
       "      <th>C</th>\n",
       "      <th>D</th>\n",
       "      <th>E</th>\n",
       "      <th>F</th>\n",
       "    </tr>\n",
       "  </thead>\n",
       "  <tbody>\n",
       "    <tr>\n",
       "      <th>2013-01-06</th>\n",
       "      <td>-0.288975</td>\n",
       "      <td>1.436350</td>\n",
       "      <td>0.339855</td>\n",
       "      <td>5</td>\n",
       "      <td>one</td>\n",
       "      <td>5.0</td>\n",
       "    </tr>\n",
       "    <tr>\n",
       "      <th>2013-01-05</th>\n",
       "      <td>-0.162644</td>\n",
       "      <td>0.892175</td>\n",
       "      <td>0.955318</td>\n",
       "      <td>5</td>\n",
       "      <td>one</td>\n",
       "      <td>4.0</td>\n",
       "    </tr>\n",
       "    <tr>\n",
       "      <th>2013-01-02</th>\n",
       "      <td>-1.179086</td>\n",
       "      <td>0.213224</td>\n",
       "      <td>-0.537584</td>\n",
       "      <td>5</td>\n",
       "      <td>two</td>\n",
       "      <td>1.0</td>\n",
       "    </tr>\n",
       "    <tr>\n",
       "      <th>2013-01-04</th>\n",
       "      <td>1.576835</td>\n",
       "      <td>-0.557684</td>\n",
       "      <td>0.857095</td>\n",
       "      <td>5</td>\n",
       "      <td>three</td>\n",
       "      <td>3.0</td>\n",
       "    </tr>\n",
       "    <tr>\n",
       "      <th>2013-01-03</th>\n",
       "      <td>0.406152</td>\n",
       "      <td>-1.750393</td>\n",
       "      <td>0.452700</td>\n",
       "      <td>5</td>\n",
       "      <td>four</td>\n",
       "      <td>2.0</td>\n",
       "    </tr>\n",
       "    <tr>\n",
       "      <th>2013-01-01</th>\n",
       "      <td>1.513528</td>\n",
       "      <td>-2.572416</td>\n",
       "      <td>-1.431976</td>\n",
       "      <td>5</td>\n",
       "      <td>three</td>\n",
       "      <td>NaN</td>\n",
       "    </tr>\n",
       "  </tbody>\n",
       "</table>\n",
       "</div>"
      ],
      "text/plain": [
       "                   A         B         C  D      E    F\n",
       "2013-01-06 -0.288975  1.436350  0.339855  5    one  5.0\n",
       "2013-01-05 -0.162644  0.892175  0.955318  5    one  4.0\n",
       "2013-01-02 -1.179086  0.213224 -0.537584  5    two  1.0\n",
       "2013-01-04  1.576835 -0.557684  0.857095  5  three  3.0\n",
       "2013-01-03  0.406152 -1.750393  0.452700  5   four  2.0\n",
       "2013-01-01  1.513528 -2.572416 -1.431976  5  three  NaN"
      ]
     },
     "execution_count": 72,
     "metadata": {},
     "output_type": "execute_result"
    }
   ],
   "source": [
    "df2 = df.copy()\n",
    "df2"
   ]
  },
  {
   "cell_type": "code",
   "execution_count": 73,
   "id": "1bc52f13",
   "metadata": {},
   "outputs": [],
   "source": [
    "df2 = df2.describe()"
   ]
  },
  {
   "cell_type": "code",
   "execution_count": 74,
   "id": "a944c2e2",
   "metadata": {
    "scrolled": true
   },
   "outputs": [
    {
     "data": {
      "text/html": [
       "<div>\n",
       "<style scoped>\n",
       "    .dataframe tbody tr th:only-of-type {\n",
       "        vertical-align: middle;\n",
       "    }\n",
       "\n",
       "    .dataframe tbody tr th {\n",
       "        vertical-align: top;\n",
       "    }\n",
       "\n",
       "    .dataframe thead th {\n",
       "        text-align: right;\n",
       "    }\n",
       "</style>\n",
       "<table border=\"1\" class=\"dataframe\">\n",
       "  <thead>\n",
       "    <tr style=\"text-align: right;\">\n",
       "      <th></th>\n",
       "      <th>A</th>\n",
       "      <th>B</th>\n",
       "      <th>C</th>\n",
       "      <th>D</th>\n",
       "      <th>F</th>\n",
       "    </tr>\n",
       "  </thead>\n",
       "  <tbody>\n",
       "    <tr>\n",
       "      <th>count</th>\n",
       "      <td>-6.000000</td>\n",
       "      <td>-6.000000</td>\n",
       "      <td>-6.000000</td>\n",
       "      <td>-6.0</td>\n",
       "      <td>-5.000000</td>\n",
       "    </tr>\n",
       "    <tr>\n",
       "      <th>mean</th>\n",
       "      <td>-0.310968</td>\n",
       "      <td>-0.389790</td>\n",
       "      <td>-0.105901</td>\n",
       "      <td>-5.0</td>\n",
       "      <td>-3.000000</td>\n",
       "    </tr>\n",
       "    <tr>\n",
       "      <th>std</th>\n",
       "      <td>-1.082786</td>\n",
       "      <td>-1.548233</td>\n",
       "      <td>-0.920863</td>\n",
       "      <td>0.0</td>\n",
       "      <td>-1.581139</td>\n",
       "    </tr>\n",
       "    <tr>\n",
       "      <th>min</th>\n",
       "      <td>-1.179086</td>\n",
       "      <td>-2.572416</td>\n",
       "      <td>-1.431976</td>\n",
       "      <td>-5.0</td>\n",
       "      <td>-1.000000</td>\n",
       "    </tr>\n",
       "    <tr>\n",
       "      <th>25%</th>\n",
       "      <td>-0.257393</td>\n",
       "      <td>-1.452216</td>\n",
       "      <td>-0.318224</td>\n",
       "      <td>-5.0</td>\n",
       "      <td>-2.000000</td>\n",
       "    </tr>\n",
       "    <tr>\n",
       "      <th>50%</th>\n",
       "      <td>-0.121754</td>\n",
       "      <td>-0.172230</td>\n",
       "      <td>-0.396278</td>\n",
       "      <td>-5.0</td>\n",
       "      <td>-3.000000</td>\n",
       "    </tr>\n",
       "    <tr>\n",
       "      <th>75%</th>\n",
       "      <td>-1.236684</td>\n",
       "      <td>-0.722438</td>\n",
       "      <td>-0.755996</td>\n",
       "      <td>-5.0</td>\n",
       "      <td>-4.000000</td>\n",
       "    </tr>\n",
       "    <tr>\n",
       "      <th>max</th>\n",
       "      <td>-1.576835</td>\n",
       "      <td>-1.436350</td>\n",
       "      <td>-0.955318</td>\n",
       "      <td>-5.0</td>\n",
       "      <td>-5.000000</td>\n",
       "    </tr>\n",
       "  </tbody>\n",
       "</table>\n",
       "</div>"
      ],
      "text/plain": [
       "              A         B         C    D         F\n",
       "count -6.000000 -6.000000 -6.000000 -6.0 -5.000000\n",
       "mean  -0.310968 -0.389790 -0.105901 -5.0 -3.000000\n",
       "std   -1.082786 -1.548233 -0.920863  0.0 -1.581139\n",
       "min   -1.179086 -2.572416 -1.431976 -5.0 -1.000000\n",
       "25%   -0.257393 -1.452216 -0.318224 -5.0 -2.000000\n",
       "50%   -0.121754 -0.172230 -0.396278 -5.0 -3.000000\n",
       "75%   -1.236684 -0.722438 -0.755996 -5.0 -4.000000\n",
       "max   -1.576835 -1.436350 -0.955318 -5.0 -5.000000"
      ]
     },
     "execution_count": 74,
     "metadata": {},
     "output_type": "execute_result"
    }
   ],
   "source": [
    "df2[df2 > 0] = -df2\n",
    "df2"
   ]
  },
  {
   "cell_type": "markdown",
   "id": "48f7fd13",
   "metadata": {},
   "source": [
    "- 여기까지 한 내용 정리\n",
    "1. Object Creation (객체 생성)\n",
    "2. Viewing Data (데이터 확인하기)\n",
    "3. Selection (선택)"
   ]
  },
  {
   "cell_type": "markdown",
   "id": "ad81d611",
   "metadata": {},
   "source": [
    "## 4. Missing Data (결측치)\n",
    "Pandas는 결측치를 표현하기 위해 주로 np.nan 값을 사용합니다."
   ]
  },
  {
   "cell_type": "markdown",
   "id": "2392bee4",
   "metadata": {},
   "source": [
    "Reindexing으로 지정된 축 상의 인덱스를 변경 / 추가 / 삭제할 수 있습니다. Reindexing은 데이터의 복사본을 반환합니다."
   ]
  },
  {
   "cell_type": "code",
   "execution_count": 85,
   "id": "f8ae2c40",
   "metadata": {},
   "outputs": [
    {
     "data": {
      "text/html": [
       "<div>\n",
       "<style scoped>\n",
       "    .dataframe tbody tr th:only-of-type {\n",
       "        vertical-align: middle;\n",
       "    }\n",
       "\n",
       "    .dataframe tbody tr th {\n",
       "        vertical-align: top;\n",
       "    }\n",
       "\n",
       "    .dataframe thead th {\n",
       "        text-align: right;\n",
       "    }\n",
       "</style>\n",
       "<table border=\"1\" class=\"dataframe\">\n",
       "  <thead>\n",
       "    <tr style=\"text-align: right;\">\n",
       "      <th></th>\n",
       "      <th>A</th>\n",
       "      <th>B</th>\n",
       "      <th>C</th>\n",
       "      <th>D</th>\n",
       "      <th>F</th>\n",
       "    </tr>\n",
       "  </thead>\n",
       "  <tbody>\n",
       "    <tr>\n",
       "      <th>2013-01-06</th>\n",
       "      <td>-0.288975</td>\n",
       "      <td>1.436350</td>\n",
       "      <td>0.339855</td>\n",
       "      <td>5</td>\n",
       "      <td>5.0</td>\n",
       "    </tr>\n",
       "    <tr>\n",
       "      <th>2013-01-05</th>\n",
       "      <td>-0.162644</td>\n",
       "      <td>0.892175</td>\n",
       "      <td>0.955318</td>\n",
       "      <td>5</td>\n",
       "      <td>4.0</td>\n",
       "    </tr>\n",
       "    <tr>\n",
       "      <th>2013-01-02</th>\n",
       "      <td>-1.179086</td>\n",
       "      <td>0.213224</td>\n",
       "      <td>-0.537584</td>\n",
       "      <td>5</td>\n",
       "      <td>1.0</td>\n",
       "    </tr>\n",
       "    <tr>\n",
       "      <th>2013-01-04</th>\n",
       "      <td>1.576835</td>\n",
       "      <td>-0.557684</td>\n",
       "      <td>0.857095</td>\n",
       "      <td>5</td>\n",
       "      <td>3.0</td>\n",
       "    </tr>\n",
       "    <tr>\n",
       "      <th>2013-01-03</th>\n",
       "      <td>0.406152</td>\n",
       "      <td>-1.750393</td>\n",
       "      <td>0.452700</td>\n",
       "      <td>5</td>\n",
       "      <td>2.0</td>\n",
       "    </tr>\n",
       "    <tr>\n",
       "      <th>2013-01-01</th>\n",
       "      <td>1.513528</td>\n",
       "      <td>-2.572416</td>\n",
       "      <td>-1.431976</td>\n",
       "      <td>5</td>\n",
       "      <td>NaN</td>\n",
       "    </tr>\n",
       "  </tbody>\n",
       "</table>\n",
       "</div>"
      ],
      "text/plain": [
       "                   A         B         C  D    F\n",
       "2013-01-06 -0.288975  1.436350  0.339855  5  5.0\n",
       "2013-01-05 -0.162644  0.892175  0.955318  5  4.0\n",
       "2013-01-02 -1.179086  0.213224 -0.537584  5  1.0\n",
       "2013-01-04  1.576835 -0.557684  0.857095  5  3.0\n",
       "2013-01-03  0.406152 -1.750393  0.452700  5  2.0\n",
       "2013-01-01  1.513528 -2.572416 -1.431976  5  NaN"
      ]
     },
     "execution_count": 85,
     "metadata": {},
     "output_type": "execute_result"
    }
   ],
   "source": [
    "df"
   ]
  },
  {
   "cell_type": "markdown",
   "id": "3af9f19d",
   "metadata": {},
   "source": [
    "## 5. Operation (연산)"
   ]
  },
  {
   "cell_type": "markdown",
   "id": "51903220",
   "metadata": {},
   "source": [
    "### Stats (통계)\n",
    "일반적으로 결측치를 제외한 후 연산됩니다."
   ]
  },
  {
   "cell_type": "code",
   "execution_count": 96,
   "id": "889014e8",
   "metadata": {},
   "outputs": [
    {
     "data": {
      "text/plain": [
       "A    0.310968\n",
       "B   -0.389790\n",
       "C    0.105901\n",
       "D    5.000000\n",
       "F    3.000000\n",
       "dtype: float64"
      ]
     },
     "execution_count": 96,
     "metadata": {},
     "output_type": "execute_result"
    }
   ],
   "source": [
    "# 열별 평균값 계산\n",
    "df.mean()"
   ]
  },
  {
   "cell_type": "code",
   "execution_count": 99,
   "id": "ae79577e",
   "metadata": {
    "scrolled": true
   },
   "outputs": [
    {
     "data": {
      "text/plain": [
       "2013-01-06    2.297446\n",
       "2013-01-05    2.136970\n",
       "2013-01-02    0.899311\n",
       "2013-01-04    1.975249\n",
       "2013-01-03    1.221692\n",
       "2013-01-01    0.627284\n",
       "dtype: float64"
      ]
     },
     "execution_count": 99,
     "metadata": {},
     "output_type": "execute_result"
    }
   ],
   "source": [
    "# mean(1) 괄호 안에 1은 행을 의미한다.\n",
    "df.mean(1)"
   ]
  },
  {
   "cell_type": "code",
   "execution_count": 104,
   "id": "4d0b2a7a",
   "metadata": {},
   "outputs": [],
   "source": [
    "s = pd.Series([1,3,5,np.nan,6,8], index=dates).shift(2)"
   ]
  },
  {
   "cell_type": "code",
   "execution_count": 103,
   "id": "f739097d",
   "metadata": {},
   "outputs": [
    {
     "data": {
      "text/plain": [
       "2013-01-01    NaN\n",
       "2013-01-02    NaN\n",
       "2013-01-03    1.0\n",
       "2013-01-04    3.0\n",
       "2013-01-05    5.0\n",
       "2013-01-06    NaN\n",
       "Freq: D, dtype: float64"
      ]
     },
     "execution_count": 103,
     "metadata": {},
     "output_type": "execute_result"
    }
   ],
   "source": [
    "s"
   ]
  },
  {
   "cell_type": "markdown",
   "id": "e948eef9",
   "metadata": {},
   "source": [
    "### Apply (적용)"
   ]
  },
  {
   "cell_type": "code",
   "execution_count": 87,
   "id": "d5a5ba82",
   "metadata": {},
   "outputs": [
    {
     "data": {
      "text/html": [
       "<div>\n",
       "<style scoped>\n",
       "    .dataframe tbody tr th:only-of-type {\n",
       "        vertical-align: middle;\n",
       "    }\n",
       "\n",
       "    .dataframe tbody tr th {\n",
       "        vertical-align: top;\n",
       "    }\n",
       "\n",
       "    .dataframe thead th {\n",
       "        text-align: right;\n",
       "    }\n",
       "</style>\n",
       "<table border=\"1\" class=\"dataframe\">\n",
       "  <thead>\n",
       "    <tr style=\"text-align: right;\">\n",
       "      <th></th>\n",
       "      <th>A</th>\n",
       "      <th>B</th>\n",
       "      <th>C</th>\n",
       "      <th>D</th>\n",
       "      <th>F</th>\n",
       "    </tr>\n",
       "  </thead>\n",
       "  <tbody>\n",
       "    <tr>\n",
       "      <th>2013-01-06</th>\n",
       "      <td>-0.288975</td>\n",
       "      <td>1.436350</td>\n",
       "      <td>0.339855</td>\n",
       "      <td>5</td>\n",
       "      <td>5.0</td>\n",
       "    </tr>\n",
       "    <tr>\n",
       "      <th>2013-01-05</th>\n",
       "      <td>-0.451620</td>\n",
       "      <td>2.328526</td>\n",
       "      <td>1.295174</td>\n",
       "      <td>10</td>\n",
       "      <td>9.0</td>\n",
       "    </tr>\n",
       "    <tr>\n",
       "      <th>2013-01-02</th>\n",
       "      <td>-1.630706</td>\n",
       "      <td>2.541750</td>\n",
       "      <td>0.757589</td>\n",
       "      <td>15</td>\n",
       "      <td>10.0</td>\n",
       "    </tr>\n",
       "    <tr>\n",
       "      <th>2013-01-04</th>\n",
       "      <td>-0.053871</td>\n",
       "      <td>1.984066</td>\n",
       "      <td>1.614685</td>\n",
       "      <td>20</td>\n",
       "      <td>13.0</td>\n",
       "    </tr>\n",
       "    <tr>\n",
       "      <th>2013-01-03</th>\n",
       "      <td>0.352281</td>\n",
       "      <td>0.233673</td>\n",
       "      <td>2.067384</td>\n",
       "      <td>25</td>\n",
       "      <td>15.0</td>\n",
       "    </tr>\n",
       "    <tr>\n",
       "      <th>2013-01-01</th>\n",
       "      <td>1.865808</td>\n",
       "      <td>-2.338743</td>\n",
       "      <td>0.635408</td>\n",
       "      <td>30</td>\n",
       "      <td>NaN</td>\n",
       "    </tr>\n",
       "  </tbody>\n",
       "</table>\n",
       "</div>"
      ],
      "text/plain": [
       "                   A         B         C   D     F\n",
       "2013-01-06 -0.288975  1.436350  0.339855   5   5.0\n",
       "2013-01-05 -0.451620  2.328526  1.295174  10   9.0\n",
       "2013-01-02 -1.630706  2.541750  0.757589  15  10.0\n",
       "2013-01-04 -0.053871  1.984066  1.614685  20  13.0\n",
       "2013-01-03  0.352281  0.233673  2.067384  25  15.0\n",
       "2013-01-01  1.865808 -2.338743  0.635408  30   NaN"
      ]
     },
     "execution_count": 87,
     "metadata": {},
     "output_type": "execute_result"
    }
   ],
   "source": [
    "df.apply(np.cumsum)"
   ]
  },
  {
   "cell_type": "code",
   "execution_count": 95,
   "id": "a23790ff",
   "metadata": {
    "scrolled": true
   },
   "outputs": [
    {
     "data": {
      "text/plain": [
       "A    2.755921\n",
       "B    4.008766\n",
       "C    2.387294\n",
       "D    0.000000\n",
       "F    4.000000\n",
       "dtype: float64"
      ]
     },
     "execution_count": 95,
     "metadata": {},
     "output_type": "execute_result"
    }
   ],
   "source": [
    "df.apply(lambda x: x.max() - x.min())"
   ]
  },
  {
   "cell_type": "markdown",
   "id": "9500f62e",
   "metadata": {},
   "source": [
    "## Histogramming (히스토그래밍)"
   ]
  },
  {
   "cell_type": "code",
   "execution_count": 90,
   "id": "614ee5ef",
   "metadata": {},
   "outputs": [
    {
     "data": {
      "text/plain": [
       "0    3\n",
       "1    5\n",
       "2    0\n",
       "3    1\n",
       "4    6\n",
       "5    6\n",
       "6    1\n",
       "7    4\n",
       "8    4\n",
       "9    6\n",
       "dtype: int32"
      ]
     },
     "execution_count": 90,
     "metadata": {},
     "output_type": "execute_result"
    }
   ],
   "source": [
    "s = pd.Series(np.random.randint(0, 7, size=10))\n",
    "s"
   ]
  },
  {
   "cell_type": "code",
   "execution_count": 91,
   "id": "d2da7e2a",
   "metadata": {},
   "outputs": [
    {
     "data": {
      "text/plain": [
       "6    3\n",
       "1    2\n",
       "4    2\n",
       "3    1\n",
       "5    1\n",
       "0    1\n",
       "dtype: int64"
      ]
     },
     "execution_count": 91,
     "metadata": {},
     "output_type": "execute_result"
    }
   ],
   "source": [
    "s.value_counts()"
   ]
  },
  {
   "cell_type": "markdown",
   "id": "ffc68af0",
   "metadata": {},
   "source": [
    "## String Methods (문자열 메소드)\n",
    "Series는 다음의 코드와 같이 문자열 처리 메소드 모음 (set)을 가지고 있습니다.\n",
    "이 모음은 배열의 각 요소를 쉽게 조작할 수 있도록 만들어주는 문자열의 속성에 포함되어 있습니다.\n",
    "\n",
    "문자열의 패턴 일치 확인은 기본적으로 정규 표현식을 사용하며, 몇몇 경우에는 항상 정규 표현식을 사용함에 유의하십시오."
   ]
  },
  {
   "cell_type": "code",
   "execution_count": 92,
   "id": "fc02d587",
   "metadata": {},
   "outputs": [],
   "source": [
    "s = pd.Series(['A','B','C','Aaba','Baca',np.nan,'CABA','dog','cat'])"
   ]
  },
  {
   "cell_type": "code",
   "execution_count": 93,
   "id": "a768a8b9",
   "metadata": {},
   "outputs": [
    {
     "data": {
      "text/plain": [
       "0       a\n",
       "1       b\n",
       "2       c\n",
       "3    aaba\n",
       "4    baca\n",
       "5     NaN\n",
       "6    caba\n",
       "7     dog\n",
       "8     cat\n",
       "dtype: object"
      ]
     },
     "execution_count": 93,
     "metadata": {},
     "output_type": "execute_result"
    }
   ],
   "source": [
    "s.str.lower()"
   ]
  },
  {
   "cell_type": "code",
   "execution_count": null,
   "id": "79bce197",
   "metadata": {},
   "outputs": [],
   "source": []
  }
 ],
 "metadata": {
  "kernelspec": {
   "display_name": "Python 3 (ipykernel)",
   "language": "python",
   "name": "python3"
  },
  "language_info": {
   "codemirror_mode": {
    "name": "ipython",
    "version": 3
   },
   "file_extension": ".py",
   "mimetype": "text/x-python",
   "name": "python",
   "nbconvert_exporter": "python",
   "pygments_lexer": "ipython3",
   "version": "3.9.7"
  }
 },
 "nbformat": 4,
 "nbformat_minor": 5
}
