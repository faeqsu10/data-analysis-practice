{
 "cells": [
  {
   "cell_type": "markdown",
   "id": "e5b2d6af",
   "metadata": {},
   "source": [
    "입문자를 위한, 파이썬 리뷰"
   ]
  },
  {
   "cell_type": "markdown",
   "id": "70af0e1b",
   "metadata": {},
   "source": [
    "# 1"
   ]
  },
  {
   "cell_type": "code",
   "execution_count": null,
   "id": "17dff769",
   "metadata": {},
   "outputs": [],
   "source": [
    "s = \"aBcDeFg\"\n",
    "result = \"\"\n",
    "for c in s:\n",
    "    if c.islower():\n",
    "        result += c.upper()\n",
    "    else:\n",
    "        result += c.lower()\n",
    "print(result)"
   ]
  },
  {
   "cell_type": "markdown",
   "id": "2ef2c9a4",
   "metadata": {},
   "source": [
    "for c in s: 에서 s에서 c를 하나씩 뽑을 수 있음\n",
    "->포인트는 포문에서 사용하는 프레임이 문자열이라는 것임\n",
    "문자열 프레임을할지, 정수 프레임을 할지 정해줘야함\n",
    "정수 프레임을 할거면\n",
    "for i in range(len(s)): 이런식으로 바꿔준다\n",
    "\n",
    "c.islower() c가 소문자이면 할때 islower() 함수를 사용한다\n",
    "\n",
    "result = \"\" 라는 문자열 변수를 초기화하여 만들어줌\n",
    "\n",
    "result 문자열 변수에 하나씩 upper()와 lower() 함수를 써서 대문자는 대문자로 소문자는 소문자로 바꾸어줘서 넣어준다.\n",
    "\n",
    "print(result) 로 전체 result 결과값을 보여준다"
   ]
  },
  {
   "cell_type": "code",
   "execution_count": null,
   "id": "5ef1aa2d",
   "metadata": {},
   "outputs": [],
   "source": [
    "print(s.swapcase())"
   ]
  },
  {
   "cell_type": "markdown",
   "id": "d57cbfff",
   "metadata": {},
   "source": [
    "대소문자 한번에 바꿀 때 swapcase() 함수 사용한다."
   ]
  },
  {
   "cell_type": "code",
   "execution_count": null,
   "id": "35fc72be",
   "metadata": {},
   "outputs": [],
   "source": [
    "str = \"aBcDeFg\"\n",
    "a = list(str)\n",
    "for x in range(len(str)):\n",
    "    if a[x]==str.upper()[x]:\n",
    "        a[x]=str.lower()[x]\n",
    "    elif not a[x]==str.upper()[x]:\n",
    "        a[x]=str.upper()[x]\n",
    "print(a)\n",
    "print(type(\"\".join(a)))"
   ]
  },
  {
   "cell_type": "code",
   "execution_count": null,
   "id": "f60c4911",
   "metadata": {
    "scrolled": true
   },
   "outputs": [],
   "source": [
    "str = \"aBcDeFg\"\n",
    "print(str.swapcase())"
   ]
  },
  {
   "cell_type": "markdown",
   "id": "aceb7cf4",
   "metadata": {},
   "source": [
    "# 2"
   ]
  },
  {
   "cell_type": "code",
   "execution_count": null,
   "id": "e2584789",
   "metadata": {
    "scrolled": true
   },
   "outputs": [],
   "source": [
    "print('!@#$%^&*(\\\\\\'\"<>?:;')"
   ]
  },
  {
   "cell_type": "code",
   "execution_count": null,
   "id": "e5ebf384",
   "metadata": {},
   "outputs": [],
   "source": [
    "print(r'!@#$%^&*(\\'\"<>?:;')"
   ]
  },
  {
   "cell_type": "markdown",
   "id": "51db6a1b",
   "metadata": {},
   "source": [
    "r은 파이썬에서 raw string을 의미합니다. raw string은 이스케이프 문자를 해석하지 않고 그대로 출력하는 문자열입니다."
   ]
  },
  {
   "cell_type": "markdown",
   "id": "af2cefe6",
   "metadata": {},
   "source": [
    "# 3"
   ]
  },
  {
   "cell_type": "code",
   "execution_count": null,
   "id": "f02e0e7a",
   "metadata": {},
   "outputs": [],
   "source": [
    "a, b = map(int, input().strip().split(' '))\n",
    "c = a + b\n",
    "print('{} + {} = {}'.format(a, b, c))"
   ]
  },
  {
   "cell_type": "code",
   "execution_count": null,
   "id": "15a19b5d",
   "metadata": {},
   "outputs": [],
   "source": [
    "print(f\"{a} + {b} = {a + b}\")"
   ]
  },
  {
   "cell_type": "code",
   "execution_count": null,
   "id": "ca577ada",
   "metadata": {},
   "outputs": [],
   "source": [
    "print(f'{a} + {b} = {c}')"
   ]
  },
  {
   "cell_type": "code",
   "execution_count": null,
   "id": "6c0a0ac5",
   "metadata": {},
   "outputs": [],
   "source": [
    "print(a, '+', b,'=', a+b)"
   ]
  },
  {
   "cell_type": "markdown",
   "id": "a0344d7a",
   "metadata": {},
   "source": [
    "# 4"
   ]
  },
  {
   "cell_type": "code",
   "execution_count": 11,
   "id": "eac2ca52",
   "metadata": {},
   "outputs": [
    {
     "name": "stdout",
     "output_type": "stream",
     "text": [
      "asd qwe\n",
      "asdqwe\n",
      "asdqwe\n"
     ]
    }
   ],
   "source": [
    "str1, str2 = input().strip().split(' ')\n",
    "str3 = str1+str2\n",
    "print(str3)\n",
    "print(str1+str2)"
   ]
  },
  {
   "cell_type": "code",
   "execution_count": 12,
   "id": "fcbce10c",
   "metadata": {},
   "outputs": [
    {
     "name": "stdout",
     "output_type": "stream",
     "text": [
      "asdqwe\n"
     ]
    }
   ],
   "source": [
    "print(str3.strip().replace(' ', ''))"
   ]
  },
  {
   "cell_type": "code",
   "execution_count": 13,
   "id": "d917e183",
   "metadata": {},
   "outputs": [
    {
     "name": "stdout",
     "output_type": "stream",
     "text": [
      "asdqwe\n"
     ]
    }
   ],
   "source": [
    "print(''.join(str3.strip().split(' ')))"
   ]
  },
  {
   "cell_type": "code",
   "execution_count": 14,
   "id": "68c0cef3",
   "metadata": {},
   "outputs": [
    {
     "name": "stdout",
     "output_type": "stream",
     "text": [
      "asdqwe\n"
     ]
    }
   ],
   "source": [
    "print(str1, str2, sep='')"
   ]
  },
  {
   "cell_type": "markdown",
   "id": "7dd9cd02",
   "metadata": {},
   "source": [
    "### ''.join()\n",
    "### .replace(' ', '')\n",
    "### sep = ' '  "
   ]
  },
  {
   "cell_type": "markdown",
   "id": "2f1c61bb",
   "metadata": {},
   "source": [
    "# 5"
   ]
  },
  {
   "cell_type": "code",
   "execution_count": 28,
   "id": "7123fd42",
   "metadata": {},
   "outputs": [
    {
     "name": "stdout",
     "output_type": "stream",
     "text": [
      "abcde\n"
     ]
    }
   ],
   "source": [
    "str = 'abcde'\n",
    "print(str)"
   ]
  },
  {
   "cell_type": "code",
   "execution_count": 16,
   "id": "b509c9e9",
   "metadata": {},
   "outputs": [
    {
     "name": "stdout",
     "output_type": "stream",
     "text": [
      "a\n",
      "b\n",
      "c\n",
      "d\n",
      "e\n"
     ]
    }
   ],
   "source": [
    "for i in str :\n",
    "    print(i)"
   ]
  },
  {
   "cell_type": "code",
   "execution_count": 43,
   "id": "a002dd73",
   "metadata": {},
   "outputs": [
    {
     "name": "stdout",
     "output_type": "stream",
     "text": [
      "a\n",
      "b\n",
      "c\n",
      "d\n",
      "e\n"
     ]
    }
   ],
   "source": [
    "print('\\n'.join(str))"
   ]
  },
  {
   "cell_type": "code",
   "execution_count": 30,
   "id": "c7c13034",
   "metadata": {
    "scrolled": true
   },
   "outputs": [
    {
     "name": "stdout",
     "output_type": "stream",
     "text": [
      "a\n",
      "b\n",
      "c\n",
      "d\n",
      "e\n"
     ]
    }
   ],
   "source": [
    "for i in str:\n",
    "      print(i)"
   ]
  },
  {
   "cell_type": "markdown",
   "id": "b2d6ef76",
   "metadata": {},
   "source": [
    "### 커서 올려놓고 시프트 탭 하면 Docstring 볼 수 있다"
   ]
  },
  {
   "cell_type": "markdown",
   "id": "320f77ab",
   "metadata": {},
   "source": [
    "# 6 문자열 겹쳐 쓰기\n",
    "# m[:s] + o + m[s+len(o):]"
   ]
  },
  {
   "cell_type": "code",
   "execution_count": 76,
   "id": "7cc18eff",
   "metadata": {},
   "outputs": [],
   "source": [
    "def solution(my_string, overwrite_string, s):\n",
    "    return my_string[:s] + overwrite_string + my_string[s+len(overwrite_string):]"
   ]
  },
  {
   "cell_type": "code",
   "execution_count": 77,
   "id": "484beb14",
   "metadata": {},
   "outputs": [
    {
     "data": {
      "text/plain": [
       "'HelloWorld'"
      ]
     },
     "execution_count": 77,
     "metadata": {},
     "output_type": "execute_result"
    }
   ],
   "source": [
    "solution(\"He11oWor1d\", \"lloWorl\", 2)"
   ]
  },
  {
   "cell_type": "code",
   "execution_count": 78,
   "id": "a0077f84",
   "metadata": {},
   "outputs": [],
   "source": [
    "def solution(my_string, overwrite_string, s):\n",
    "    answer = list(my_string)\n",
    "    answer[s:s+len(overwrite_string)] = list(overwrite_string)\n",
    "    return ''.join(answer)"
   ]
  },
  {
   "cell_type": "code",
   "execution_count": 79,
   "id": "76dae576",
   "metadata": {},
   "outputs": [
    {
     "data": {
      "text/plain": [
       "'HelloWorld'"
      ]
     },
     "execution_count": 79,
     "metadata": {},
     "output_type": "execute_result"
    }
   ],
   "source": [
    "solution(\"He11oWor1d\", \"lloWorl\", 2)"
   ]
  },
  {
   "cell_type": "code",
   "execution_count": 97,
   "id": "aabaeba3",
   "metadata": {},
   "outputs": [
    {
     "name": "stdout",
     "output_type": "stream",
     "text": [
      "['a', 's', 'd', 'a', 's', 'd']\n"
     ]
    }
   ],
   "source": [
    "m = \"asdasd\"\n",
    "n = \"lkjlabad\"\n",
    "s=3\n",
    "\n",
    "a =list(m) # m을 먼저 리스트로 만들고, 변수에 넣어준다. 그래서 a 리스트를 만든다.\n",
    "print(a)"
   ]
  },
  {
   "cell_type": "code",
   "execution_count": 127,
   "id": "4d99132d",
   "metadata": {},
   "outputs": [
    {
     "name": "stdout",
     "output_type": "stream",
     "text": [
      "['a', 's', 'd', 'l', 'k', 'j', 'l', 'a', 'b', 'a', 'd']\n"
     ]
    },
    {
     "data": {
      "text/plain": [
       "'asdlkjlabad'"
      ]
     },
     "execution_count": 127,
     "metadata": {},
     "output_type": "execute_result"
    }
   ],
   "source": [
    "a[s:s+len(n)] = list(n) # a를 리스트로 만든것처럼 n을 list로 만들어준다\n",
    "                        # a[:] 에서 인덱스 계산을 하여 \n",
    "                        # 정수 s 와 n의 길이인 len(n) 를 활용하여 계산하여\n",
    "                        # list(n)을 list인 a에 적절하게 넣어준다.                        \n",
    "print(a)\n",
    "''.join(a)"
   ]
  },
  {
   "cell_type": "markdown",
   "id": "6ab5d91a",
   "metadata": {},
   "source": [
    "# 7"
   ]
  },
  {
   "cell_type": "code",
   "execution_count": 130,
   "id": "a55048d6",
   "metadata": {},
   "outputs": [],
   "source": [
    "def solution(s1,s2):\n",
    "    for i in range(5):\n",
    "        print(s1[i]+s2[i], end = '')    "
   ]
  },
  {
   "cell_type": "code",
   "execution_count": 131,
   "id": "e9cf21a1",
   "metadata": {},
   "outputs": [
    {
     "name": "stdout",
     "output_type": "stream",
     "text": [
      "ababababab"
     ]
    }
   ],
   "source": [
    "solution(\"aaaaa\",\"bbbbb\")"
   ]
  },
  {
   "cell_type": "code",
   "execution_count": 132,
   "id": "45e26e25",
   "metadata": {},
   "outputs": [
    {
     "name": "stdout",
     "output_type": "stream",
     "text": [
      "ababababab"
     ]
    }
   ],
   "source": [
    "def solution(str1,str2):\n",
    "    for i in range(5):\n",
    "        print(str1[i]+str2[i], end = '')\n",
    "\n",
    "str1 = \"aaaaa\"\n",
    "str2 = \"bbbbb\"\n",
    "solution(str1,str2)"
   ]
  },
  {
   "cell_type": "code",
   "execution_count": 163,
   "id": "b69b1799",
   "metadata": {},
   "outputs": [
    {
     "name": "stdout",
     "output_type": "stream",
     "text": [
      "['ab', 'ab', 'ab', 'ab', 'ab']\n",
      "ababababab\n"
     ]
    }
   ],
   "source": [
    "str1 = \"aaaaa\"\n",
    "s1 = list(str1) #리스트로 바꿈\n",
    "str2 = \"bbbbb\"\n",
    "s2 = list(str2) #리스트로 바꿈\n",
    "\n",
    "rslt = []\n",
    "\n",
    "for i in range(5):\n",
    "    r = s1[i]+s2[i]\n",
    "    #print(r)\n",
    "    rslt.append(r)\n",
    "print(rslt)\n",
    "\n",
    "print(''.join(rslt))"
   ]
  },
  {
   "cell_type": "code",
   "execution_count": 168,
   "id": "857033e5",
   "metadata": {},
   "outputs": [],
   "source": [
    "def solution(str1,str2):\n",
    "    rslt = []\n",
    "    for i in range(5):\n",
    "        r = str1[i]+str2[i]\n",
    "        rslt.append(r)\n",
    "    s= print(''.join(rslt)) # print\n",
    "    return s #print\n",
    "#-> print 두번됨. 따라서 위에 프린트 한번 중복 제거해줘야한다.\n",
    "#아래 수정된 코드 "
   ]
  },
  {
   "cell_type": "code",
   "execution_count": 170,
   "id": "556385a0",
   "metadata": {},
   "outputs": [
    {
     "name": "stdout",
     "output_type": "stream",
     "text": [
      "ababababab\n"
     ]
    }
   ],
   "source": [
    "a=\"aaaaa\"\n",
    "b=\"bbbbb\"\n",
    "solution(a,b)"
   ]
  },
  {
   "cell_type": "code",
   "execution_count": 174,
   "id": "47ce3bdd",
   "metadata": {},
   "outputs": [],
   "source": [
    "def solution(str1,str2):\n",
    "    rslt = []\n",
    "    for i in range(len(a)):\n",
    "        r = str1[i]+str2[i]\n",
    "        rslt.append(r)\n",
    "    s= ''.join(rslt)\n",
    "    return s "
   ]
  },
  {
   "cell_type": "code",
   "execution_count": 178,
   "id": "aa1f9cd4",
   "metadata": {
    "scrolled": false
   },
   "outputs": [
    {
     "data": {
      "text/plain": [
       "'abababababacacacacac'"
      ]
     },
     "execution_count": 178,
     "metadata": {},
     "output_type": "execute_result"
    }
   ],
   "source": [
    "a=\"aaaaaaaaaa\"\n",
    "b=\"bbbbbccccc\"\n",
    "solution(a,b)"
   ]
  },
  {
   "cell_type": "code",
   "execution_count": 180,
   "id": "8a4256cf",
   "metadata": {},
   "outputs": [
    {
     "data": {
      "text/plain": [
       "'ababababab'"
      ]
     },
     "execution_count": 180,
     "metadata": {},
     "output_type": "execute_result"
    }
   ],
   "source": [
    "## 리스트를 사용하지 않음. 문자열로 사용함\n",
    "def solution(str1, str2):\n",
    "    result = '' # 리스트를 사용하지 않음. 문자열로 사용함\n",
    "    for i in range(len(str1)):\n",
    "        result += str1[i] + str2[i]\n",
    "    return result\n",
    "\n",
    "solution(\"aaaaa\",\"bbbbb\")"
   ]
  },
  {
   "cell_type": "code",
   "execution_count": 182,
   "id": "7aa4793d",
   "metadata": {},
   "outputs": [
    {
     "data": {
      "text/plain": [
       "'ababababab'"
      ]
     },
     "execution_count": 182,
     "metadata": {},
     "output_type": "execute_result"
    }
   ],
   "source": [
    "def solution(str1, str2):\n",
    "    answer = ''.join([str1[i] + str2[i] for i in range(len(str1))]) \n",
    "    return answer\n",
    "solution(\"aaaaa\",\"bbbbb\")"
   ]
  },
  {
   "cell_type": "code",
   "execution_count": 183,
   "id": "25250a9d",
   "metadata": {},
   "outputs": [
    {
     "data": {
      "text/plain": [
       "'ababababab'"
      ]
     },
     "execution_count": 183,
     "metadata": {},
     "output_type": "execute_result"
    }
   ],
   "source": [
    "def solution(str1, str2):\n",
    "    res=''\n",
    "    for s1,s2 in zip(str1,str2): #zip() 함수 이용\n",
    "        res+=s1+s2\n",
    "    return res\n",
    "solution(\"aaaaa\",\"bbbbb\")"
   ]
  },
  {
   "cell_type": "code",
   "execution_count": 184,
   "id": "b66125e8",
   "metadata": {},
   "outputs": [
    {
     "data": {
      "text/plain": [
       "'ababababab'"
      ]
     },
     "execution_count": 184,
     "metadata": {},
     "output_type": "execute_result"
    }
   ],
   "source": [
    "def solution(str1, str2):\n",
    "    answer = []\n",
    "    for i in range(len(str1)):\n",
    "        answer.append(str1[i]) # str1, str2 하나씩 나열해서 append써서 추가. \n",
    "        answer.append(str2[i]) # 단순하게 코딩. 굿.\n",
    "    return ''.join(answer)\n",
    "solution(\"aaaaa\",\"bbbbb\")"
   ]
  },
  {
   "cell_type": "markdown",
   "id": "469e3e56",
   "metadata": {},
   "source": [
    "# 8"
   ]
  },
  {
   "cell_type": "code",
   "execution_count": 191,
   "id": "cd5f6d6d",
   "metadata": {},
   "outputs": [
    {
     "name": "stdout",
     "output_type": "stream",
     "text": [
      "[2, 4, 6, 8, 12, 14, 16, 18]\n"
     ]
    }
   ],
   "source": [
    "rslt = []\n",
    "for i in range(1,10+1):\n",
    "    if i == 5:\n",
    "        continue\n",
    "    elif i == 10:\n",
    "        break\n",
    "    i = i*2\n",
    "    rslt.append(i)\n",
    "    \n",
    "print(rslt)"
   ]
  },
  {
   "cell_type": "code",
   "execution_count": 192,
   "id": "59eab45f",
   "metadata": {},
   "outputs": [],
   "source": [
    "a = 0\n",
    "def solution(num1, num2):\n",
    "    if num1 == num2:\n",
    "        a = True\n",
    "    else:\n",
    "        a = False\n",
    "        \n",
    "    return a"
   ]
  },
  {
   "cell_type": "code",
   "execution_count": 193,
   "id": "185588ed",
   "metadata": {},
   "outputs": [
    {
     "data": {
      "text/plain": [
       "False"
      ]
     },
     "execution_count": 193,
     "metadata": {},
     "output_type": "execute_result"
    }
   ],
   "source": [
    "solution(2,3)"
   ]
  },
  {
   "cell_type": "code",
   "execution_count": null,
   "id": "5c2e51dd",
   "metadata": {},
   "outputs": [],
   "source": []
  }
 ],
 "metadata": {
  "kernelspec": {
   "display_name": "Python 3 (ipykernel)",
   "language": "python",
   "name": "python3"
  },
  "language_info": {
   "codemirror_mode": {
    "name": "ipython",
    "version": 3
   },
   "file_extension": ".py",
   "mimetype": "text/x-python",
   "name": "python",
   "nbconvert_exporter": "python",
   "pygments_lexer": "ipython3",
   "version": "3.9.7"
  }
 },
 "nbformat": 4,
 "nbformat_minor": 5
}
