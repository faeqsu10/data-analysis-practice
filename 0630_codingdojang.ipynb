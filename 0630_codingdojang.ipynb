{
  "nbformat": 4,
  "nbformat_minor": 0,
  "metadata": {
    "colab": {
      "provenance": [],
      "authorship_tag": "ABX9TyMT0foNDOFbRF7qokwQoSKw",
      "include_colab_link": true
    },
    "kernelspec": {
      "name": "python3",
      "display_name": "Python 3"
    },
    "language_info": {
      "name": "python"
    }
  },
  "cells": [
    {
      "cell_type": "markdown",
      "metadata": {
        "id": "view-in-github",
        "colab_type": "text"
      },
      "source": [
        "<a href=\"https://colab.research.google.com/github/faeqsu10/data-analysis-practice/blob/main/0630_codingdojang.ipynb\" target=\"_parent\"><img src=\"https://colab.research.google.com/assets/colab-badge.svg\" alt=\"Open In Colab\"/></a>"
      ]
    },
    {
      "cell_type": "code",
      "execution_count": null,
      "metadata": {
        "id": "wRuA6xzfUyrO"
      },
      "outputs": [],
      "source": [
        "# n개의 정수를 가진 배열이 있다. 이 배열은 양의정수와 음의 정수를 모두 가지고 있다.\n",
        "# 이제 당신은 이 배열을 좀 특별한 방법으로 정렬해야 한다.\n",
        "# 정렬이 되고 난 후, 음의 정수는 앞쪽에 양의정수는 뒷쪽에 있어야 한다.\n",
        "# 또한 양의정수와 음의정수의 순서에는 변함이 없어야 한다.\n",
        "\n",
        "# 예) -1 1 1 3 -2 2 ans : -1 -2 1 3 2"
      ]
    },
    {
      "cell_type": "code",
      "source": [
        "# 아이디어\n",
        "\n",
        "# a = 음수\n",
        "# b = 양수 로 구분해서 리스트 만듬\n",
        "# 처음부터 순서대로 체크해서\n",
        "# 음수면 a 리스트에 추가\n",
        "# 양수면 b 리스트에 추가\n",
        "# 최종적으로 result 리스트에 더해서 넣는다"
      ],
      "metadata": {
        "id": "-Cqo1VO9Vbh6"
      },
      "execution_count": null,
      "outputs": []
    },
    {
      "cell_type": "code",
      "source": [
        "list = [-1, 1, -5, 3, -2, 2, 7]\n",
        "n_number = []\n",
        "p_number = []\n",
        "result = []\n",
        "for i in list:\n",
        "  if i < 0 :\n",
        "    n_number.append(i)\n",
        "  elif i > 0 :\n",
        "    p_number.append(i)\n",
        "result = n_number + p_number\n",
        "print(result)"
      ],
      "metadata": {
        "colab": {
          "base_uri": "https://localhost:8080/"
        },
        "id": "eBfCqxffVyWW",
        "outputId": "ce6c55d0-35b9-45fd-a747-5b9b6ae0989d"
      },
      "execution_count": null,
      "outputs": [
        {
          "output_type": "stream",
          "name": "stdout",
          "text": [
            "[-1, -5, -2, 1, 3, 2, 7]\n"
          ]
        }
      ]
    },
    {
      "cell_type": "code",
      "source": [
        "# 피보나치 수열이란, 첫 번째 항의 값이 0이고 두 번째 항의 값이 1일 때,\n",
        "# 이후의 항들은 이전의 두 항을 더한 값으로 이루어지는 수열을 말한다.\n",
        "\n",
        "# 예) 0, 1, 1, 2, 3, 5, 8, 13\n",
        "\n",
        "# 인풋을 정수 n으로 받았을때, n 이하까지의 피보나치 수열을 출력하는 프로그램을 작성하세요."
      ],
      "metadata": {
        "id": "sPYr_WxUWhpW"
      },
      "execution_count": null,
      "outputs": []
    },
    {
      "cell_type": "code",
      "source": [
        "#아이디어 1 (for문) - > 직관적이지 않다.\n",
        "\n",
        "n = int(input())\n",
        "\n",
        "arr = [0,1] # 0,1 까지는 리스트를 만들어 주었다\n",
        "\n",
        "for i in range(1, n-1) :\n",
        "  arr.append(arr[i-1]+arr[i])\n",
        "print(arr)"
      ],
      "metadata": {
        "colab": {
          "base_uri": "https://localhost:8080/"
        },
        "id": "neoV1XthXQ6R",
        "outputId": "eecac13c-9b17-47e3-d8b1-36ef66db1e1f"
      },
      "execution_count": null,
      "outputs": [
        {
          "output_type": "stream",
          "name": "stdout",
          "text": [
            "10\n",
            "[0, 1, 1, 2, 3, 5, 8, 13, 21, 34]\n"
          ]
        }
      ]
    },
    {
      "cell_type": "code",
      "source": [
        "#아이디어 2 (while문, 인덱스 -1, -2 이용)\n",
        "\n",
        "n = int(input())\n",
        "\n",
        "arr =[0,1]\n",
        "\n",
        "while 1:\n",
        "  b = arr[-1] + arr[-2]\n",
        "  if b <= n:\n",
        "    arr.append(b)\n",
        "  else:\n",
        "    break\n",
        "print(arr)"
      ],
      "metadata": {
        "colab": {
          "base_uri": "https://localhost:8080/"
        },
        "id": "ccrrDT9NbGlz",
        "outputId": "8fa79603-08ad-4015-e4ad-c0834e5d4262"
      },
      "execution_count": null,
      "outputs": [
        {
          "output_type": "stream",
          "name": "stdout",
          "text": [
            "30\n",
            "[0, 1, 1, 2, 3, 5, 8, 13, 21]\n"
          ]
        }
      ]
    },
    {
      "cell_type": "code",
      "source": [
        "#아이디어 3 (while문, 리스트, append, 인덱스 -1,-2 이용, pop 이용)\n",
        "\n",
        "n = int(input())\n",
        "\n",
        "arr =[0,1]\n",
        "\n",
        "while arr[-1] <= n :\n",
        "  arr.append(arr[-1]+arr[-2])\n",
        "arr.pop(-1)\n",
        "print(arr)"
      ],
      "metadata": {
        "colab": {
          "base_uri": "https://localhost:8080/"
        },
        "id": "s6-n7_BNiOJf",
        "outputId": "192f00ba-27e1-4fa0-fe05-8876c79121d3"
      },
      "execution_count": null,
      "outputs": [
        {
          "output_type": "stream",
          "name": "stdout",
          "text": [
            "10\n",
            "[0, 1, 1, 2, 3, 5, 8]\n"
          ]
        }
      ]
    },
    {
      "cell_type": "code",
      "source": [
        "# 디지털 시계에 하루동안(00:00~23:59) 3이 표시되는 시간을 초로 환산하면 총 몇 초(second) 일까요\n",
        "# 디지털 시계는 하루동안 다음과 같이 시:분(00:00~23:59)으로 표시됩니다."
      ],
      "metadata": {
        "id": "94jxYoT1mbGI"
      },
      "execution_count": null,
      "outputs": []
    },
    {
      "cell_type": "code",
      "source": [
        "# 0003 0013 0023 0033 0043 0053 3+13+23+33+43+53\n",
        "# 0103 0113 0123 0133 0143 0153 60*1+3 + 60*1+13 + 60*1+23 + 60*1+33 + 60*1+43 + 60*1+53\n",
        "# 0203 0213 0223 0233 0243 0253 60*2+3 +\n",
        "# ...\n",
        "# 0903 0913 0923 0933 0943 0953 60*9+3 + 60*9+13 + 60*9+23 + 60*9+33 + 60*9+43 + 60*9+53        10번 * 6 = 60\n",
        "# 1003 1013 1023 1033 1043 1053 60*10\n",
        "# 11                         ...60*11\n",
        "# ..\n",
        "# 19                                    10번 * 6 = 60\n",
        "# 20\n",
        "# 21\n",
        "# 22\n",
        "# 2303 2313 2323 2333 2343 2353 60*23   4번 * 6 = 24\n",
        "\n",
        "# 60*a+3 + 60*a+13 + 60*a+23 + 60*a+33 + 60*a+43 + 60*a+53 a=0~23\n"
      ],
      "metadata": {
        "id": "ATI3CxQXy3gn"
      },
      "execution_count": null,
      "outputs": []
    },
    {
      "cell_type": "code",
      "source": [
        "t = 23\n",
        "m = 5\n",
        "\n",
        "a = 0\n",
        "for i in range(0, t+1) :\n",
        "    a += ((60*i)+3)*60\n",
        "#print(a)\n",
        "\n",
        "b = 0\n",
        "for i in range(0, t+1) :\n",
        "    b += ((60*i)+13)*60\n",
        "#print(b)\n",
        "\n",
        "c= 0\n",
        "for i in range(0, t+1) :\n",
        "    c += ((60*i)+23)*60\n",
        "#print(c)\n",
        "\n",
        "d = 0\n",
        "for i in range(0, t+1) :\n",
        "    d += ((60*i)+33)*60\n",
        "#print(d)\n",
        "\n",
        "e = 0\n",
        "for i in range(0, t+1) :\n",
        "    e += ((60*i)+43)*60\n",
        "#print(e)\n",
        "\n",
        "f = 0\n",
        "for i in range(0, t+1) :\n",
        "    f += ((60*i)+53)*60\n",
        "#print(f)\n",
        "\n",
        "print(a+b+c+d+e+f)"
      ],
      "metadata": {
        "colab": {
          "base_uri": "https://localhost:8080/"
        },
        "id": "D6Dzxs7f2nbu",
        "outputId": "0c8c64d9-9008-4dd1-83e0-293b9a025cca"
      },
      "execution_count": null,
      "outputs": [
        {
          "output_type": "stream",
          "name": "stdout",
          "text": [
            "6203520\n"
          ]
        }
      ]
    },
    {
      "cell_type": "code",
      "source": [
        "sumSec = 0\n",
        "for h in range(24) :\n",
        "  for m in range(60) :\n",
        "    if '3' in str(h) or '3' in str(m):\n",
        "      sumSec += 60\n",
        "print(sumSec)"
      ],
      "metadata": {
        "colab": {
          "base_uri": "https://localhost:8080/"
        },
        "id": "uMRF-7hN3hyN",
        "outputId": "5ece1802-9f98-458e-c783-fc0affdd7d04"
      },
      "execution_count": null,
      "outputs": [
        {
          "output_type": "stream",
          "name": "stdout",
          "text": [
            "29700\n"
          ]
        }
      ]
    },
    {
      "cell_type": "code",
      "source": [
        "timeResult = 0 # 3을 모두 더한 시간\n",
        "\n",
        "for time in range(0, 23+1):\n",
        "    for minute in range(0, 59+1):\n",
        "        if '3' in str(time) or '3' in str(minute):\n",
        "            timeResult += 60\n",
        "print(timeResult)"
      ],
      "metadata": {
        "colab": {
          "base_uri": "https://localhost:8080/"
        },
        "id": "kFqqXrKJ-uhn",
        "outputId": "d9b9bd65-8447-499c-f4a8-e5a1999312f3"
      },
      "execution_count": null,
      "outputs": [
        {
          "output_type": "stream",
          "name": "stdout",
          "text": [
            "29700\n"
          ]
        }
      ]
    },
    {
      "cell_type": "code",
      "source": [
        "def clock(num):\n",
        "    sec = 0\n",
        "    for h in range(24):\n",
        "        for m in range(60):\n",
        "            if str(num) in str(h) + str(m): # 문자열로 변환한 시간에 해당 숫자가 들어있으면\n",
        "                sec += 60\n",
        "    return sec\n",
        "\n",
        "print(clock(3))"
      ],
      "metadata": {
        "colab": {
          "base_uri": "https://localhost:8080/"
        },
        "id": "8EXnaTRf-39X",
        "outputId": "51d5e71b-369f-46b6-8f3c-3f25e387d532"
      },
      "execution_count": null,
      "outputs": [
        {
          "output_type": "stream",
          "name": "stdout",
          "text": [
            "29700\n"
          ]
        }
      ]
    },
    {
      "cell_type": "code",
      "source": [
        "#1일동안(00:00~23:59)의 모든 시간들을 초단위로 구한 후에 3이 포함되어 있는 시간들을 count 했습니다.\n",
        "hour = 0\n",
        "min = 0\n",
        "sec = 0\n",
        "count = 0\n",
        "\n",
        "while True:\n",
        "    curtime = \"%s:%s\" % (hour, min)\n",
        "    if curtime.find(\"3\") != -1:\n",
        "        count += 1\n",
        "    if hour == 23 and min == 59 and sec == 59:\n",
        "        break\n",
        "    elif min == 59 and sec == 59:\n",
        "        hour += 1\n",
        "        min = 0\n",
        "        sec = 0\n",
        "    elif sec == 59:\n",
        "        min += 1\n",
        "        sec = 0\n",
        "    else:\n",
        "        sec += 1\n",
        "\n",
        "print(count)"
      ],
      "metadata": {
        "colab": {
          "base_uri": "https://localhost:8080/"
        },
        "id": "Q4Z8tszx_M43",
        "outputId": "260bdddf-b26d-4add-b78d-094c18e2df99"
      },
      "execution_count": null,
      "outputs": [
        {
          "output_type": "stream",
          "name": "stdout",
          "text": [
            "29700\n"
          ]
        }
      ]
    },
    {
      "cell_type": "code",
      "source": [
        "# 메모리공간을 동적으로 사용하여 데이터 관리하기\n",
        "\n",
        "# 프로그램 실행 순서\n",
        "# 입력할 정수의 개수를 사용자로부터 입력 받는다.\n",
        "# 입력받은 정수의 개수만큼 정수를 입력받는다.\n",
        "# 입력받은 정수의 합과 평균 값을 출력한다.\n",
        "# 할당된 메모리공간을 비운다."
      ],
      "metadata": {
        "id": "PDNc6uDbAIQH"
      },
      "execution_count": null,
      "outputs": []
    },
    {
      "cell_type": "code",
      "source": [
        "# input()\n",
        "# 입력받은 정수의 개수 = 5개 => 입력받은 정수 = 5\n",
        "# 5개 정수의 합 과 5개 정수의 평균 값\n",
        "# 할당된 메모리공간을 비운다"
      ],
      "metadata": {
        "id": "RrQxXHqEJ2Pf"
      },
      "execution_count": null,
      "outputs": []
    },
    {
      "cell_type": "code",
      "source": [
        "#\n",
        "# 일전에 뭐 게임 회사에서 본 간단한 퀴즈 테스트 입니다.\n",
        "# 0~9까지의 문자로 된 숫자를 입력 받았을 때,\n",
        "# 이 입력 값이 0~9까지의 숫자가 각각 한 번 씩만 사용된 것인지 확인하는 함수를 구하시오.\n",
        "# sample inputs: 0123456789 01234 01234567890 6789012345 012322456789\n",
        "# sample outputs: true false false true false"
      ],
      "metadata": {
        "id": "gt0oFI_yPVl4"
      },
      "execution_count": null,
      "outputs": []
    },
    {
      "cell_type": "code",
      "source": [
        "num = \"0123456789 01234 01234567890 6789012345 012322456789\".split(' ')\n",
        "print(num)\n",
        "\n",
        "for i in num:\n",
        "  for j in num:\n",
        "    if num[i][j] == num[i][j] :\n",
        "      print(False)\n",
        "    else:\n",
        "      print(True)"
      ],
      "metadata": {
        "colab": {
          "base_uri": "https://localhost:8080/"
        },
        "id": "erRRgba0RtP2",
        "outputId": "e44ab896-1655-4425-d309-46456fdb39d4"
      },
      "execution_count": null,
      "outputs": [
        {
          "output_type": "stream",
          "name": "stdout",
          "text": [
            "['0123456789', '01234', '01234567890', '6789012345', '012322456789']\n"
          ]
        }
      ]
    },
    {
      "cell_type": "code",
      "source": [
        "num[0][0]"
      ],
      "metadata": {
        "colab": {
          "base_uri": "https://localhost:8080/",
          "height": 35
        },
        "id": "BHzFm92TSaBe",
        "outputId": "f20bb6b1-0d59-408e-c564-9bca081c521f"
      },
      "execution_count": null,
      "outputs": [
        {
          "output_type": "execute_result",
          "data": {
            "text/plain": [
              "'0'"
            ],
            "application/vnd.google.colaboratory.intrinsic+json": {
              "type": "string"
            }
          },
          "metadata": {},
          "execution_count": 39
        }
      ]
    },
    {
      "cell_type": "code",
      "source": [
        "# 중복제거한거와 비교해서 같으면 true 틀리면 false"
      ],
      "metadata": {
        "id": "xJ1PIQqLUWxd"
      },
      "execution_count": null,
      "outputs": []
    }
  ]
}