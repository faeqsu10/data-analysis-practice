{
 "cells": [
  {
   "cell_type": "markdown",
   "id": "0d15f99c",
   "metadata": {},
   "source": [
    "오전\n",
    "- 파이썬 정리\n",
    "- 파이썬 평가(테스트)\n",
    "- 테스트 리뷰\n",
    "- 판다스 시작\n",
    "\n",
    "오후\n",
    "- 판다스 진행\n",
    "- 프로젝트 전까지 계획\n",
    "- 상담시 질문을 구체적으로 해라\n",
    "  (상담까지 고민을 해보기 시작해라)"
   ]
  },
  {
   "cell_type": "markdown",
   "id": "c821b175",
   "metadata": {},
   "source": [
    "1. 파이썬으로 할수 있는일\n",
    "- 웹 프로그래밍\n",
    "- 인공지능과 머신러닝\n",
    "- 데이터 분석\n",
    "- 데이터베이스 프로그래밍\n",
    "- 시스템 유틸리티 제작하기\n",
    "- GUI 프로그래밍\n",
    "- C/C++와 결합하기\n",
    "- 사물 인터넷\n",
    "\n",
    "2. 파이썬으로 할수 없는 일\n",
    "- 시스템과 밀접한 프로그래밍 영역\n",
    "- 모바일 프로그래밍\n",
    "\n",
    "\n",
    "\n",
    "3. 자료형\n",
    "- 숫자형\n",
    "- 문자열 자료형\n",
    "- 리스트 자료형\n",
    "- 튜플 자료형\n",
    "- 딕셔너리 자료형\n",
    "- 집합 자료형\n",
    "- 불 자료형 \n",
    "- 자료형의 값을 저장하는 공간인 변수\n",
    "\n",
    "4. 제어문\n",
    "- if, while, for\n",
    "while 잘 안씀. if, for 잘 쓰자.\n",
    "- in, not in 잘 쓰자\n",
    "- for문에서 -> 리스트 컴프리헨션\n",
    "\n",
    "5. 파이썬의 입출력\n",
    "- 함수\n",
    "- 사용자 입출력\n",
    "\n",
    "6. 내장함수\n",
    "- enumerate() \n",
    "'열거하다'\n",
    "이 함수는 순서가 있는 데이터(리스트, 튜플, 문자열)를 입력으로 받아 \n",
    "인덱스 값을 포함하는 enumerate 객체를 리턴한다.\n",
    "보통 enumerate 함수는 for 문과 함께 사용한다.\n",
    "  \n",
    "> for i, name in enumerate(['body', 'foo', 'bar']):\n",
    "      print(i, name)\n",
    "...\n",
    "...\n",
    "0 body\n",
    "1 foo\n",
    "2 bar\n",
    "\n",
    "    \n",
    "인덱스 값과 함께 body, foo, bar가 순서대로 출력되었다. 즉, enumerate를 \n",
    "for 문과 함께 사용하면 자료형의 현재 순서index와 그 값을 쉽게 알 수 있다.\n",
    "\n",
    "- map()\n",
    "map(f, iterable)\n",
    "함수(f)와 반복 가능한 데이터를 입력 받음.\n",
    "map은 입력받은 데이터의 각 요소에 함수f를 적용한 결과를 리턴하는 함수다.\n",
    "\n",
    "예)\n",
    "def two_times(numberList):\n",
    "    result = []\n",
    "    for number in numberList:\n",
    "        result.append(number*2)\n",
    "    return result\n",
    "\n",
    "result = two_times([1, 2, 3, 4])\n",
    "print(result)\n",
    "...\n",
    "...\n",
    "[2,4,6,8]\n",
    "\n",
    "=> map() 함수를 사용하여 바꾸면,\n",
    "\n",
    "def two_times(x):\n",
    "    return x*2\n",
    "    \n",
    "list(map(tow_times, [1,2,3,4]))\n",
    "...\n",
    "...\n",
    "[2,4,6,8]\n",
    "\n",
    "map 함수의 결과를 리스트로 출력하기 위해 list 함수를 사용했다. \n",
    "map 함수는 map 객체를 리턴한다.\n",
    "\n",
    "=> lamda 사용\n",
    "list(map(lamda a: a*2, [1,2,3,4]))\n",
    "...\n",
    "...\n",
    "[2,4,6,8]\n",
    "\n",
    "- open()\n",
    "open(filename, [mode])\n",
    "'파일 이름'과 '읽기 방법'을 입력받아 파일 객체를 리턴한다.\n",
    "읽기 방법(mode)을 생략하면 기본값인 읽기 모드(r)로 파일 객체를 만들어 리턴한다.\n",
    "\n",
    "mode\t설명\n",
    "w\t    쓰기 모드로 파일 열기\n",
    "r       읽기 모드로 파일 열기\n",
    "a\t    추가 모드로 파일 열기\n",
    "b\t    바이너리 모드로 파일 열기\n",
    "\n",
    "b는 w, r, a와 함께 사용한다. 예를 들어 rb는 ‘바이너리 읽기 모드’를 의미한다.\n",
    "\n",
    "> f = open(\"binary_file\", \"rb\")\n",
    "\n",
    "- round()\n",
    "\n",
    "round(number [,ndigits])는 숫자를 입력받아 반올림해 리턴하는 함수이다.\n",
    "[,ndigits]는 ndigits가 있을 수도 있고, 없을 수도 있다는 의미이다.\n",
    "> round(4.6)\n",
    "5\n",
    "> round(4.2)\n",
    "4\n",
    "\n",
    "- sorted()\n",
    "sorted(iterable)는 입력 데이터를 정렬한 후 그 결과를 리스트로 리턴하는 함수이다.\n",
    "\n",
    "> sorted([3, 1, 2])\n",
    "[1, 2, 3]\n",
    "\n",
    "> sorted(['a', 'c', 'b'])\n",
    "['a', 'b', 'c']\n",
    "\n",
    "> sorted(\"zero\")\n",
    "['e', 'o', 'r', 'z']\n",
    "\n",
    "> sorted((3, 2, 1))\n",
    "[1, 2, 3]\n",
    "\n",
    "- zip()\n",
    "zip(*iterable)은 동일한 개수로 이루어진 데이터들을 묶어서 리턴하는 함수이다.\n",
    "여기서 사용한 *iterable은 반복 가능한 데이터를 여러 개 입력할 수 있다는 의미다.\n",
    "\n",
    "> list(zip([1, 2, 3], [4, 5, 6]))\n",
    "[(1, 4), (2, 5), (3, 6)]\n",
    "\n",
    "> list(zip([1, 2, 3], [4, 5, 6], [7, 8, 9]))\n",
    "[(1, 4, 7), (2, 5, 8), (3, 6, 9)]\n",
    "\n",
    "> list(zip(\"abc\", \"def\"))\n",
    "[('a', 'd'), ('b', 'e'), ('c', 'f')]"
   ]
  },
  {
   "cell_type": "markdown",
   "id": "78e6a3d7",
   "metadata": {},
   "source": [
    "# 과제수행을 위한 파이썬프로그래밍 기초역량강화 (테스트)"
   ]
  },
  {
   "cell_type": "markdown",
   "id": "ec4e5240",
   "metadata": {},
   "source": [
    "### 4.1"
   ]
  },
  {
   "cell_type": "code",
   "execution_count": 23,
   "id": "8b7049f9",
   "metadata": {},
   "outputs": [
    {
     "name": "stdout",
     "output_type": "stream",
     "text": [
      "김씨 :  2\n",
      "이씨 :  6\n"
     ]
    }
   ],
   "source": [
    "name = \"이유덕,이재영,권종표,이재영,박민호,강상희,이재영,김지완,최승혁,이성연,박영서,박민호,전경헌,송정환,김재성,이유덕,전경헌\"\n",
    "names = name.split(',')\n",
    "\n",
    "count1=[]\n",
    "count2=[]\n",
    "for i in names:\n",
    "    if \"김\" in i[0]:\n",
    "        count1 += i[0]\n",
    "    elif \"이\" in i[0]:\n",
    "        count2 += i[0]\n",
    "print(\"김씨 : \",len(count1))\n",
    "print(\"이씨 : \",len(count2))"
   ]
  },
  {
   "cell_type": "markdown",
   "id": "b40a925f",
   "metadata": {},
   "source": [
    "### 4.2"
   ]
  },
  {
   "cell_type": "code",
   "execution_count": 60,
   "id": "1e8fb663",
   "metadata": {},
   "outputs": [
    {
     "name": "stdout",
     "output_type": "stream",
     "text": [
      "3\n"
     ]
    }
   ],
   "source": [
    "name = \"이유덕,이재영,권종표,이재영,박민호,강상희,이재영,김지완,최승혁,이성연,박영서,박민호,전경헌,송정환,김재성,이유덕,전경헌\"\n",
    "names = name.split(',')\n",
    "\n",
    "print(names.count(\"이재영\"))"
   ]
  },
  {
   "cell_type": "markdown",
   "id": "cba8f82e",
   "metadata": {},
   "source": [
    "### 4.3"
   ]
  },
  {
   "cell_type": "code",
   "execution_count": 61,
   "id": "55e84b75",
   "metadata": {},
   "outputs": [
    {
     "name": "stdout",
     "output_type": "stream",
     "text": [
      "['송정환', '박영서', '이재영', '권종표', '이성연', '전경헌', '이유덕', '김지완', '최승혁', '김재성', '강상희', '박민호']\n"
     ]
    }
   ],
   "source": [
    "name = \"이유덕,이재영,권종표,이재영,박민호,강상희,이재영,김지완,최승혁,이성연,박영서,박민호,전경헌,송정환,김재성,이유덕,전경헌\"\n",
    "names = name.split(',')\n",
    "\n",
    "a = set(names)\n",
    "a = list(a)\n",
    "print(a)"
   ]
  },
  {
   "cell_type": "markdown",
   "id": "124af2d0",
   "metadata": {},
   "source": [
    "### 4.4"
   ]
  },
  {
   "cell_type": "code",
   "execution_count": 62,
   "id": "994969f8",
   "metadata": {
    "scrolled": true
   },
   "outputs": [
    {
     "name": "stdout",
     "output_type": "stream",
     "text": [
      "['강상희', '권종표', '김재성', '김지완', '박민호', '박영서', '송정환', '이성연', '이유덕', '이재영', '전경헌', '최승혁']\n"
     ]
    }
   ],
   "source": [
    "a.sort()\n",
    "print(a)"
   ]
  },
  {
   "cell_type": "markdown",
   "id": "e67cbf28",
   "metadata": {},
   "source": [
    "### 5"
   ]
  },
  {
   "cell_type": "code",
   "execution_count": 63,
   "id": "cee44d49",
   "metadata": {},
   "outputs": [
    {
     "name": "stdout",
     "output_type": "stream",
     "text": [
      "[2, 4, 6, 8, 12, 14]\n"
     ]
    }
   ],
   "source": [
    "double_list = []\n",
    "for i in range(1,10+1):\n",
    "    if i == 5:\n",
    "        continue\n",
    "    elif i == 8:\n",
    "        break\n",
    "    i= i*2\n",
    "    double_list.append(i)\n",
    "print(double_list)"
   ]
  },
  {
   "cell_type": "markdown",
   "id": "f26885da",
   "metadata": {},
   "source": [
    "## 시험문제 리뷰\n",
    "\n",
    "[start:end:step]\n",
    "jump가 아니라 step이다."
   ]
  },
  {
   "cell_type": "markdown",
   "id": "3fffb860",
   "metadata": {},
   "source": [
    "## 파이썬 판다스 : 2 Weeks\n",
    "\n",
    "[파이썬 머신러닝 판다스 데이터 분석] 강의자료 :\n",
    "https://docs.google.com/presentation/d/1i-2Eui1Mis6pvK3LyQGc46k2Foe5QARd/edit?usp=sharing&ouid=110427642815009771718&rtpof=true&sd=true\n",
    "\n",
    "[파이썬 머신러닝 판다스 데이터 분석] 실습코드 :\n",
    "http://www.infopub.co.kr/new/include/detail.asp?sku=05000266\n",
    "\n",
    "[판다스 10분 완성] 실습코드 :\n",
    "https://dataitgirls2.github.io/10minutes2pandas/\n",
    "\n",
    "[판다스 치트 시트] 실습코드 :\n",
    "https://jaaamj.tistory.com/168"
   ]
  },
  {
   "cell_type": "markdown",
   "id": "c933ac03",
   "metadata": {},
   "source": []
  },
  {
   "cell_type": "code",
   "execution_count": null,
   "id": "b9af3489",
   "metadata": {},
   "outputs": [],
   "source": []
  }
 ],
 "metadata": {
  "kernelspec": {
   "display_name": "Python 3 (ipykernel)",
   "language": "python",
   "name": "python3"
  },
  "language_info": {
   "codemirror_mode": {
    "name": "ipython",
    "version": 3
   },
   "file_extension": ".py",
   "mimetype": "text/x-python",
   "name": "python",
   "nbconvert_exporter": "python",
   "pygments_lexer": "ipython3",
   "version": "3.9.7"
  }
 },
 "nbformat": 4,
 "nbformat_minor": 5
}
