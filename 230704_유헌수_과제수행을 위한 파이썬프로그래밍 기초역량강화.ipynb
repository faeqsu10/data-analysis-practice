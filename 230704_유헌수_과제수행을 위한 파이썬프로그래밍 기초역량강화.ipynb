{
 "cells": [
  {
   "cell_type": "markdown",
   "id": "deea89fd",
   "metadata": {},
   "source": [
    "이름 : 유헌수_문제 4,5번"
   ]
  },
  {
   "cell_type": "code",
   "execution_count": null,
   "id": "e273010d",
   "metadata": {},
   "outputs": [],
   "source": [
    "## 4.1\n",
    "\n",
    "name = \"이유덕,이재영,권종표,이재영,박민호,강상희,이재영,김지완,최승혁,이성연,박영서,박민호,전경헌,송정환,김재성,이유덕,전경헌\"\n",
    "names = name.split(',')\n",
    "\n",
    "count1=[]\n",
    "count2=[]\n",
    "for i in names:\n",
    "    if \"김\" in i[0]:\n",
    "        count1 += i[0]\n",
    "    elif \"이\" in i[0]:\n",
    "        count2 += i[0]\n",
    "print(\"김씨 : \",len(count1))\n",
    "print(\"이씨 : \",len(count2))"
   ]
  },
  {
   "cell_type": "code",
   "execution_count": null,
   "id": "3fbb9dc5",
   "metadata": {},
   "outputs": [],
   "source": [
    "## 4.2\n",
    "\n",
    "name = \"이유덕,이재영,권종표,이재영,박민호,강상희,이재영,김지완,최승혁,이성연,박영서,박민호,전경헌,송정환,김재성,이유덕,전경헌\"\n",
    "names = name.split(',')\n",
    "\n",
    "print(names.count(\"이재영\"))"
   ]
  },
  {
   "cell_type": "code",
   "execution_count": null,
   "id": "d3df3719",
   "metadata": {},
   "outputs": [],
   "source": [
    "## 4.3\n",
    "\n",
    "name = \"이유덕,이재영,권종표,이재영,박민호,강상희,이재영,김지완,최승혁,이성연,박영서,박민호,전경헌,송정환,김재성,이유덕,전경헌\"\n",
    "names = name.split(',')\n",
    "\n",
    "a = set(names)\n",
    "a = list(a)\n",
    "print(a)"
   ]
  },
  {
   "cell_type": "code",
   "execution_count": null,
   "id": "3c0af831",
   "metadata": {},
   "outputs": [],
   "source": [
    "## 4.4\n",
    "\n",
    "a.sort()\n",
    "print(a)"
   ]
  },
  {
   "cell_type": "code",
   "execution_count": null,
   "id": "3fa3b9d3",
   "metadata": {},
   "outputs": [],
   "source": [
    "## 5\n",
    "\n",
    "double_list = []\n",
    "for i in range(1,10+1):\n",
    "    if i == 5:\n",
    "        continue\n",
    "    elif i == 8:\n",
    "        break\n",
    "    i= i*2\n",
    "    double_list.append(i)\n",
    "print(double_list)"
   ]
  }
 ],
 "metadata": {
  "kernelspec": {
   "display_name": "Python 3 (ipykernel)",
   "language": "python",
   "name": "python3"
  },
  "language_info": {
   "codemirror_mode": {
    "name": "ipython",
    "version": 3
   },
   "file_extension": ".py",
   "mimetype": "text/x-python",
   "name": "python",
   "nbconvert_exporter": "python",
   "pygments_lexer": "ipython3",
   "version": "3.9.7"
  }
 },
 "nbformat": 4,
 "nbformat_minor": 5
}
