{
  "nbformat": 4,
  "nbformat_minor": 0,
  "metadata": {
    "colab": {
      "provenance": [],
      "authorship_tag": "ABX9TyPdRZwnOng8f5Cc0LWXcXYc",
      "include_colab_link": true
    },
    "kernelspec": {
      "name": "python3",
      "display_name": "Python 3"
    },
    "language_info": {
      "name": "python"
    }
  },
  "cells": [
    {
      "cell_type": "markdown",
      "metadata": {
        "id": "view-in-github",
        "colab_type": "text"
      },
      "source": [
        "<a href=\"https://colab.research.google.com/github/faeqsu10/data-analysis-practice/blob/main/k_digital_practice230622.ipynb\" target=\"_parent\"><img src=\"https://colab.research.google.com/assets/colab-badge.svg\" alt=\"Open In Colab\"/></a>"
      ]
    },
    {
      "cell_type": "code",
      "execution_count": null,
      "metadata": {
        "colab": {
          "base_uri": "https://localhost:8080/",
          "height": 72
        },
        "id": "a4or5rG2hv-B",
        "outputId": "b44d2fff-61fc-42ad-8944-3bbf080235f8"
      },
      "outputs": [
        {
          "output_type": "stream",
          "name": "stdout",
          "text": [
            "잔돈: 800원\n",
            "잔돈 = 800원\n"
          ]
        },
        {
          "output_type": "execute_result",
          "data": {
            "text/plain": [
              "'잔돈 :800원'"
            ],
            "application/vnd.google.colaboratory.intrinsic+json": {
              "type": "string"
            }
          },
          "metadata": {},
          "execution_count": 13
        }
      ],
      "source": [
        "# day01_var_ex02.py\n",
        "\n",
        "# 현금을 1000원 갖고 있다.\n",
        "# 200원짜리 과자를 구매하면 잔돈은 얼마일까?\n",
        "\n",
        "cash = 1000\n",
        "snack = 200\n",
        "change = cash - snack\n",
        "print(\"잔돈: {}원\".format(change))\n",
        "print(\"잔돈 = %d원\" % change)\n",
        "f'잔돈 :{change}원'"
      ]
    },
    {
      "cell_type": "code",
      "source": [
        "# 가로가 4이고 세로가 2인 삼각형의 넓이 출력\n",
        "\n",
        "row = 4\n",
        "col = 2\n",
        "tri = (row * col) / 2\n",
        "\n",
        "f'삼각형의 넓이는 {tri} 입니다.'\n"
      ],
      "metadata": {
        "colab": {
          "base_uri": "https://localhost:8080/",
          "height": 35
        },
        "id": "CsJdfmD6in1Z",
        "outputId": "c8124949-b222-4811-e58a-7cae788758b0"
      },
      "execution_count": null,
      "outputs": [
        {
          "output_type": "execute_result",
          "data": {
            "text/plain": [
              "'삼각형의 넓이는 4.0 입니다.'"
            ],
            "application/vnd.google.colaboratory.intrinsic+json": {
              "type": "string"
            }
          },
          "metadata": {},
          "execution_count": 16
        }
      ]
    },
    {
      "cell_type": "code",
      "source": [
        "# 월급이 100원이다. 세금 10%를 제외한 연봉 출력\n",
        "\n",
        "salary = 100\n",
        "year = salary * 12\n",
        "year"
      ],
      "metadata": {
        "colab": {
          "base_uri": "https://localhost:8080/"
        },
        "id": "CwtxHY0c1Q6c",
        "outputId": "2a70d174-9f0b-4437-9573-fe50843b013c"
      },
      "execution_count": null,
      "outputs": [
        {
          "output_type": "execute_result",
          "data": {
            "text/plain": [
              "1200"
            ]
          },
          "metadata": {},
          "execution_count": 66
        }
      ]
    },
    {
      "cell_type": "code",
      "source": [
        "tax = year * 0.1\n",
        "tax"
      ],
      "metadata": {
        "colab": {
          "base_uri": "https://localhost:8080/"
        },
        "id": "HKgxcLuRSP5O",
        "outputId": "617114ec-7afc-4b47-a28f-865214594270"
      },
      "execution_count": null,
      "outputs": [
        {
          "output_type": "execute_result",
          "data": {
            "text/plain": [
              "120.0"
            ]
          },
          "metadata": {},
          "execution_count": 67
        }
      ]
    },
    {
      "cell_type": "code",
      "source": [
        "tyear = year - tax\n",
        "tyear"
      ],
      "metadata": {
        "colab": {
          "base_uri": "https://localhost:8080/"
        },
        "id": "oiuia1Yh2CNj",
        "outputId": "b3119f76-2696-4f8b-f1e9-44589ec2394b"
      },
      "execution_count": null,
      "outputs": [
        {
          "output_type": "execute_result",
          "data": {
            "text/plain": [
              "1080.0"
            ]
          },
          "metadata": {},
          "execution_count": 70
        }
      ]
    },
    {
      "cell_type": "code",
      "source": [
        "f'세금을 제외한 연봉은 {tyear:.0f}입니다.'"
      ],
      "metadata": {
        "colab": {
          "base_uri": "https://localhost:8080/",
          "height": 35
        },
        "id": "mhsiZq30SNsP",
        "outputId": "68ab8c35-3e7d-4c24-fd91-9cd2d496418e"
      },
      "execution_count": null,
      "outputs": [
        {
          "output_type": "execute_result",
          "data": {
            "text/plain": [
              "'세금을 제외한 연봉은 1080입니다.'"
            ],
            "application/vnd.google.colaboratory.intrinsic+json": {
              "type": "string"
            }
          },
          "metadata": {},
          "execution_count": 74
        }
      ]
    },
    {
      "cell_type": "code",
      "source": [
        "# 100초를 1분 40초로 출력\n",
        "s = 100\n",
        "m = s / 60\n",
        "mm = s // 60\n",
        "ss = s % 60\n",
        "print(m)\n",
        "print(mm)\n",
        "print(ss)"
      ],
      "metadata": {
        "colab": {
          "base_uri": "https://localhost:8080/"
        },
        "id": "PipS_czV3DRb",
        "outputId": "3ac9db79-a4f6-430f-8a17-99d68f69d896"
      },
      "execution_count": null,
      "outputs": [
        {
          "output_type": "stream",
          "name": "stdout",
          "text": [
            "1.6666666666666667\n",
            "1\n",
            "40\n"
          ]
        }
      ]
    },
    {
      "cell_type": "code",
      "source": [
        "f'100초는 {mm}분 {ss}초 입니다.'"
      ],
      "metadata": {
        "colab": {
          "base_uri": "https://localhost:8080/",
          "height": 35
        },
        "id": "PrRQmgdo3nZt",
        "outputId": "bd77ba0e-41b7-4809-86fc-bffd98a62730"
      },
      "execution_count": null,
      "outputs": [
        {
          "output_type": "execute_result",
          "data": {
            "text/plain": [
              "'100초는 1분 40초 입니다.'"
            ],
            "application/vnd.google.colaboratory.intrinsic+json": {
              "type": "string"
            }
          },
          "metadata": {},
          "execution_count": 79
        }
      ]
    },
    {
      "cell_type": "code",
      "source": [
        "##\n",
        "time = 100\n",
        "time"
      ],
      "metadata": {
        "colab": {
          "base_uri": "https://localhost:8080/"
        },
        "id": "R-YZsUpk4BSj",
        "outputId": "c5bb510b-7a5d-4bbb-fd3c-872829f13bfe"
      },
      "execution_count": null,
      "outputs": [
        {
          "output_type": "execute_result",
          "data": {
            "text/plain": [
              "100"
            ]
          },
          "metadata": {},
          "execution_count": 81
        }
      ]
    },
    {
      "cell_type": "code",
      "source": [
        "min = 100 // 60\n",
        "min"
      ],
      "metadata": {
        "colab": {
          "base_uri": "https://localhost:8080/"
        },
        "id": "xQyT_lBw4M1T",
        "outputId": "cf329c35-e00f-4f7b-ac53-3e399f7deea6"
      },
      "execution_count": null,
      "outputs": [
        {
          "output_type": "execute_result",
          "data": {
            "text/plain": [
              "1"
            ]
          },
          "metadata": {},
          "execution_count": 84
        }
      ]
    },
    {
      "cell_type": "code",
      "source": [
        "sec= 100 % 60\n",
        "sec"
      ],
      "metadata": {
        "colab": {
          "base_uri": "https://localhost:8080/"
        },
        "id": "VauADQWM4Z6s",
        "outputId": "f032edcb-d7fd-448f-ce06-3826702c5f9a"
      },
      "execution_count": null,
      "outputs": [
        {
          "output_type": "execute_result",
          "data": {
            "text/plain": [
              "40"
            ]
          },
          "metadata": {},
          "execution_count": 85
        }
      ]
    },
    {
      "cell_type": "code",
      "source": [
        "f'100초는 %d 분 %d 초'%(min, sec)"
      ],
      "metadata": {
        "colab": {
          "base_uri": "https://localhost:8080/",
          "height": 35
        },
        "id": "xiqoHMlw4dg0",
        "outputId": "1e0475aa-c8cf-4cfe-8a49-8c696a388545"
      },
      "execution_count": null,
      "outputs": [
        {
          "output_type": "execute_result",
          "data": {
            "text/plain": [
              "'100초는 1 분 40 초'"
            ],
            "application/vnd.google.colaboratory.intrinsic+json": {
              "type": "string"
            }
          },
          "metadata": {},
          "execution_count": 86
        }
      ]
    },
    {
      "cell_type": "code",
      "source": [
        "f'100초는 {min}분{sec}초'"
      ],
      "metadata": {
        "colab": {
          "base_uri": "https://localhost:8080/",
          "height": 35
        },
        "id": "IG7_aK-64sqD",
        "outputId": "856a0c37-c578-40e2-8356-f45998fc4a07"
      },
      "execution_count": null,
      "outputs": [
        {
          "output_type": "execute_result",
          "data": {
            "text/plain": [
              "'100초는 1분40초'"
            ],
            "application/vnd.google.colaboratory.intrinsic+json": {
              "type": "string"
            }
          },
          "metadata": {},
          "execution_count": 88
        }
      ]
    },
    {
      "cell_type": "code",
      "source": [
        "# 800원에서 500원을 제외한 100원의 개수 출력\n",
        "\n",
        "a=[100,100,100,100,100,100,100,100]\n",
        "b=[100,100,100,100,100]\n",
        "len(a), len(b)"
      ],
      "metadata": {
        "colab": {
          "base_uri": "https://localhost:8080/"
        },
        "id": "viV88ncH45YT",
        "outputId": "0f00da26-26fc-4ee3-efbb-67893a6d44b0"
      },
      "execution_count": null,
      "outputs": [
        {
          "output_type": "execute_result",
          "data": {
            "text/plain": [
              "(8, 5)"
            ]
          },
          "metadata": {},
          "execution_count": 47
        }
      ]
    },
    {
      "cell_type": "code",
      "source": [
        "c=len(a)-len(b)\n",
        "print(c)"
      ],
      "metadata": {
        "colab": {
          "base_uri": "https://localhost:8080/"
        },
        "id": "QU0mozZH5cxL",
        "outputId": "b21f30fc-0994-4afe-d392-627a473069ba"
      },
      "execution_count": null,
      "outputs": [
        {
          "output_type": "stream",
          "name": "stdout",
          "text": [
            "3\n"
          ]
        }
      ]
    },
    {
      "cell_type": "code",
      "source": [
        "f'100원의 개수는 {c}개 입니다.'"
      ],
      "metadata": {
        "colab": {
          "base_uri": "https://localhost:8080/",
          "height": 35
        },
        "id": "Bgt16V93UfmW",
        "outputId": "f5a4d5b8-9291-4a21-cb76-9e9e56bf31c7"
      },
      "execution_count": null,
      "outputs": [
        {
          "output_type": "execute_result",
          "data": {
            "text/plain": [
              "'100원의 개수는 3개 입니다.'"
            ],
            "application/vnd.google.colaboratory.intrinsic+json": {
              "type": "string"
            }
          },
          "metadata": {},
          "execution_count": 89
        }
      ]
    },
    {
      "cell_type": "code",
      "source": [
        "##\n",
        "amount = 800\n",
        "excluded = 500\n",
        "\n",
        "remaining = amount - excluded\n",
        "remaining"
      ],
      "metadata": {
        "colab": {
          "base_uri": "https://localhost:8080/"
        },
        "id": "SESjA5Q45t-r",
        "outputId": "c11bc4f2-da58-4b5f-a8fd-28e461374026"
      },
      "execution_count": null,
      "outputs": [
        {
          "output_type": "execute_result",
          "data": {
            "text/plain": [
              "300"
            ]
          },
          "metadata": {},
          "execution_count": 63
        }
      ]
    },
    {
      "cell_type": "code",
      "source": [
        "count_100 = remaining // 100\n",
        "count_100"
      ],
      "metadata": {
        "colab": {
          "base_uri": "https://localhost:8080/"
        },
        "id": "e52BWBL57ZW1",
        "outputId": "ada1d7a7-70a4-42ab-cfea-2c375bcbabf9"
      },
      "execution_count": null,
      "outputs": [
        {
          "output_type": "execute_result",
          "data": {
            "text/plain": [
              "3"
            ]
          },
          "metadata": {},
          "execution_count": 51
        }
      ]
    },
    {
      "cell_type": "code",
      "source": [
        "f'100원의 개수는 {count_100}개 입니다.'"
      ],
      "metadata": {
        "colab": {
          "base_uri": "https://localhost:8080/",
          "height": 35
        },
        "id": "ePHLn94l7f9k",
        "outputId": "50243d3f-4fc1-400b-e865-7b584b88c7d8"
      },
      "execution_count": null,
      "outputs": [
        {
          "output_type": "execute_result",
          "data": {
            "text/plain": [
              "'100원의 개수는 3개 입니다.'"
            ],
            "application/vnd.google.colaboratory.intrinsic+json": {
              "type": "string"
            }
          },
          "metadata": {},
          "execution_count": 52
        }
      ]
    },
    {
      "cell_type": "code",
      "source": [
        "##\n",
        "money = 800\n",
        "coin500 = money / 500\n",
        "coin500"
      ],
      "metadata": {
        "colab": {
          "base_uri": "https://localhost:8080/"
        },
        "id": "ks3qZRYR7ogL",
        "outputId": "062b0b1e-4a20-4b20-993e-77cb577b5d9a"
      },
      "execution_count": null,
      "outputs": [
        {
          "output_type": "execute_result",
          "data": {
            "text/plain": [
              "1.6"
            ]
          },
          "metadata": {},
          "execution_count": 54
        }
      ]
    },
    {
      "cell_type": "code",
      "source": [
        "coin500 = money // 500\n",
        "coin500"
      ],
      "metadata": {
        "colab": {
          "base_uri": "https://localhost:8080/"
        },
        "id": "yRKENbQs8E0t",
        "outputId": "8f752d8f-5570-477a-dc2e-175bbd344db8"
      },
      "execution_count": null,
      "outputs": [
        {
          "output_type": "execute_result",
          "data": {
            "text/plain": [
              "1"
            ]
          },
          "metadata": {},
          "execution_count": 57
        }
      ]
    },
    {
      "cell_type": "code",
      "source": [
        "coin100 = money % 500 // 100\n",
        "coin100"
      ],
      "metadata": {
        "colab": {
          "base_uri": "https://localhost:8080/"
        },
        "id": "hI5prDEX8JCN",
        "outputId": "69bd7424-a0d6-4fd5-a83f-6cb16367a8c7"
      },
      "execution_count": null,
      "outputs": [
        {
          "output_type": "execute_result",
          "data": {
            "text/plain": [
              "3"
            ]
          },
          "metadata": {},
          "execution_count": 58
        }
      ]
    },
    {
      "cell_type": "code",
      "source": [
        "\"800원은 500원 %d개, 100원 %d개\" % (coin500, coin100)"
      ],
      "metadata": {
        "colab": {
          "base_uri": "https://localhost:8080/",
          "height": 35
        },
        "id": "o71wbrio8U6U",
        "outputId": "c1f0e8b2-c6e4-410d-d040-bdde5a9e79f5"
      },
      "execution_count": null,
      "outputs": [
        {
          "output_type": "execute_result",
          "data": {
            "text/plain": [
              "'800원은 500원 1개, 100원 3개'"
            ],
            "application/vnd.google.colaboratory.intrinsic+json": {
              "type": "string"
            }
          },
          "metadata": {},
          "execution_count": 59
        }
      ]
    },
    {
      "cell_type": "code",
      "source": [
        "\"800원은 500원 {0}개, 100원 {1}개\".format(coin500, coin100)"
      ],
      "metadata": {
        "colab": {
          "base_uri": "https://localhost:8080/",
          "height": 35
        },
        "id": "WlAGFEBq8h7k",
        "outputId": "92960aca-2558-4b51-e6c2-015b6c5b12d1"
      },
      "execution_count": null,
      "outputs": [
        {
          "output_type": "execute_result",
          "data": {
            "text/plain": [
              "'800원은 500원 1개, 100원 3개'"
            ],
            "application/vnd.google.colaboratory.intrinsic+json": {
              "type": "string"
            }
          },
          "metadata": {},
          "execution_count": 60
        }
      ]
    },
    {
      "cell_type": "code",
      "source": [
        "f'800원은 500원 {coin500}개, 100원 {coin100}개'"
      ],
      "metadata": {
        "colab": {
          "base_uri": "https://localhost:8080/",
          "height": 35
        },
        "id": "W1ZxUk518sJ8",
        "outputId": "f6af00b1-39e6-43be-87a4-cb5e8dbdfec6"
      },
      "execution_count": null,
      "outputs": [
        {
          "output_type": "execute_result",
          "data": {
            "text/plain": [
              "'800원은 500원 1개, 100원 3개'"
            ],
            "application/vnd.google.colaboratory.intrinsic+json": {
              "type": "string"
            }
          },
          "metadata": {},
          "execution_count": 62
        }
      ]
    },
    {
      "cell_type": "code",
      "source": [
        "# 실행 결과와 같은 결과를 얻기위해서 다음 프로그램의 밑줄 부분을 채워 넣어라\n",
        "color = [\"red\",\"green\",\"blue\",\"black\",\"white\"]\n",
        "\n",
        "print(color[0])\n",
        "print(color[4])\n",
        "print(color[1:4]) # [1:3+1] = [1:4]"
      ],
      "metadata": {
        "colab": {
          "base_uri": "https://localhost:8080/"
        },
        "id": "kPVJaJ_P80lL",
        "outputId": "fc89fede-2437-4964-81da-c33d6f4f8f9e"
      },
      "execution_count": null,
      "outputs": [
        {
          "output_type": "stream",
          "name": "stdout",
          "text": [
            "red\n",
            "white\n",
            "['green', 'blue', 'black']\n"
          ]
        }
      ]
    },
    {
      "cell_type": "code",
      "source": [
        "##\n",
        "animals = [\"사자\", \"호랑이\", \"사슴\", \"곰\"]\n",
        "\n",
        "i = 0\n",
        "while i < 4 :\n",
        "  print(animals[i])\n",
        "  i = i + 1"
      ],
      "metadata": {
        "colab": {
          "base_uri": "https://localhost:8080/"
        },
        "id": "o1YjZGva0Bl3",
        "outputId": "f7aeb24f-194c-4619-e339-1a1413f4c382"
      },
      "execution_count": null,
      "outputs": [
        {
          "output_type": "stream",
          "name": "stdout",
          "text": [
            "사자\n",
            "호랑이\n",
            "사슴\n",
            "곰\n"
          ]
        }
      ]
    },
    {
      "cell_type": "code",
      "source": [
        "#\n",
        "prompt = \"\"\"\n",
        "1. Add\n",
        "2. Del\n",
        "3. List\n",
        "4. Quit\n",
        "\n",
        "Enter number : \"\"\""
      ],
      "metadata": {
        "id": "N-HTePpk2jcY"
      },
      "execution_count": null,
      "outputs": []
    },
    {
      "cell_type": "code",
      "source": [
        "number = 0\n",
        "while number != 4:\n",
        "  print(prompt)\n",
        "  number = int(input())\n"
      ],
      "metadata": {
        "colab": {
          "base_uri": "https://localhost:8080/"
        },
        "id": "Ji49SZvxDZYy",
        "outputId": "3382f565-715e-447c-ecd8-511fdd59c3a6"
      },
      "execution_count": null,
      "outputs": [
        {
          "name": "stdout",
          "output_type": "stream",
          "text": [
            "\n",
            "1. Add\n",
            "2. Del\n",
            "3. List\n",
            "4. Quit\n",
            "\n",
            "Enter number : \n",
            "2\n",
            "\n",
            "1. Add\n",
            "2. Del\n",
            "3. List\n",
            "4. Quit\n",
            "\n",
            "Enter number : \n",
            "3\n",
            "\n",
            "1. Add\n",
            "2. Del\n",
            "3. List\n",
            "4. Quit\n",
            "\n",
            "Enter number : \n",
            "4\n"
          ]
        }
      ]
    },
    {
      "cell_type": "code",
      "source": [
        "##\n",
        "score = int(input(\"성적 입력: \"))\n",
        "print(score >= 60)\n",
        "\n",
        "if 60<= score and score <= 100: # 정수 60~100\n",
        "    print(\"합격\")\n",
        "\n",
        "if score >= 60:\n",
        "    if score <= 100:\n",
        "        print(\"합격\")\n",
        "\n",
        "if 0<= score and score < 60:\n",
        "    print(\"불합격\")\n",
        "\n",
        "if 100 < score or score < 0:\n",
        "    print(\"입력오류\")"
      ],
      "metadata": {
        "colab": {
          "base_uri": "https://localhost:8080/"
        },
        "id": "fKFAiG4uDjj3",
        "outputId": "f9e965a2-4014-4a4e-a2d3-e00acd777eb6"
      },
      "execution_count": null,
      "outputs": [
        {
          "output_type": "stream",
          "name": "stdout",
          "text": [
            "성적 입력: 60\n",
            "True\n",
            "합격\n",
            "합격\n"
          ]
        }
      ]
    },
    {
      "cell_type": "code",
      "source": [
        "# 숫자 한 개를 입력받아 그 수가 양수, 음수, 0 인지 판단해보자.\n",
        "number = int(input(\"숫자 입력: \"))\n",
        "\n",
        "if number > 0 :\n",
        "  print(\"양수\")\n",
        "elif number < 0 :\n",
        "  print(\"음수\")\n",
        "else :\n",
        "  print(\"0\")"
      ],
      "metadata": {
        "colab": {
          "base_uri": "https://localhost:8080/"
        },
        "id": "VXK40ecKEI7v",
        "outputId": "59710c46-22be-4f34-be38-fad335a56d12"
      },
      "execution_count": null,
      "outputs": [
        {
          "output_type": "stream",
          "name": "stdout",
          "text": [
            "숫자 입력: 70\n",
            "양수\n"
          ]
        }
      ]
    },
    {
      "cell_type": "code",
      "source": [
        "# 문제 2) 숫자 한 개를 입력받아\n",
        "#         그 수가 짝수인지 홀수인지 판단해보자.\n",
        "# 힌트 2) 숫자 % 2 == 0     : 짝수\n",
        "#         숫자 % 2 == 1     : 홀수\n",
        "\n",
        "number = int(input(\"숫자 입력:\"))\n",
        "\n",
        "if number % 2 == 0 :\n",
        "   print(\"입력한 숫자는 짝수입니다.\")\n",
        "elif number % 2 == 1 :\n",
        "  print(\"입력한 숫자는 홀수입니다.\")"
      ],
      "metadata": {
        "id": "Q-gtCry_ENZH",
        "colab": {
          "base_uri": "https://localhost:8080/"
        },
        "outputId": "158fbd8d-46c3-4872-809a-409a9800c628"
      },
      "execution_count": null,
      "outputs": [
        {
          "output_type": "stream",
          "name": "stdout",
          "text": [
            "숫자 입력:20\n",
            "입력한 숫자는 짝수입니다.\n"
          ]
        }
      ]
    },
    {
      "cell_type": "code",
      "source": [
        "# 문제 3) 현금을 입력받아, 과자 구입 후의 잔돈을 출력해보자.\n",
        "#         단, 과자 금액보다 현금이 적을 경우, 예외처리\n",
        "snak = 800\n",
        "\n",
        "money = int(input(\"현금 입력 : \"))\n",
        "charge = money - snak\n",
        "\n",
        "if charge >= 0 :\n",
        "  print(\"과자 구입 후의 잔돈은 %d 입니다.\" % charge)\n",
        "else :\n",
        "  print(\"돈이 모자릅니다.\")\n",
        "\n"
      ],
      "metadata": {
        "colab": {
          "base_uri": "https://localhost:8080/"
        },
        "id": "fca21yWSHzj4",
        "outputId": "24d5f7ff-5498-46e4-ee29-1a4da0229ec7"
      },
      "execution_count": null,
      "outputs": [
        {
          "output_type": "stream",
          "name": "stdout",
          "text": [
            "현금 입력 : 300\n",
            "돈이 모자릅니다.\n"
          ]
        }
      ]
    },
    {
      "cell_type": "code",
      "source": [
        "# 과락\n",
        "\n",
        "kor = int(input(\"국어 성적 입력 : \"))\n",
        "eng = int(input(\"영어 성적 입력 : \"))\n",
        "math = int(input(\"수학 성적 입력 : \"))\n",
        "tot = kor + eng + math\n",
        "avg = tot / 3\n",
        "if avg >= 60 :\n",
        "  if kor >= 50 and eng >= 50 and math >= 50 :\n",
        "    print(\"합격\")\n",
        "  elif kor < 50 or eng < 50 or math < 50 :\n",
        "    print(\"불합격(과락)\")\n",
        "if avg < 60 :\n",
        "  print(\"불합격(평균미달)\")"
      ],
      "metadata": {
        "colab": {
          "base_uri": "https://localhost:8080/"
        },
        "id": "zBViz0ynJAuM",
        "outputId": "baa191e7-b4b0-4d38-b77c-1effdafa678a"
      },
      "execution_count": null,
      "outputs": [
        {
          "output_type": "stream",
          "name": "stdout",
          "text": [
            "국어 성적 입력 : 80\n",
            "영어 성적 입력 : 80\n",
            "수학 성적 입력 : 40\n",
            "불합격(과락)\n"
          ]
        }
      ]
    },
    {
      "cell_type": "code",
      "source": [],
      "metadata": {
        "id": "w9DWipojKNI5"
      },
      "execution_count": null,
      "outputs": []
    }
  ]
}